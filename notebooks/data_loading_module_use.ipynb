{
 "cells": [
  {
   "cell_type": "code",
   "execution_count": 1,
   "id": "12c8740d",
   "metadata": {},
   "outputs": [
    {
     "data": {
      "text/html": [
       "<style>.container { width:100% !important; }</style>"
      ],
      "text/plain": [
       "<IPython.core.display.HTML object>"
      ]
     },
     "metadata": {},
     "output_type": "display_data"
    }
   ],
   "source": [
    "from IPython.core.display import display, HTML\n",
    "display(HTML(\"<style>.container { width:100% !important; }</style>\"))"
   ]
  },
  {
   "cell_type": "code",
   "execution_count": 2,
   "id": "2321437e",
   "metadata": {},
   "outputs": [
    {
     "name": "stdout",
     "output_type": "stream",
     "text": [
      "Username: ulcidamh\n",
      "········\n"
     ]
    }
   ],
   "source": [
    "import sys\n",
    "import numpy as np\n",
    "import pandas as pd\n",
    "import matplotlib.pyplot as plt\n",
    "sys.path.append(\"../libraries/\")\n",
    "from data_loading import *\n",
    "from data_extracting import *"
   ]
  },
  {
   "cell_type": "code",
   "execution_count": 3,
   "id": "2e46825c",
   "metadata": {},
   "outputs": [
    {
     "name": "stdout",
     "output_type": "stream",
     "text": [
      "Username: ulcidamh\n",
      "········\n"
     ]
    }
   ],
   "source": [
    "#QPU connection\n",
    "QLMASS = True\n",
    "if QLMASS:\n",
    "    try:\n",
    "        from qat.qlmaas import QLMaaSConnection\n",
    "        connection = QLMaaSConnection()\n",
    "        LinAlg = connection.get_qpu(\"qat.qpus:LinAlg\")\n",
    "        lineal_qpu = LinAlg()\n",
    "    except (ImportError, OSError) as e:\n",
    "        print('Problem: usin PyLinalg')\n",
    "        from qat.qpus import PyLinalg\n",
    "        lineal_qpu = PyLinalg()\n",
    "else:\n",
    "    print('User Forces: LinAlg')\n",
    "    from qat.qpus import LinAlg\n",
    "    lineal_qpu = LinAlg()    "
   ]
  },
  {
   "cell_type": "code",
   "execution_count": 4,
   "id": "b754a590",
   "metadata": {},
   "outputs": [],
   "source": [
    "def draw(routine):\n",
    "    program = qlm.Program()\n",
    "    quantum_register = program.qalloc(routine.arity)\n",
    "    program.apply(routine,quantum_register)\n",
    "    global circuit\n",
    "    circuit = program.to_circ()\n",
    "    %qatdisplay circuit --depth 1\n",
    "    del circuit\n"
   ]
  },
  {
   "cell_type": "markdown",
   "id": "321fdf1f",
   "metadata": {},
   "source": [
    "## 2. Loading Data"
   ]
  },
  {
   "cell_type": "markdown",
   "id": "eac27931",
   "metadata": {},
   "source": [
    "Typically, when we want to load some data into the quantum circuit, we will want to load a discrete probability distribution $p_d$ and an array $f$. First thing we need to define the dimension of the circuit and what we want to load. Here $n$ is the number of qubits and $N = 2^n$ is the size of the discretized probability distribution and the size of the array. In this specific example $n = 3$ and $N = 8$."
   ]
  },
  {
   "cell_type": "code",
   "execution_count": 5,
   "id": "c5d5112b",
   "metadata": {},
   "outputs": [],
   "source": [
    "n = 3\n",
    "N = 2**n\n",
    "x = np.arange(N)"
   ]
  },
  {
   "cell_type": "markdown",
   "id": "adc340ac",
   "metadata": {},
   "source": [
    "Next, we define a discrete probability distribution:\n",
    "\n",
    "$$p_d = \\left(p_0,p_1,p_2,p_3,p_4,p_5,p_6,p_7\\right).$$\n",
    "\n",
    "In this specific example we are going to generate the following probability distribution:\n",
    "\n",
    "$$p_d = \\dfrac{1}{0+1+2+3+4+5+6+7}\\left(0,1,2,3,4,5,6,7\\right),$$\n",
    "which is saved in the variable *probability*."
   ]
  },
  {
   "cell_type": "code",
   "execution_count": 6,
   "id": "2e846a51",
   "metadata": {},
   "outputs": [],
   "source": [
    "probability = x/np.sum(x)"
   ]
  },
  {
   "cell_type": "markdown",
   "id": "4bb7c7e3",
   "metadata": {},
   "source": [
    "Finally we define an array:\n",
    "$$f = \\left(f_0,f_1,f_2,f_3,f_4,f_5,f_6,f_7\\right).$$\n",
    "Later, it will become useful to have a normalised version of this function that we will call $\\hat{f}$. This new function $\\hat{f}$ has the main characteristic that where the maximum absolute value of the function is one $||\\hat{f}||_{\\infty} = 1$:\n",
    "$$\\hat{f} = \\dfrac{f}{||f||_{\\infty}} = \\left(\\hat{f}_0,\\hat{f}_1,\\hat{f}_2,\\hat{f}_3,\\hat{f}_4,\\hat{f}_5,\\hat{f}_6,\\hat{f}_7\\right).$$\n",
    "In the code, this is the reason why we introduce the variable *normalization_constant* $=||f||_{\\infty}$.\n",
    "\n",
    "In this specific example we choose $f$ to simply be:\n",
    "$$f = \\left(0,1,2,3,4,5,6,7\\right).$$\n",
    "Hence, $\\hat{f}$ is:\n",
    "$$\\hat{f} = \\dfrac{f}{||f||_{\\infty}} = \\dfrac{1}{7}\\left(0,1,2,3,4,5,6,7\\right).$$\n"
   ]
  },
  {
   "cell_type": "code",
   "execution_count": 7,
   "id": "8be4d5a2",
   "metadata": {},
   "outputs": [],
   "source": [
    "normalization_constant = np.max(x)\n",
    "f = x\n",
    "f_normalised = x/normalization_constant"
   ]
  },
  {
   "cell_type": "markdown",
   "id": "cc32a4e2",
   "metadata": {},
   "source": [
    "### 1.1 Loading Probability"
   ]
  },
  {
   "cell_type": "markdown",
   "id": "8ca4a398",
   "metadata": {},
   "source": [
    "To load a discrete probability distribution we just need the function **load_probability**, which inside the **data_loading** module. The input should be a numpy array with the probability distribution that we want to load into the quantum state. In this case the probability distribution is the variable *probability*. The output of the function is a **qlm** *AbstractGate* with arity *n*. "
   ]
  },
  {
   "cell_type": "code",
   "execution_count": 8,
   "id": "d03a00bf",
   "metadata": {
    "scrolled": true
   },
   "outputs": [],
   "source": [
    "routine = load_probability(probability)"
   ]
  },
  {
   "cell_type": "markdown",
   "id": "9f2d5768",
   "metadata": {},
   "source": [
    "Now, our quantum state has the form:\n",
    "$$\\left[\\sqrt{p_0}|0\\rangle+\\sqrt{p_1}|1\\rangle+\\sqrt{p_2}|2\\rangle+\\sqrt{p_3}|3\\rangle+\\sqrt{p_4}|4\\rangle+\\sqrt{p_5}|5\\rangle+\\sqrt{p_6}|6\\rangle+\\sqrt{p_7}|7\\rangle\\right]$$\n",
    "The corresponding circuit can be visualized directly passing the qlm routine *routine* to the function *draw*."
   ]
  },
  {
   "cell_type": "code",
   "execution_count": 9,
   "id": "c6b53c60",
   "metadata": {
    "scrolled": true
   },
   "outputs": [
    {
     "data": {
      "image/png": "[encoded data removed]",
      "text/plain": [
       "<IPython.core.display.Image object>"
      ]
     },
     "execution_count": 9,
     "metadata": {},
     "output_type": "execute_result"
    }
   ],
   "source": [
    "draw(routine)"
   ]
  },
  {
   "cell_type": "markdown",
   "id": "5e4b04ac",
   "metadata": {},
   "source": [
    "Last, we use the function *measure_probabilities* to obtain the probabilities loaded into the quantum circuit. By the quantum properties, what we are measuring is:\n",
    "$$\\left(\\sqrt{p_0}^2,\\sqrt{p_1}^2,\\sqrt{p_2}^2,\\sqrt{p_3}^2,\\sqrt{p_4}^2,\\sqrt{p_5}^2,\\sqrt{p_6}^2,\\sqrt{p_7}^2\\right) = \\left(p_0,p_1,p_2,p_3,p_4,p_5,p_6,p_7\\right)$$"
   ]
  },
  {
   "cell_type": "code",
   "execution_count": 10,
   "id": "7f9e1528",
   "metadata": {
    "scrolled": true
   },
   "outputs": [
    {
     "name": "stdout",
     "output_type": "stream",
     "text": [
      "Submitted a new batch: Job5330\n"
     ]
    },
    {
     "ename": "KeyboardInterrupt",
     "evalue": "",
     "output_type": "error",
     "traceback": [
      "\u001b[0;31m---------------------------------------------------------------------------\u001b[0m",
      "\u001b[0;31mKeyboardInterrupt\u001b[0m                         Traceback (most recent call last)",
      "\u001b[0;32m/tmp/ipykernel_1159790/1663210704.py\u001b[0m in \u001b[0;36m<module>\u001b[0;34m\u001b[0m\n\u001b[0;32m----> 1\u001b[0;31m \u001b[0mquantum_probabilities\u001b[0m \u001b[0;34m=\u001b[0m \u001b[0mmeasure_probabilities\u001b[0m\u001b[0;34m(\u001b[0m\u001b[0mroutine\u001b[0m\u001b[0;34m)\u001b[0m\u001b[0;34m\u001b[0m\u001b[0;34m\u001b[0m\u001b[0m\n\u001b[0m\u001b[1;32m      2\u001b[0m \u001b[0mprint\u001b[0m\u001b[0;34m(\u001b[0m\u001b[0;34m\"Quantum probabilities: \"\u001b[0m\u001b[0;34m,\u001b[0m\u001b[0mquantum_probabilities\u001b[0m\u001b[0;34m)\u001b[0m\u001b[0;34m\u001b[0m\u001b[0;34m\u001b[0m\u001b[0m\n\u001b[1;32m      3\u001b[0m \u001b[0mprint\u001b[0m\u001b[0;34m(\u001b[0m\u001b[0;34m\"Classical probabilities: \"\u001b[0m\u001b[0;34m,\u001b[0m\u001b[0mprobability\u001b[0m\u001b[0;34m)\u001b[0m\u001b[0;34m\u001b[0m\u001b[0;34m\u001b[0m\u001b[0m\n",
      "\u001b[0;32m~/qlm_notebooks/notebooks_1.5.1/QuantumComputing/libraries/data_extracting.py\u001b[0m in \u001b[0;36mmeasure_probabilities\u001b[0;34m(gate, shots)\u001b[0m\n\u001b[1;32m     21\u001b[0m     \u001b[0mresult\u001b[0m \u001b[0;34m=\u001b[0m \u001b[0mlinalg_qpu\u001b[0m\u001b[0;34m.\u001b[0m\u001b[0msubmit\u001b[0m\u001b[0;34m(\u001b[0m\u001b[0mjob\u001b[0m\u001b[0;34m)\u001b[0m\u001b[0;34m\u001b[0m\u001b[0;34m\u001b[0m\u001b[0m\n\u001b[1;32m     22\u001b[0m     \u001b[0;32mif\u001b[0m \u001b[0;32mnot\u001b[0m \u001b[0misinstance\u001b[0m\u001b[0;34m(\u001b[0m\u001b[0mresult\u001b[0m\u001b[0;34m,\u001b[0m\u001b[0mResult\u001b[0m\u001b[0;34m)\u001b[0m\u001b[0;34m:\u001b[0m\u001b[0;34m\u001b[0m\u001b[0;34m\u001b[0m\u001b[0m\n\u001b[0;32m---> 23\u001b[0;31m         \u001b[0mresult\u001b[0m \u001b[0;34m=\u001b[0m \u001b[0mresult\u001b[0m\u001b[0;34m.\u001b[0m\u001b[0mjoin\u001b[0m\u001b[0;34m(\u001b[0m\u001b[0;34m)\u001b[0m\u001b[0;34m\u001b[0m\u001b[0;34m\u001b[0m\u001b[0m\n\u001b[0m\u001b[1;32m     24\u001b[0m \u001b[0;34m\u001b[0m\u001b[0m\n\u001b[1;32m     25\u001b[0m     \u001b[0;31m# Result\u001b[0m\u001b[0;34m\u001b[0m\u001b[0;34m\u001b[0m\u001b[0;34m\u001b[0m\u001b[0m\n",
      "\u001b[0;32m/usr/lib64/python3.9/site-packages/qat/qlmaas/result.so\u001b[0m in \u001b[0;36mqat.qlmaas.result.AsyncResult.join\u001b[0;34m()\u001b[0m\n",
      "\u001b[0;31mKeyboardInterrupt\u001b[0m: "
     ]
    }
   ],
   "source": [
    "quantum_probabilities = measure_probabilities(routine)\n",
    "print(\"Quantum probabilities: \",quantum_probabilities)\n",
    "print(\"Classical probabilities: \",probability)"
   ]
  },
  {
   "cell_type": "markdown",
   "id": "b88b6c28",
   "metadata": {},
   "source": [
    "In order to work properly, the function *load_probabilities* has to be the first gate of the whole circuit."
   ]
  },
  {
   "cell_type": "markdown",
   "id": "c8f13706",
   "metadata": {},
   "source": [
    "### 1.2 Loading Function"
   ]
  },
  {
   "cell_type": "markdown",
   "id": "ae5c6477",
   "metadata": {},
   "source": [
    "To load an array we need more steps than in the previous example. We first need to load a probability distribution in the state and reserve an extra qubit for loading the function. Here we don't want to focus on the part of loading a probability distribution as it has been already treated in the previous subsection, for that reason we will simply call the function *uniform_distribution*."
   ]
  },
  {
   "cell_type": "code",
   "execution_count": 11,
   "id": "ea462c4f",
   "metadata": {},
   "outputs": [],
   "source": [
    "routine = QRoutine()\n",
    "register = routine.new_wires(n+1)\n",
    "routine.apply(uniform_distribution(n),register[:n])"
   ]
  },
  {
   "cell_type": "markdown",
   "id": "9ae54d06",
   "metadata": {},
   "source": [
    "Our circuit has the form:"
   ]
  },
  {
   "cell_type": "code",
   "execution_count": 12,
   "id": "96629eb2",
   "metadata": {},
   "outputs": [
    {
     "data": {
      "image/png": "[encoded data removed]",
      "text/plain": [
       "<IPython.core.display.Image object>"
      ]
     },
     "execution_count": 12,
     "metadata": {},
     "output_type": "execute_result"
    }
   ],
   "source": [
    "draw(routine)"
   ]
  },
  {
   "cell_type": "markdown",
   "id": "439ae5a2",
   "metadata": {},
   "source": [
    "And the state now loaded in the circuit is:\n",
    "$$\\dfrac{1}{\\sqrt{N}}|0\\rangle\\left[|0\\rangle+|1\\rangle+|2\\rangle+|3\\rangle+|4\\rangle+|5\\rangle+|6\\rangle+|7\\rangle\\right]$$\n",
    "The next step is loading our function. For that purpose we need to compute the associated angles:\n",
    "$$ \\left(\\theta_0,\\theta_1,\\theta_2,\\theta_3,\\theta_4,\\theta_5,\\theta_6,\\theta_7\\right)= \\theta =2\\arccos\\left(\\hat{f}\\right)=\\left(2\\arccos\\left(\\hat{f}_0\\right),2\\arccos\\left(\\hat{f}_1\\right),2\\arccos\\left(\\hat{f}_2\\right),2\\arccos\\left(\\hat{f}_3\\right),2\\arccos\\left(\\hat{f}_4\\right),2\\arccos\\left(\\hat{f}_5\\right),2\\arccos\\left(\\hat{f}_6\\right),2\\arccos\\left(\\hat{f}_7\\right)\\right)$$\n",
    "This is the reason why we need to work with the normalised version of function $f$."
   ]
  },
  {
   "cell_type": "code",
   "execution_count": 13,
   "id": "0a8f4275",
   "metadata": {},
   "outputs": [],
   "source": [
    "angles = 2*np.arccos(f_normalised)"
   ]
  },
  {
   "cell_type": "markdown",
   "id": "3b8b7c5c",
   "metadata": {},
   "source": [
    "To load an array we will use the function **load_angles**, which inside the **data_loading** module. The input should be a numpy array with the angles asociated to the normalised function $\\hat{f}$. In this case the probability distribution is the variable *probability*. The output of the function is a **qlm** *AbstractGate* with arity *n*."
   ]
  },
  {
   "cell_type": "markdown",
   "id": "1e6aec85",
   "metadata": {},
   "source": [
    "Next, we load the angles into the quantum state. For that we have the function *load_angles*, these function admits a second argument called *method*. By default it is set to *multiplexors*, but it can also have the value *brute_force*. The second option is much less efficient in terms of quantum gates."
   ]
  },
  {
   "cell_type": "code",
   "execution_count": 14,
   "id": "a7110bfb",
   "metadata": {},
   "outputs": [],
   "source": [
    "routine.apply(load_angles(angles),register)"
   ]
  },
  {
   "cell_type": "markdown",
   "id": "abdc2459",
   "metadata": {},
   "source": [
    "Now, our quantum state has the form:\n",
    "$$\\dfrac{1}{\\sqrt{N}}|0\\rangle\\left[\\cos\\left(\\dfrac{\\theta_0}{2}\\right)|0\\rangle+\\cos\\left(\\dfrac{\\theta_1}{2}\\right)|1\\rangle+\\cos\\left(\\dfrac{\\theta_2}{2}\\right)|2\\rangle+\\cos\\left(\\dfrac{\\theta_3}{2}\\right)|3\\rangle+\\cos\\left(\\dfrac{\\theta_4}{2}\\right)|4\\rangle+\\cos\\left(\\dfrac{\\theta_5}{2}\\right)|5\\rangle+\\cos\\left(\\dfrac{\\theta_6}{2}\\right)|6\\rangle+\\cos\\left(\\dfrac{\\theta_7}{2}\\right)|7\\rangle\\right]+...,$$\n",
    "substituting the value of the angles we have the state\n",
    "$$\\dfrac{1}{\\sqrt{N}}|0\\rangle\\left[\\hat{f}_0|0\\rangle+\\hat{f}_1|1\\rangle+\\hat{f}_2|2\\rangle+\\hat{f}_3|3\\rangle+\\hat{f}_4|4\\rangle+\\hat{f}_5|5\\rangle+\\hat{f}_6|6\\rangle+\\hat{f}_7|7\\rangle\\right]+...$$\n",
    "The associated circuit is:"
   ]
  },
  {
   "cell_type": "code",
   "execution_count": 15,
   "id": "4095d04f",
   "metadata": {},
   "outputs": [
    {
     "data": {
      "image/png": "[encoded data removed]",
      "text/plain": [
       "<IPython.core.display.Image object>"
      ]
     },
     "execution_count": 15,
     "metadata": {},
     "output_type": "execute_result"
    }
   ],
   "source": [
    "draw(routine)"
   ]
  },
  {
   "cell_type": "markdown",
   "id": "0628cce3",
   "metadata": {},
   "source": [
    "Finally, we measure the probabilities that we have loaded."
   ]
  },
  {
   "cell_type": "code",
   "execution_count": 17,
   "id": "c7160383",
   "metadata": {},
   "outputs": [
    {
     "ename": "QPUException",
     "evalue": "QPUException(code=15, modulename='qat.resourcemanager', message='Not enough resources for this job.  Please consider reducing some parameter to fit in available resource.', file=None, line=None)",
     "output_type": "error",
     "traceback": [
      "\u001b[0;31m---------------------------------------------------------------------------\u001b[0m",
      "\u001b[0;31mQPUException\u001b[0m                              Traceback (most recent call last)",
      "\u001b[0;32m/tmp/ipykernel_864529/3391715222.py\u001b[0m in \u001b[0;36m<module>\u001b[0;34m\u001b[0m\n\u001b[0;32m----> 1\u001b[0;31m \u001b[0mquantum_probabilities\u001b[0m \u001b[0;34m=\u001b[0m \u001b[0mmeasure_probabilities\u001b[0m\u001b[0;34m(\u001b[0m\u001b[0mroutine\u001b[0m\u001b[0;34m)\u001b[0m\u001b[0;34m\u001b[0m\u001b[0;34m\u001b[0m\u001b[0m\n\u001b[0m",
      "\u001b[0;32m~/qlm_notebooks/notebooks_1.5.1/QuantumComputing/libraries/data_extracting.py\u001b[0m in \u001b[0;36mmeasure_probabilities\u001b[0;34m(gate, shots)\u001b[0m\n\u001b[1;32m     15\u001b[0m     \u001b[0mjob\u001b[0m \u001b[0;34m=\u001b[0m \u001b[0mcircuit\u001b[0m\u001b[0;34m.\u001b[0m\u001b[0mto_job\u001b[0m\u001b[0;34m(\u001b[0m\u001b[0mnbshots\u001b[0m \u001b[0;34m=\u001b[0m \u001b[0mshots\u001b[0m\u001b[0;34m)\u001b[0m\u001b[0;34m\u001b[0m\u001b[0;34m\u001b[0m\u001b[0m\n\u001b[1;32m     16\u001b[0m     \u001b[0mlinalg_qpu\u001b[0m \u001b[0;34m=\u001b[0m \u001b[0mLinAlg\u001b[0m\u001b[0;34m(\u001b[0m\u001b[0;34m)\u001b[0m\u001b[0;34m\u001b[0m\u001b[0;34m\u001b[0m\u001b[0m\n\u001b[0;32m---> 17\u001b[0;31m     \u001b[0mresult\u001b[0m \u001b[0;34m=\u001b[0m \u001b[0mlinalg_qpu\u001b[0m\u001b[0;34m.\u001b[0m\u001b[0msubmit\u001b[0m\u001b[0;34m(\u001b[0m\u001b[0mjob\u001b[0m\u001b[0;34m)\u001b[0m\u001b[0;34m\u001b[0m\u001b[0;34m\u001b[0m\u001b[0m\n\u001b[0m\u001b[1;32m     18\u001b[0m     \u001b[0;32mif\u001b[0m \u001b[0;32mnot\u001b[0m \u001b[0misinstance\u001b[0m\u001b[0;34m(\u001b[0m\u001b[0mresult\u001b[0m\u001b[0;34m,\u001b[0m\u001b[0mResult\u001b[0m\u001b[0;34m)\u001b[0m\u001b[0;34m:\u001b[0m\u001b[0;34m\u001b[0m\u001b[0;34m\u001b[0m\u001b[0m\n\u001b[1;32m     19\u001b[0m         \u001b[0mresult\u001b[0m \u001b[0;34m=\u001b[0m \u001b[0mresult\u001b[0m\u001b[0;34m.\u001b[0m\u001b[0mjoin\u001b[0m\u001b[0;34m(\u001b[0m\u001b[0;34m)\u001b[0m\u001b[0;34m\u001b[0m\u001b[0;34m\u001b[0m\u001b[0m\n",
      "\u001b[0;32m/usr/lib64/python3.9/site-packages/qat/core/qpu/qpu.so\u001b[0m in \u001b[0;36mqat.core.qpu.qpu.CommonQPU.submit\u001b[0;34m()\u001b[0m\n",
      "\u001b[0;32m/usr/lib64/python3.9/site-packages/qat/resourcemanager/convenience_contextmanager.so\u001b[0m in \u001b[0;36mqat.resourcemanager.convenience_contextmanager.ResourceManagement.__enter__\u001b[0;34m()\u001b[0m\n",
      "\u001b[0;32m/usr/lib64/python3.9/site-packages/qat/resourcemanager/resourcemanagement_client.so\u001b[0m in \u001b[0;36mqat.resourcemanager.resourcemanagement_client.ResourceManagementClient.perform_resource_management_for_batch\u001b[0;34m()\u001b[0m\n",
      "\u001b[0;31mQPUException\u001b[0m: QPUException(code=15, modulename='qat.resourcemanager', message='Not enough resources for this job.  Please consider reducing some parameter to fit in available resource.', file=None, line=None)"
     ]
    }
   ],
   "source": [
    "quantum_probabilities = measure_probabilities(routine)"
   ]
  },
  {
   "cell_type": "markdown",
   "id": "77d50f66",
   "metadata": {},
   "source": [
    "By the quantum properties, the result stored in the variable *quantum_probabilities* is the absolute value of the square of $\\hat{f}$ divided by $N$, that is:\n",
    "$$p = \\dfrac{1}{N}\\left(\\hat{f}_0^2,\\hat{f}_1^2,\\hat{f}_2^2,\\hat{f}_3^2,\\hat{f}_4^2,\\hat{f}_5^2,\\hat{f}_6^2,\\hat{f}_7^2,...\\right)$$\n",
    "There is more information stored in the variable, but we don't need it."
   ]
  },
  {
   "cell_type": "markdown",
   "id": "67715d00",
   "metadata": {},
   "source": [
    "If we want to recover the function $f$ we need to compute the square root of the probabilities and multiplicate by $N$ and by the normalization constant:\n",
    "$$f_i = N||f||_{\\infty}\\sqrt{p_i}$$"
   ]
  },
  {
   "cell_type": "code",
   "execution_count": 18,
   "id": "a0c39f69",
   "metadata": {},
   "outputs": [
    {
     "ename": "NameError",
     "evalue": "name 'quantum_probabilities' is not defined",
     "output_type": "error",
     "traceback": [
      "\u001b[0;31m---------------------------------------------------------------------------\u001b[0m",
      "\u001b[0;31mNameError\u001b[0m                                 Traceback (most recent call last)",
      "\u001b[0;32m/tmp/ipykernel_864529/1846263591.py\u001b[0m in \u001b[0;36m<module>\u001b[0;34m\u001b[0m\n\u001b[0;32m----> 1\u001b[0;31m \u001b[0mquantum_f\u001b[0m \u001b[0;34m=\u001b[0m \u001b[0mnp\u001b[0m\u001b[0;34m.\u001b[0m\u001b[0msqrt\u001b[0m\u001b[0;34m(\u001b[0m\u001b[0mquantum_probabilities\u001b[0m\u001b[0;34m)\u001b[0m\u001b[0;34m*\u001b[0m\u001b[0mnp\u001b[0m\u001b[0;34m.\u001b[0m\u001b[0msqrt\u001b[0m\u001b[0;34m(\u001b[0m\u001b[0mN\u001b[0m\u001b[0;34m)\u001b[0m\u001b[0;34m*\u001b[0m\u001b[0mnormalization_constant\u001b[0m\u001b[0;34m\u001b[0m\u001b[0;34m\u001b[0m\u001b[0m\n\u001b[0m\u001b[1;32m      2\u001b[0m \u001b[0mprint\u001b[0m\u001b[0;34m(\u001b[0m\u001b[0;34m\"Array loaded in the quantum state: \"\u001b[0m\u001b[0;34m,\u001b[0m\u001b[0mquantum_f\u001b[0m\u001b[0;34m[\u001b[0m\u001b[0;34m:\u001b[0m\u001b[0mN\u001b[0m\u001b[0;34m]\u001b[0m\u001b[0;34m)\u001b[0m\u001b[0;34m\u001b[0m\u001b[0;34m\u001b[0m\u001b[0m\n\u001b[1;32m      3\u001b[0m \u001b[0mprint\u001b[0m\u001b[0;34m(\u001b[0m\u001b[0;34m\"Original array: \"\u001b[0m\u001b[0;34m,\u001b[0m\u001b[0mf\u001b[0m\u001b[0;34m)\u001b[0m\u001b[0;34m\u001b[0m\u001b[0;34m\u001b[0m\u001b[0m\n",
      "\u001b[0;31mNameError\u001b[0m: name 'quantum_probabilities' is not defined"
     ]
    }
   ],
   "source": [
    "quantum_f = np.sqrt(quantum_probabilities)*np.sqrt(N)*normalization_constant\n",
    "print(\"Array loaded in the quantum state: \",quantum_f[:N])\n",
    "print(\"Original array: \",f)\n"
   ]
  },
  {
   "cell_type": "markdown",
   "id": "8bbc8c3e",
   "metadata": {},
   "source": [
    "### 2.3 Loading a function upon a non trivial probability distribution"
   ]
  },
  {
   "cell_type": "markdown",
   "id": "13d6b494",
   "metadata": {},
   "source": [
    "Now we are going to load a discrete probability distribution $p_d$ and an array $f$ altogether. This case is a combination of the two previous cases. First we start by loading the discrete probability distribution $p_d$. Note that, for loading the normalised array $\\hat{f}$ we need an extra qubit. The probability function is loaded just in the first three registers: \n"
   ]
  },
  {
   "cell_type": "code",
   "execution_count": 92,
   "id": "c00fdf11",
   "metadata": {},
   "outputs": [
    {
     "data": {
      "image/png": "[encoded data removed]",
      "text/plain": [
       "<IPython.core.display.Image object>"
      ]
     },
     "execution_count": 92,
     "metadata": {},
     "output_type": "execute_result"
    }
   ],
   "source": [
    "routine = QRoutine()\n",
    "register = routine.new_wires(n+1)\n",
    "routine.apply(load_probability(probability),register[:n])\n",
    "draw(routine)"
   ]
  },
  {
   "cell_type": "markdown",
   "id": "bfb5f0c0",
   "metadata": {},
   "source": [
    "Now our quantum state is:\n",
    "$$|0\\rangle\\left[\\sqrt{p_0}|0\\rangle+\\sqrt{p_1}|1\\rangle+\\sqrt{p_2}|2\\rangle+\\sqrt{p_3}|3\\rangle+\\sqrt{p_4}|4\\rangle+\\sqrt{p_5}|5\\rangle+\\sqrt{p_6}|6\\rangle+\\sqrt{p_7}|7\\rangle\\right]$$"
   ]
  },
  {
   "cell_type": "markdown",
   "id": "225d9d40",
   "metadata": {},
   "source": [
    "Next we compute the angles and load the function. Instead of loading $\\hat{f}$ we are going to load $\\sqrt{\\hat{f}}$ to have everything in the same pace."
   ]
  },
  {
   "cell_type": "code",
   "execution_count": 93,
   "id": "7a78eb54",
   "metadata": {},
   "outputs": [
    {
     "data": {
      "image/png": "[encoded data removed]",
      "text/plain": [
       "<IPython.core.display.Image object>"
      ]
     },
     "execution_count": 93,
     "metadata": {},
     "output_type": "execute_result"
    }
   ],
   "source": [
    "f_root = np.sqrt(f_normalised)\n",
    "angles = 2*np.arccos(f_root)\n",
    "routine.apply(load_angles(angles),register)\n",
    "draw(routine)"
   ]
  },
  {
   "cell_type": "markdown",
   "id": "617f923c",
   "metadata": {},
   "source": [
    "Now our quantum state is:\n",
    "$$|0\\rangle\\left[\\sqrt{p_0\\hat{f}_0}|0\\rangle+\\sqrt{p_1\\hat{f}_1}|1\\rangle+\\sqrt{p_2\\hat{f}_2}|2\\rangle+\\sqrt{p_3\\hat{f}_3}|3\\rangle+\\sqrt{p_4\\hat{f}_4}|4\\rangle+\\sqrt{p_5\\hat{f}_5}|5\\rangle+\\sqrt{p_6\\hat{f}_6}|6\\rangle+\\sqrt{p_7\\hat{f}_7}|7\\rangle\\right]+...$$\n",
    "If we measure again, we can compare our result with the element-wise product of $p_d$ and $f$"
   ]
  },
  {
   "cell_type": "code",
   "execution_count": 94,
   "id": "5f610c33",
   "metadata": {},
   "outputs": [
    {
     "name": "stdout",
     "output_type": "stream",
     "text": [
      "Quantum result:  [0.         0.03571429 0.14285714 0.32142857 0.57142857 0.89285714\n",
      " 1.28571429 1.75      ]\n",
      "Classical result:  [0.         0.03571429 0.14285714 0.32142857 0.57142857 0.89285714\n",
      " 1.28571429 1.75      ]\n"
     ]
    }
   ],
   "source": [
    "quantum_result = measure_probabilities(routine)*normalization_constant\n",
    "print(\"Quantum result: \",quantum_result[0:N])\n",
    "print(\"Classical result: \",probability*f)"
   ]
  },
  {
   "cell_type": "markdown",
   "id": "0dac70a0",
   "metadata": {},
   "source": [
    "If we wanted to compute the scalar product from the previous technique, we can use a neat trick. If we just measure the last qubit (the one that is more on the left in the state or the one that is at the bottom in the circuit) we are effectively computing this amount:"
   ]
  },
  {
   "cell_type": "code",
   "execution_count": 110,
   "id": "e6c01db3",
   "metadata": {},
   "outputs": [
    {
     "data": {
      "image/png": "[encoded data removed]",
      "text/plain": [
       "<IPython.core.display.Image object>"
      ]
     },
     "execution_count": 110,
     "metadata": {},
     "output_type": "execute_result"
    }
   ],
   "source": [
    "program = qlm.Program()\n",
    "qubits = program.qalloc(n+1)\n",
    "program.apply(routine,qubits)\n",
    "circuit = program.to_circ()\n",
    "%qatdisplay circuit"
   ]
  },
  {
   "cell_type": "code",
   "execution_count": 123,
   "id": "d7684a9e",
   "metadata": {},
   "outputs": [
    {
     "name": "stdout",
     "output_type": "stream",
     "text": [
      "Quantum result:  4.999999999999999\n",
      "Classical result:  5.0\n"
     ]
    }
   ],
   "source": [
    "job = circuit.to_job(qubits=[n])\n",
    "linalg_qpu = LinAlg()\n",
    "result = linalg_qpu.submit(job)\n",
    "if not isinstance(result,Result):\n",
    "    result = result.join()\n",
    "\n",
    "    # Result\n",
    "result_array = np.zeros(2)\n",
    "for sample in result:\n",
    "    result_array[sample.state.lsb_int] = sample.probability\n",
    "print(\"Quantum result: \",result_array[0]*normalization_constant)\n",
    "print(\"Classical result: \",np.dot(probability,f))"
   ]
  },
  {
   "cell_type": "markdown",
   "id": "24eeb1e0",
   "metadata": {},
   "source": [
    "## 2.4 Loading two arrays"
   ]
  },
  {
   "cell_type": "markdown",
   "id": "16a5adb9",
   "metadata": {},
   "source": [
    "In our final example we are going to load two arrays $f$ and $g = p_d$. To load two arrays we need two extra qubits, one for the first array and another for the second one. We start again by defining our base routine with size $n+2$. As we always need to load a base distribution we load a uniform probability distribution."
   ]
  },
  {
   "cell_type": "code",
   "execution_count": 83,
   "id": "e2f957d7",
   "metadata": {},
   "outputs": [
    {
     "data": {
      "image/png": "[encoded data removed]",
      "text/plain": [
       "<IPython.core.display.Image object>"
      ]
     },
     "execution_count": 83,
     "metadata": {},
     "output_type": "execute_result"
    }
   ],
   "source": [
    "g = probability\n",
    "routine = QRoutine()\n",
    "register = routine.new_wires(n+2)\n",
    "routine.apply(uniform_distribution(n),register[:n])\n",
    "draw(routine)"
   ]
  },
  {
   "cell_type": "markdown",
   "id": "ba3174e6",
   "metadata": {},
   "source": [
    "We already have defined the normalised version of $f$, $\\hat{f}$ which is stored in the variable *f_normalised*. But the discrete probability distribution $p_d$ is not normalised. For this reason we define the normalised version as:\n",
    "$$\\hat{g} = \\dfrac{g}{||g||_{\\infty}}.$$"
   ]
  },
  {
   "cell_type": "code",
   "execution_count": 84,
   "id": "82709478",
   "metadata": {},
   "outputs": [],
   "source": [
    "g_normalised = g/np.max(g)"
   ]
  },
  {
   "cell_type": "markdown",
   "id": "963fa3c2",
   "metadata": {},
   "source": [
    "Next, we have to compute the associated angles for $\\hat{f}$ and $\\hat{g}$:\n",
    "$$\\theta_f = 2\\arccos\\left(\\hat{f}\\right),$$\n",
    "$$\\theta_g = 2\\arccos\\left(\\hat{g}\\right).$$"
   ]
  },
  {
   "cell_type": "code",
   "execution_count": 86,
   "id": "e4b6914e",
   "metadata": {},
   "outputs": [],
   "source": [
    "theta_f = 2*np.arccos(f_normalised)\n",
    "theta_g = 2*np.arccos(g_normalised)"
   ]
  },
  {
   "cell_type": "markdown",
   "id": "13a41959",
   "metadata": {},
   "source": [
    "Now we have to load the angles into the circuit. Because we have two functions instead of one, we are going to load the first function in the first reserved register and the second one in the second reserved register."
   ]
  },
  {
   "cell_type": "code",
   "execution_count": 87,
   "id": "7b5f3c5f",
   "metadata": {},
   "outputs": [],
   "source": [
    "routine.apply(load_angles(theta_f),register[0:n],register[n])\n",
    "routine.apply(load_angles(theta_g),register[0:n],register[n+1])\n",
    "draw(routine)"
   ]
  },
  {
   "cell_type": "markdown",
   "id": "96708476",
   "metadata": {},
   "source": [
    "Now our quantum state is:\n",
    "$$\\dfrac{1}{\\sqrt{N}}|0\\rangle|0\\rangle\\left[f_0 g_0|0\\rangle+f_1 g_1|1\\rangle+f_2 g_2|2\\rangle+f_3 g_3|3\\rangle+f_4 g_4|4\\rangle+f_5 g_5|5\\rangle+f_6 g_6|6\\rangle+f_7 g_7|7\\rangle\\right]+...$$\n",
    "If we measure again, we can compare our result with the element-wise product of $g$ and $f$"
   ]
  },
  {
   "cell_type": "code",
   "execution_count": 124,
   "id": "b5117470",
   "metadata": {},
   "outputs": [
    {
     "name": "stdout",
     "output_type": "stream",
     "text": [
      "Quantum result:  [0.         0.35355339 0.70710678 1.06066017 1.41421356 1.76776695\n",
      " 2.12132034 2.47487373]\n",
      "Classical result:  [0.         0.03571429 0.14285714 0.32142857 0.57142857 0.89285714\n",
      " 1.28571429 1.75      ]\n"
     ]
    }
   ],
   "source": [
    "quantum_result = np.sqrt(measure_probabilities(routine)*N)*np.max(f)*np.max(g)\n",
    "classical_result = f*g\n",
    "print(\"Quantum result: \",quantum_result[:N])\n",
    "print(\"Classical result: \",classical_result)"
   ]
  },
  {
   "cell_type": "markdown",
   "id": "ce80fe2b",
   "metadata": {},
   "source": [
    "If we want to compute the scalar product from our state we simply need to do a Hadamard transform. The first coefficient of the Hadamard transform is the sum of input vector, in other words, our previous state:\n",
    "\n",
    "$$\\dfrac{1}{\\sqrt{N}}|0\\rangle|0\\rangle\\left[f_0 g_0|0\\rangle+f_1 g_1|1\\rangle+f_2 g_2|2\\rangle+f_3 g_3|3\\rangle+f_4 g_4|4\\rangle+f_5 g_5|5\\rangle+f_6 g_6|6\\rangle+f_7 g_7|7\\rangle\\right]+...,$$\n",
    "transforms to:\n",
    "$$\\dfrac{1}{N}|0\\rangle|0\\rangle\\left[f_0 g_0+f_1 g_1+f_2 g_2+f_3 g_3+f_4 g_4+f_5 g_5+f_6 g_6+f_7 g_7\\right|0\\rangle+...]+...$$\n",
    "The rest of the coefficients depend on which specific transformation we are doing, as there are three different versions of this transform"
   ]
  },
  {
   "cell_type": "code",
   "execution_count": null,
   "id": "72c63d51",
   "metadata": {},
   "outputs": [],
   "source": []
  },
  {
   "cell_type": "code",
   "execution_count": null,
   "id": "9ed2976a",
   "metadata": {},
   "outputs": [],
   "source": []
  },
  {
   "cell_type": "markdown",
   "id": "c6596721",
   "metadata": {},
   "source": [
    "## Appendix: Quantum Multiplexors"
   ]
  },
  {
   "cell_type": "markdown",
   "id": "7c8755f6",
   "metadata": {},
   "source": [
    "Implementation of loading data routines using the *Lov Grover and Terry Rudolph* routines directly, using controlled rotations by state, is highly inneficient. In general the use of controlled rotations generate highly deep quantum circuits prone to errors. \n",
    "A more efficient approach is the use of Quantum Multiplexors where the only controlled gates are c-Not ones. \n",
    "\n",
    "The operation we want to implement is a controlled rotation on an angle $\\theta_i$ controlled by a state $|i\\rangle$. \n",
    "\n",
    "For a 2 qbits state the operator should be:\n",
    "\n",
    "$$\n",
    "\\hat{U}|q_1q_0\\rangle= \\{ \\begin{array}{ll}\n",
    "      \\hat{R}_y(\\theta_0)|0\\rangle|q_0\\rangle  & if \\;|q_0\\rangle = |0\\rangle \\\\\n",
    "      \\hat{R}_y(\\theta_1)|0\\rangle|q_0\\rangle  & if \\;|q_0\\rangle = |1\\rangle \\\\\n",
    "\\end{array}\n",
    "$$\n",
    "\n",
    "With a quantum multiplexor this operation can be implemented as:\n",
    "\n",
    "$$\\hat{U}(\\theta_0, \\theta_1)|q_1q_0\\rangle= \\left( \\mathbf{I} \\otimes \\hat{R}_{y} \\left(\\frac{\\theta_0+\\theta_1}{2}\\right) \\right) \\hat{C}_{NOT} \\left(\\mathbf{I} \\otimes \\hat{R}_{y} \\left(\\frac{\\theta_0-\\theta_1}{2}\\right) \\right) \\hat{C}_{NOT}|q_1q_0\\rangle$$\n",
    "\n",
    "The circuit representation for this operator is:\n",
    "\n",
    "![alt text](./QM_01.png)\n",
    "\n",
    "As can be seen the quantum multiplexor needs only $C_{NOT}$ gates that are implemented in easier way than controlled rotations\n"
   ]
  },
  {
   "cell_type": "markdown",
   "id": "fe120963",
   "metadata": {},
   "source": [
    "For controlled state rotations of more angles quantum multiplexors can be implemented in a recursively way. For example if we want apply a controlled 4 angle rotation $[\\theta_0, \\theta_1, \\theta_2, \\theta_3]$ we can use following circuit:\n",
    "\n",
    "![alt text](./QM_02.png)\n"
   ]
  },
  {
   "cell_type": "markdown",
   "id": "fa6a0b7a",
   "metadata": {},
   "source": [
    "In general a quantum multiplexor with $m$ control qubits can be decomposed as 2 multiplexors with $m − 1$ control qubits and 2 $\\hat{C}_{NOT}$ gates:\n",
    "![alt text](./QM_03.png)"
   ]
  },
  {
   "cell_type": "markdown",
   "id": "361821ae",
   "metadata": {},
   "source": [
    "In the **QuantumMultiplexors_Module** there are an implementation for a quantum multiplexor controlled by $m$ qbits and the functions neede to use them in order to load probability and a Integral function"
   ]
  }
 ],
 "metadata": {
  "kernelspec": {
   "display_name": "Python 3 (ipykernel)",
   "language": "python",
   "name": "python3"
  },
  "language_info": {
   "codemirror_mode": {
    "name": "ipython",
    "version": 3
   },
   "file_extension": ".py",
   "mimetype": "text/x-python",
   "name": "python",
   "nbconvert_exporter": "python",
   "pygments_lexer": "ipython3",
   "version": "3.9.2"
  }
 },
 "nbformat": 4,
 "nbformat_minor": 5
}
