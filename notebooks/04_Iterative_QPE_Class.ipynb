{
 "cells": [
  {
   "cell_type": "markdown",
   "id": "91740961",
   "metadata": {},
   "source": [
    "# Iterative Quantum Phase Estimation (IQPE)"
   ]
  },
  {
   "cell_type": "markdown",
   "id": "c4f4d8f0",
   "metadata": {},
   "source": [
    "Present notebook reviews an **amplitude amplification** algorithm that does not rely $\\mathcal{QFT}^{-1}$: the **Iterative Quantum Phase Estimation** algorithm (**IQPE**).\n",
    "\n",
    "**Iterative Phase Estimation** is a more general algorithm than the **Amplitude Estimation** algorithms (like the **maximum likelihood** one). In general the **IQPE** algorithm can be used for estimating phase autovalues of unitary operators. \n"
   ]
  },
  {
   "cell_type": "markdown",
   "id": "f57f5478",
   "metadata": {},
   "source": [
    "Present notebook and module are based on the following references:\n",
    "\n",
    "* *Dobšíček, Miroslav and Johansson, Göran and Shumeiko, Vitaly and Wendin, Göran*. Arbitrary accuracy iterative quantum phase estimation algorithm using a single ancillary qubit: A two-qubit benchmark. Physical Review A 3(76), 2007. https://arxiv.org/abs/quant-ph/0610214\n",
    "\n",
    "* *Griffiths, Robert B. and Niu, Chi-Sheng*. Semiclassical Fourier Transform for Quantum Computation. Physical Review Letters, 17 (76), 1996. https://arxiv.org/abs/quant-ph/9511007\n",
    "\n",
    "* *A. Y. Kitaev*. Quantum measurements and the abelian stabilizer problem. Electronic Colloquium on Computational Complexity, 3(3):1–22, 1996. https://arxiv.org/abs/quant-ph/9511026\n",
    "\n",
    "* *Monz, Thomas and Nigg, Daniel and Martinez, Esteban A. and Brandl, Matthias F. and Schindler, Philipp and Rines, Richard and Wang, Shannon X. and Chuang, Isaac L. and Blatt, Rainer*. Realization of a scalable Shor algorithm. Science 6277 (351). 2016. https://arxiv.org/abs/1507.08852"
   ]
  },
  {
   "cell_type": "code",
   "execution_count": null,
   "id": "56c42b50",
   "metadata": {},
   "outputs": [],
   "source": [
    "import numpy as np\n",
    "import pandas as pd\n",
    "import matplotlib.pyplot as plt\n",
    "import qat.lang.AQASM as qlm"
   ]
  },
  {
   "cell_type": "code",
   "execution_count": null,
   "id": "5b1ee74f",
   "metadata": {},
   "outputs": [],
   "source": [
    "import sys\n",
    "sys.path.append(\"../\")"
   ]
  },
  {
   "cell_type": "code",
   "execution_count": null,
   "id": "67d69543",
   "metadata": {
    "scrolled": true
   },
   "outputs": [],
   "source": [
    "%matplotlib inline"
   ]
  },
  {
   "cell_type": "code",
   "execution_count": null,
   "id": "8e8cf3ca",
   "metadata": {},
   "outputs": [],
   "source": [
    "#This cell loads the QLM solver.\n",
    "#QLMaaS == False -> uses PyLinalg\n",
    "#QLMaaS == True -> try to use LinAlg (for using QPU as CESGA QLM one)\n",
    "from libraries.utils.qlm_solver import get_qpu\n",
    "QLMaaS = True\n",
    "linalg_qpu = get_qpu(QLMaaS)"
   ]
  },
  {
   "cell_type": "markdown",
   "id": "6e37aa61",
   "metadata": {},
   "source": [
    "## 1. Oracle generation"
   ]
  },
  {
   "cell_type": "markdown",
   "id": "4126a07c",
   "metadata": {},
   "source": [
    "Before doing any amplitude estimation we want to load some data into the quantum circuit, as this step is only auxiliary to see how the algorithm works, we are just going to load a discrete probability distribution. In this case we will have a circuit with $n=3$ qubits which makes a total of $N = 2^n = 8$ states. The discrete probability distribution that we are going to load is:\n",
    "$$p_d = \\dfrac{(0,1,2,3,4,5,6,7)}{0+1+2+3+4+5+6+7+8}.$$"
   ]
  },
  {
   "cell_type": "code",
   "execution_count": null,
   "id": "c26372c0",
   "metadata": {},
   "outputs": [],
   "source": [
    "n = 3\n",
    "N = 2**n\n",
    "x = np.arange(N)\n",
    "probability = x/np.sum(x)"
   ]
  },
  {
   "cell_type": "markdown",
   "id": "00899b72",
   "metadata": {},
   "source": [
    "Note that this probability distribution is properly normalised. For loading this probability into the quantum circuit we will use the function *load_probability*. The state that we are going to get is:\n",
    "    $$|\\Psi\\rangle = \\scriptstyle \\dfrac{1}{\\sqrt{0+1+2+3+4+5+6+7+8}}\\left[\\sqrt{0}|0\\rangle+\\sqrt{1}|1\\rangle+\\sqrt{2}|2\\rangle+\\sqrt{3}|3\\rangle+\\sqrt{4}|4\\rangle+\\sqrt{5}|5\\rangle+\\sqrt{6}|6\\rangle+\\sqrt{7}|7\\rangle\\right].$$"
   ]
  },
  {
   "cell_type": "code",
   "execution_count": null,
   "id": "ec5b6b8e",
   "metadata": {},
   "outputs": [],
   "source": [
    "from libraries.DL.data_loading import load_probability, load_array"
   ]
  },
  {
   "cell_type": "code",
   "execution_count": null,
   "id": "fffd143d",
   "metadata": {},
   "outputs": [],
   "source": [
    "oracle = load_probability(probability)"
   ]
  },
  {
   "cell_type": "code",
   "execution_count": null,
   "id": "1d63f4c5",
   "metadata": {
    "scrolled": true
   },
   "outputs": [],
   "source": [
    "%qatdisplay oracle"
   ]
  },
  {
   "cell_type": "markdown",
   "id": "e8b7c0a0",
   "metadata": {},
   "source": [
    "For more information about loading data into the quantum circuit see the notebook *data_loading_use*."
   ]
  },
  {
   "cell_type": "markdown",
   "id": "09ca0cdb",
   "metadata": {},
   "source": [
    "## 2. Grover-like operator from Oracle"
   ]
  },
  {
   "cell_type": "markdown",
   "id": "eac2c065",
   "metadata": {},
   "source": [
    "The problem of amplitude estimation is the following. Given an oracle:\n",
    "\n",
    "$$\\mathcal{0}|0\\rangle = |\\Psi\\rangle = \\sqrt{a}|\\Psi_0\\rangle +\\sqrt{1-a}|\\Psi_1\\rangle,$$\n",
    "\n",
    "where $|\\Psi_0\\rangle$ and $|\\Psi_1\\rangle$ are orthogonal states, we want to estimate $\\sqrt{a}$. We can define an associated angle to $\\sqrt{a}$ as $\\sin^2{\\theta} = a$, and the problem is thus rewritten as:\n",
    "$$\\mathcal{O}|0\\rangle = |\\Psi \\rangle = \\sin(\\theta)|\\Psi_0\\rangle +\\cos(\\theta)|\\Psi_1\\rangle,$$\n",
    "\n",
    "The foundations of any amplitude estimation algorithm is the grover operator $\\mathcal{Q}$. We recall that the grover operator has the following effect over our state $|\\Psi\\rangle$:\n",
    "$$\\mathcal{Q}^{m}|\\Psi\\rangle = |\\Psi \\rangle = \\sin\\left((2m_k+1)\\theta\\right)|\\Psi_0\\rangle +\\cos\\left((2m_k+1)\\theta\\right)|\\Psi_1\\rangle,$$\n",
    "\n",
    "\n",
    "The eigenvalues of grover operator $\\mathcal{Q}$ are the phases: $e^{\\pm i \\theta}$. \n",
    "The $\\theta$ is the same for the eigenvalues ($e^{\\pm i \\theta}$) and for the amplitude amplification \n",
    "$\\sin\\left((2m_k+1)\\theta\\right)$. \n",
    "\n",
    "With the *IPE* algorithm we can estimate this $\\theta$ but the grover operator $\\mathcal{Q}$ is mandatory."
   ]
  },
  {
   "cell_type": "markdown",
   "id": "856a53d4",
   "metadata": {},
   "source": [
    "Using example from section 1 we are going to define the following amplitude estimation problem:\n",
    "$$\n",
    "    \\begin{array}{l}\n",
    "    &\\mathcal{O}\\longrightarrow \\mathcal{P}.\\\\\n",
    "    & |\\Psi\\rangle \\longrightarrow \\scriptstyle \\dfrac{1}{\\sqrt{0+1+2+3+4+5+6+7+8}}\\left[\\sqrt{0}|0\\rangle+\\sqrt{1}|1\\rangle+\\sqrt{2}|2\\rangle+\\sqrt{3}|3\\rangle+\\sqrt{4}|4\\rangle+\\sqrt{5}|5\\rangle+\\sqrt{6}|6\\rangle+\\sqrt{7}|7\\rangle\\right].\\\\\n",
    "    & \\sin(\\theta)|\\Psi_0\\rangle \\longrightarrow \\dfrac{\\sqrt{1}}{\\sqrt{0+1+2+3+4+5+6+7+8}}|1\\rangle.\\\\\n",
    "    & \\cos(\\theta)|\\Psi_1\\rangle \\longrightarrow \\scriptstyle \\dfrac{1}{\\sqrt{0+1+2+3+4+5+6+7+8}}\\left[\\sqrt{0}|0\\rangle+\\sqrt{2}|2\\rangle+\\sqrt{3}|3\\rangle+\\sqrt{4}|4\\rangle+\\sqrt{5}|5\\rangle+\\sqrt{6}|6\\rangle+\\sqrt{7}|7\\rangle\\right].\\\\\n",
    "    \\end{array}\n",
    "$$\n",
    "\n",
    "In this case we are going to use **grover** function from **amplitude_amplification** module for creating the correspondiente *Grover* operator for the beforementioned oracle. For more information about this function and module see the notebook **02_AmplitudeAmplification_Operators**. For the section 1 case the mandatory inputs of the grover function wil be:\n",
    "\n",
    "* oracle operator\n",
    "* target state: $|1\\rangle$ wich binnary representation is: $001$\n",
    "* Qbits where we are going to act:  $[0,1,2]$, the whole register.\n",
    "\n",
    "\n",
    "\n"
   ]
  },
  {
   "cell_type": "code",
   "execution_count": null,
   "id": "ce69b6f4",
   "metadata": {},
   "outputs": [],
   "source": [
    "from libraries.AA.amplitude_amplification import grover"
   ]
  },
  {
   "cell_type": "code",
   "execution_count": null,
   "id": "7f98ae05",
   "metadata": {},
   "outputs": [],
   "source": [
    "target = [0, 0, 1]\n",
    "index = range(oracle.arity)\n",
    "q_gate = grover(oracle, target, index)"
   ]
  },
  {
   "cell_type": "code",
   "execution_count": null,
   "id": "c7f1cca4",
   "metadata": {},
   "outputs": [],
   "source": [
    "%qatdisplay q_gate --depth 2"
   ]
  },
  {
   "cell_type": "markdown",
   "id": "67876e7a",
   "metadata": {},
   "source": [
    "So now we have the oracle and the correspondient grover operator."
   ]
  },
  {
   "cell_type": "markdown",
   "id": "34f11062",
   "metadata": {},
   "source": [
    "## 2. Class IQPE: algorithm step by step "
   ]
  },
  {
   "cell_type": "markdown",
   "id": "39e668f5",
   "metadata": {},
   "source": [
    "We have implemented and python class called **IQPE** (in the script **iterative_quantum_pe.py**) that allows us implement the **IQPE** algorithm. In this section we are going to describe the class step by step and explain the basics of the **IQPE** algorithm\n"
   ]
  },
  {
   "cell_type": "markdown",
   "id": "4ad9589d",
   "metadata": {},
   "source": [
    "### 2.1 Calling the **IQPE** class"
   ]
  },
  {
   "cell_type": "code",
   "execution_count": null,
   "id": "95543548",
   "metadata": {},
   "outputs": [],
   "source": [
    "#Load Class\n",
    "from libraries.PE.iterative_quantum_pe import IterativeQuantumPE"
   ]
  },
  {
   "cell_type": "markdown",
   "id": "0b19f4d6",
   "metadata": {},
   "source": [
    "In order to instantiate the class we need to provide a pyhton dictionary. Most important keys are:\n",
    "\n",
    "* initial_state : QLM Program with an initial state $|\\Psi\\rangle$ was loaded. \n",
    "* unitary_operator :  QLM gate or routine with an Unitaryt operator (in this case the Grover-like operator $\\mathcal{Q}$) ready for be applied to initial state $|\\Psi\\rangle$.\n",
    "\n",
    "\n",
    "Other important keys are:\n",
    "\n",
    "* cbits_number : int with the number of classical bits needed for for phase estimation\n",
    "* qpu : QLM solver. If not provided class try to creates a PyLinalg solver. It is recomended give this key to the class.\n",
    "* shots : int number of shots for quantum job. If 0 exact probabilities will be computed\n"
   ]
  },
  {
   "cell_type": "code",
   "execution_count": null,
   "id": "2c7644a1",
   "metadata": {},
   "outputs": [],
   "source": [
    "n_cbits = 7\n",
    "#We create a python dictionary for configuration of class\n",
    "iqpe_dict = {\n",
    "    'initial_state': oracle,\n",
    "    'unitary_operator': q_gate,\n",
    "    'qpu' : linalg_qpu,\n",
    "    'cbits_number' : n_cbits,\n",
    "    #'easy': True,\n",
    "    #'easy': False    \n",
    "}\n",
    "IQPE = IterativeQuantumPE(**iqpe_dict)"
   ]
  },
  {
   "cell_type": "markdown",
   "id": "dcfde198",
   "metadata": {},
   "source": [
    "When the class is instantiated the properties *initial_state* and *q_gate* are overwritten with the given keys **initial_state** and **unitary_operator** respectively"
   ]
  },
  {
   "cell_type": "code",
   "execution_count": null,
   "id": "45bb2f30",
   "metadata": {},
   "outputs": [],
   "source": [
    "c = IQPE.initial_state\n",
    "%qatdisplay c"
   ]
  },
  {
   "cell_type": "code",
   "execution_count": null,
   "id": "1fd871e4",
   "metadata": {},
   "outputs": [],
   "source": [
    "a = IQPE.q_gate\n",
    "%qatdisplay a --depth 2"
   ]
  },
  {
   "cell_type": "markdown",
   "id": "e7bb91ba",
   "metadata": {},
   "source": [
    "* Alberto: Wall time: 9.42 s\n",
    "* Gonzalo: Wall time: 663 ms"
   ]
  },
  {
   "cell_type": "markdown",
   "id": "57fc576b",
   "metadata": {},
   "source": [
    "### 2.2 IPE Algorithm step by step"
   ]
  },
  {
   "cell_type": "markdown",
   "id": "89ac00e5",
   "metadata": {},
   "source": [
    "Now we are going to review step by step the **IPE** algorithm using different programed methods of the **IterativeQuantumPE** class"
   ]
  },
  {
   "cell_type": "markdown",
   "id": "07708821",
   "metadata": {},
   "source": [
    "### 2.2.1. Initialize the quantum program.\n",
    "\n",
    "First thing is calling the method **init_iqpe**. Following actions are done by this method:\n",
    "1. Creation of QLM program from *initial_state* QLM routine (or AbstractGate). The QLM program is stored in *q_prog* property.\n",
    "2. Allocation of an auxiliar qbit mandatory for the **IPE** algorithm. It is stored in the *q_aux* property.\n",
    "3. Allocation of the auxiliar classical bits where the estimated phase will be stored. Property: *c_bits*."
   ]
  },
  {
   "cell_type": "code",
   "execution_count": null,
   "id": "cce43df4",
   "metadata": {},
   "outputs": [],
   "source": [
    "#Initialize the quantum program\n",
    "IQPE.init_iqpe()"
   ]
  },
  {
   "cell_type": "code",
   "execution_count": null,
   "id": "20def8ff",
   "metadata": {
    "scrolled": false
   },
   "outputs": [],
   "source": [
    "#Now we have the initial quantum program stored in the property q_prog\n",
    "#Additionally a auxiliar qbit bits was allocated\n",
    "circuit = IQPE.q_prog.to_circ(submatrices_only=True)\n",
    "\n",
    "%qatdisplay circuit --depth 0"
   ]
  },
  {
   "cell_type": "markdown",
   "id": "36558bc0",
   "metadata": {},
   "source": [
    "### 2.2.2. IPE Algorithm"
   ]
  },
  {
   "cell_type": "markdown",
   "id": "68913fbf",
   "metadata": {},
   "source": [
    "We are going to decomposed the **IPE** algorithm in 2 parts. A first part where the main variable $l$ will be 0 ($l=0$) and a second recursive part where the variable $l$ will be greater than 0 ($l\\gt 0$."
   ]
  },
  {
   "cell_type": "markdown",
   "id": "2a6568b7",
   "metadata": {},
   "source": [
    "#### First Part ($l=0$)\n",
    "\n",
    "The first step of the IPE algorithn ($l=0$) has the following parts:\n",
    "\n",
    "1. Reset the auxiliar qbit\n",
    "2. Apply a Haddamard gate to the auxiliar qbit\n",
    "3. Apply a controlled by auxiliar qbit grover-like operator $2^{m-1}$ ($\\mathcal{Q} ^{2^{m-1}}$) times with $m$ is the number of classical qbits allocated for estimating $\\theta$ \n",
    "4. Apply a Haddamard gate to the auxiliar qbit\n",
    "5. Measuring the auxiliar qbit and store the result into classical bit array in position $c_l$ ($l=0$)\n",
    "\n",
    "This can be done by calling the *step_iqpe* method with following arguments:\n",
    "\n",
    "* Quantum Program with initial_state\n",
    "* Quantum Routine or AbstractGate with Grover-like operator $\\mathcal{Q}$\n",
    "* Auxiliar Qbit\n",
    "* Auxiliar classical bits\n",
    "* l=0\n",
    "\n",
    "This methods return the quantum program with the operations explained in this part."
   ]
  },
  {
   "cell_type": "code",
   "execution_count": null,
   "id": "ef6ee7ce",
   "metadata": {},
   "outputs": [],
   "source": [
    "q_program = IQPE.q_prog\n",
    "q_program = IQPE.step_iqpe(q_program, IQPE.q_gate, IQPE.q_aux, IQPE.c_bits, 0)"
   ]
  },
  {
   "cell_type": "markdown",
   "id": "d7c0b1dc",
   "metadata": {},
   "source": [
    "Following cell show the first  part of the circuit"
   ]
  },
  {
   "cell_type": "code",
   "execution_count": null,
   "id": "82796dc5",
   "metadata": {},
   "outputs": [],
   "source": [
    "c = q_program.to_circ()\n",
    "%qatdisplay c"
   ]
  },
  {
   "cell_type": "markdown",
   "id": "a0f3b838",
   "metadata": {},
   "source": [
    "#### Second or iterative Part ($l \\gt 0$)\n",
    "\n",
    "This part of the algorithm is recursive. Following steps will be repeated for each value of $l=1,2,..m-1$:\n",
    "\n",
    "1. Reset the auxiliar qbit\n",
    "2. Apply a Haddamard gate to the auxiliar qbit\n",
    "3. Apply a controlled by auxiliar qbit grover-like operator $2^{m-1-l}$ ($\\mathcal{Q}^{2^{m-1-l}}$) times with $m$ is the number of classical qbits allocated for estimating $\\theta$.\n",
    "4. Apply on the auxiliar qbit a set of controlled rotations by $c_j$ classical bit of angle: $\\frac{\\pi}{2}\\frac{1}{2^{l-j-1}}$ with $j=0,1,..l-1$. \n",
    "4. Apply a Haddamard gate to the auxiliar qbit\n",
    "5. Measuring the auxiliar qbit and store the result into classical bit array in position $c_l$\n",
    "\n",
    "So for a $l$ step de controlled by classical bits rotation will depend on the measurements don on the before $l$ steps.\n",
    "\n",
    "In the following cell we explain how to create the algorithm for the $l=1$ part:"
   ]
  },
  {
   "cell_type": "code",
   "execution_count": null,
   "id": "b6b7e2f8",
   "metadata": {},
   "outputs": [],
   "source": [
    "#here we do the step l=1\n",
    "l=1\n",
    "q_program = IQPE.step_iqpe(q_program, IQPE.q_gate, IQPE.q_aux, IQPE.c_bits, l)"
   ]
  },
  {
   "cell_type": "markdown",
   "id": "281a6e53",
   "metadata": {},
   "source": [
    "Now we can plot the circuit we have unitl the moment"
   ]
  },
  {
   "cell_type": "code",
   "execution_count": null,
   "id": "2fc2a4f3",
   "metadata": {
    "scrolled": true
   },
   "outputs": [],
   "source": [
    "#Circuit for l=0 and l=1\n",
    "c = q_program.to_circ()\n",
    "%qatdisplay c"
   ]
  },
  {
   "cell_type": "markdown",
   "id": "01c65a88",
   "metadata": {},
   "source": [
    "####  Complete algorithm\n",
    "\n",
    "For a complete **IPE** algorithm following steps shold be done:\n",
    "\n",
    "1. Create the First part of the algorithm $l=0$.\n",
    "2. Iterate the second part of the algorihtm from  $l=1$ to $l=m-1$.\n",
    "\n",
    "The measured classical bits is used for estimating the phase autovalues of the unitary operator\n",
    "\n",
    "Following cell create the complete program for **IPE** algorithm"
   ]
  },
  {
   "cell_type": "code",
   "execution_count": null,
   "id": "5a36611b",
   "metadata": {},
   "outputs": [],
   "source": [
    "#Initialize the quantum program\n",
    "IQPE.init_iqpe()\n",
    "q_program = IQPE.q_prog\n",
    "for l in range(len(IQPE.c_bits)):\n",
    "    q_program = IQPE.step_iqpe(q_program, IQPE.q_gate, IQPE.q_aux, IQPE.c_bits, l)"
   ]
  },
  {
   "cell_type": "markdown",
   "id": "86413dc2",
   "metadata": {},
   "source": [
    "So for the desired number of classical bits $m$ the complete circuit for *IPE* algorithm will be:"
   ]
  },
  {
   "cell_type": "code",
   "execution_count": null,
   "id": "d6dc2548",
   "metadata": {},
   "outputs": [],
   "source": [
    "c = q_program.to_circ()\n",
    "%qatdisplay c"
   ]
  },
  {
   "cell_type": "markdown",
   "id": "4c230bbb",
   "metadata": {},
   "source": [
    "### 2.2.3. IPE Algorithm execution\n",
    "\n",
    "Once the QLM program is constructed the alogrithm should be executed. For this the *run* method from the class allow to execute it. Following arguments should  be provided:\n",
    "\n",
    "* q_prog : with the complete *IPE* algorithm\n",
    "* q_aux : the auxiliar qbit \n",
    "* shots \n",
    "* linalg_qpu: QLM solver\n",
    "\n",
    "This method creates the circuit, the asociated job and execute it. The raw results of the simulation are returned\n"
   ]
  },
  {
   "cell_type": "code",
   "execution_count": null,
   "id": "fc10ed0b",
   "metadata": {},
   "outputs": [],
   "source": [
    "raw_results = IQPE.run(q_program, IQPE.q_aux, 100, linalg_qpu=linalg_qpu)"
   ]
  },
  {
   "cell_type": "code",
   "execution_count": null,
   "id": "069e4362",
   "metadata": {},
   "outputs": [],
   "source": [
    "raw_results"
   ]
  },
  {
   "cell_type": "markdown",
   "id": "2566167a",
   "metadata": {},
   "source": [
    "### 2.2.4. IPE: getting classical bits measurements\n",
    "\n",
    "As explained the phase will be estimated by getting the measurements of the classical bits. In the class this is done by the **meas_classical_bits** method. The input of this method is the *raw_results* from the *run* method. And the output will be a pandas DataFrame with the measurement of the classical bits with the following columns:\n",
    "\n",
    "* **BitString**: is the result of the clasical bits measurement in each step of the algorithm\n",
    "* **BitInt**: integer representation of the **BitString**\n",
    "* **Phi**: is the estimated obtained phase and it is computed as: $\\frac{BitInt}{2^{m}}$ where $m$ is the number of classical bits used for phase estimation"
   ]
  },
  {
   "cell_type": "code",
   "execution_count": null,
   "id": "da108557",
   "metadata": {},
   "outputs": [],
   "source": [
    "classical_bits = IQPE.meas_classical_bits(raw_results)"
   ]
  },
  {
   "cell_type": "code",
   "execution_count": null,
   "id": "7bbcf621",
   "metadata": {
    "scrolled": false
   },
   "outputs": [],
   "source": [
    "classical_bits"
   ]
  },
  {
   "cell_type": "markdown",
   "id": "0b512312",
   "metadata": {},
   "source": [
    "### 2.2.5. IPE: post proccessing\n",
    "\n",
    "For getting the propper $\\theta$ from classical bit measurements the *post_proccess* method can be used. The input will be the DataFrame with the classical bits and the output a pandas dataframe with the following columns:\n",
    "\n",
    "* **BitString**: is the result of the clasical bits measurement in each step of the algorithm\n",
    "* **BitInt**: integer representation of the **BitString**\n",
    "* **Phi**: is the estimated obtained phase and it is computed as: $\\frac{BitInt}{2^{c_b}}$ where $c_b$ is the number of classical bits \n",
    "* **Theta Unitary**: is the phase eigenvalue of the Grover-like operator (2*$\\pi$*Phi).\n",
    "* **Theta**: is the rotation angle $\\theta$ applied for the Grover-like operator ($\\pi$*Phi)\n",
    "* **theta_90**: is the rotation angle $\\theta$ applied for the Grover-like operator ($\\pi$*Phi) between $(0, \\frac{\\pi}{2}$)"
   ]
  },
  {
   "cell_type": "code",
   "execution_count": null,
   "id": "42205321",
   "metadata": {},
   "outputs": [],
   "source": [
    "final_results = IQPE.post_proccess(classical_bits)"
   ]
  },
  {
   "cell_type": "code",
   "execution_count": null,
   "id": "59b6f985",
   "metadata": {},
   "outputs": [],
   "source": [
    "final_results"
   ]
  },
  {
   "cell_type": "markdown",
   "id": "08ae7a99",
   "metadata": {},
   "source": [
    "The DataFrame from *post_proccess* gives a result for each execution of the circuit (variable *shots*) with the *sumarize* method we can obtain the freqcuency for a given column of the DataFrame. The input are:\n",
    "\n",
    "* *final_results*: DataFrame from *post_proccess* method\n",
    "* columns : list with the columns user want to get the frequency"
   ]
  },
  {
   "cell_type": "code",
   "execution_count": null,
   "id": "36323ee7",
   "metadata": {},
   "outputs": [],
   "source": [
    "#frequencies for the column theta_90\n",
    "IQPE.sumarize(final_results, ['theta_90'])"
   ]
  },
  {
   "cell_type": "code",
   "execution_count": null,
   "id": "1a46c85f",
   "metadata": {},
   "outputs": [],
   "source": [
    "#Freqeuncy for all columns\n",
    "IQPE.sumarize(final_results, list(final_results.columns))"
   ]
  },
  {
   "cell_type": "markdown",
   "id": "ed53d10c",
   "metadata": {},
   "source": [
    "For the use case we implemented we want to use the *theta_90* for gettign the measured $\\theta$. From this values we can compute:\n",
    "\n",
    "$$\\cos^2(\\theta)$$\n",
    "\n",
    "for computing the probability of getting \n",
    "$$\\sin(\\theta)|\\Psi_0\\rangle \\longrightarrow \\dfrac{\\sqrt{1}}{\\sqrt{0+1+2+3+4+5+6+7+8}}|1\\rangle$$"
   ]
  },
  {
   "cell_type": "code",
   "execution_count": null,
   "id": "942e309e",
   "metadata": {},
   "outputs": [],
   "source": [
    "pdf = IQPE.sumarize(final_results, ['theta_90'])\n",
    "pdf['P']=np.cos(pdf['theta_90'])**2"
   ]
  },
  {
   "cell_type": "code",
   "execution_count": null,
   "id": "8e91d647",
   "metadata": {},
   "outputs": [],
   "source": [
    "pdf"
   ]
  },
  {
   "cell_type": "code",
   "execution_count": null,
   "id": "3c1afad4",
   "metadata": {},
   "outputs": [],
   "source": [
    "print(\"Classical result: \",probability[1])\n",
    "print(\"Quantum result: \",pdf['P'].iloc[0])"
   ]
  },
  {
   "cell_type": "markdown",
   "id": "aeedbf15",
   "metadata": {},
   "source": [
    "## 3. Class IQPE: complete execution"
   ]
  },
  {
   "cell_type": "markdown",
   "id": "c004c1e3",
   "metadata": {},
   "source": [
    "All the *IPE* steps explained in section 2 can be done with the method **iqpe**. When using this *method* following properties are populated:\n",
    "\n",
    "* *classical_bits*: the DataFrame with the result of the *meas_classical_bits* method.\n",
    "* *final_results*: the DataFrame with the result of the *post_proccess* method.\n",
    "* *sumary*: the DataFrame with the result of the *sumarize* method."
   ]
  },
  {
   "cell_type": "code",
   "execution_count": null,
   "id": "49cafd3f",
   "metadata": {},
   "outputs": [],
   "source": [
    "n_cbits = 10\n",
    "#We create a python dictionary for configuration of class\n",
    "iqpe_dict = {\n",
    "    'initial_state': oracle,\n",
    "    'unitary_operator': q_gate,\n",
    "    'qpu' : linalg_qpu,\n",
    "    'cbits_number' : n_cbits,  \n",
    "    'shots': 100\n",
    "}\n",
    "iqpe_ = IterativeQuantumPE(**iqpe_dict)"
   ]
  },
  {
   "cell_type": "code",
   "execution_count": null,
   "id": "faf94a5b",
   "metadata": {},
   "outputs": [],
   "source": [
    "iqpe_.iqpe()"
   ]
  },
  {
   "cell_type": "code",
   "execution_count": null,
   "id": "f210e00d",
   "metadata": {},
   "outputs": [],
   "source": [
    "iqpe_.final_results"
   ]
  },
  {
   "cell_type": "code",
   "execution_count": null,
   "id": "c307c626",
   "metadata": {},
   "outputs": [],
   "source": [
    "iqpe_.sumary"
   ]
  },
  {
   "cell_type": "code",
   "execution_count": null,
   "id": "90d5947f",
   "metadata": {},
   "outputs": [],
   "source": [
    "iqpe_.sumary['P']=np.cos(iqpe_.sumary['theta_90'])**2"
   ]
  },
  {
   "cell_type": "code",
   "execution_count": null,
   "id": "e2b85e8a",
   "metadata": {},
   "outputs": [],
   "source": [
    "iqpe_.sumary"
   ]
  },
  {
   "cell_type": "markdown",
   "id": "b577ea4a",
   "metadata": {},
   "source": [
    "With this measurements histograms can be plotted in order to have an insight of the frequencies for the looked measurements"
   ]
  },
  {
   "cell_type": "code",
   "execution_count": null,
   "id": "d441493c",
   "metadata": {},
   "outputs": [],
   "source": [
    "print(\"Classical result: \",probability[1])\n",
    "print(\"Quantum result: \",iqpe_.sumary['P'].iloc[0])"
   ]
  },
  {
   "cell_type": "markdown",
   "id": "a1d9cf80",
   "metadata": {},
   "source": [
    "## 4. Qiskit Test"
   ]
  },
  {
   "cell_type": "markdown",
   "id": "879ad746",
   "metadata": {},
   "source": [
    "We are going to use the **IQPE** example from Qiskit textbook for showing this. Following links have the Qiskit examples:\n",
    "\n",
    "https://qiskit.org/textbook/ch-labs/Lab04_IterativePhaseEstimation.html\n",
    "\n",
    "https://github.com/Qiskit/qiskit-tutorials/blob/master/tutorials/algorithms/09_IQPE.ipynb\n"
   ]
  },
  {
   "cell_type": "code",
   "execution_count": null,
   "id": "9a0f3327",
   "metadata": {},
   "outputs": [],
   "source": [
    "#Number Of Qbits\n",
    "n_qbits = 1\n",
    "#Number Of Classical Bits\n",
    "n_cbits = 2"
   ]
  },
  {
   "cell_type": "markdown",
   "id": "d56a9cd8",
   "metadata": {},
   "source": [
    "In the Qiskit example they try to estimate the phase for \n",
    "\n",
    "![title](Qiskit_IQPE.png)"
   ]
  },
  {
   "cell_type": "code",
   "execution_count": null,
   "id": "9f10f1c5",
   "metadata": {},
   "outputs": [],
   "source": [
    "import qat.lang.AQASM as qlm"
   ]
  },
  {
   "cell_type": "code",
   "execution_count": null,
   "id": "45e060e4",
   "metadata": {},
   "outputs": [],
   "source": [
    "initial_state = qlm.QRoutine()\n",
    "q_bits = initial_state.new_wires(n_qbits)\n",
    "for i in range(n_qbits):\n",
    "    initial_state.apply(qlm.X, q_bits[i])\n",
    "grover = qlm.PH(np.pi/2.0)    "
   ]
  },
  {
   "cell_type": "code",
   "execution_count": null,
   "id": "d5a14a71",
   "metadata": {},
   "outputs": [],
   "source": [
    "%qatdisplay initial_state\n",
    "%qatdisplay grover"
   ]
  },
  {
   "cell_type": "code",
   "execution_count": null,
   "id": "d2f179ed",
   "metadata": {},
   "outputs": [],
   "source": [
    "from libraries.PE.iterative_quantum_pe import IterativeQuantumPE"
   ]
  },
  {
   "cell_type": "code",
   "execution_count": null,
   "id": "d1d17224",
   "metadata": {},
   "outputs": [],
   "source": [
    "iqpe_dict = {\n",
    "    'initial_state': initial_state,\n",
    "    'unitary_operator': grover,\n",
    "    'qpu' : linalg_qpu,\n",
    "    'cbits_number' : n_cbits,\n",
    "    'shots': 1000,\n",
    "}\n",
    "IQPE = IterativeQuantumPE(**iqpe_dict)\n",
    "IQPE.iqpe()"
   ]
  },
  {
   "cell_type": "code",
   "execution_count": null,
   "id": "debd33ba",
   "metadata": {},
   "outputs": [],
   "source": [
    "IQPE.final_results"
   ]
  },
  {
   "cell_type": "code",
   "execution_count": null,
   "id": "60c9a5aa",
   "metadata": {},
   "outputs": [],
   "source": [
    "plt.hist(IQPE.final_results['Phi'])"
   ]
  },
  {
   "cell_type": "code",
   "execution_count": null,
   "id": "074a89ce",
   "metadata": {},
   "outputs": [],
   "source": [
    "IQPE.final_results['Phi'].describe()"
   ]
  },
  {
   "cell_type": "code",
   "execution_count": null,
   "id": "fb5e7fbb",
   "metadata": {},
   "outputs": [],
   "source": [
    "IQPE.sumarize(IQPE.final_results, ['Phi'])"
   ]
  },
  {
   "cell_type": "markdown",
   "id": "f7934dab",
   "metadata": {},
   "source": [
    "As can be seen in \n",
    "\n",
    "https://github.com/Qiskit/qiskit-tutorials/blob/master/tutorials/algorithms/09_IQPE.ipynb \n",
    "\n",
    "solution in qiskit is just 0.25 for the before configuration"
   ]
  },
  {
   "cell_type": "raw",
   "id": "2554a021",
   "metadata": {},
   "source": []
  }
 ],
 "metadata": {
  "kernelspec": {
   "display_name": "Python 3 (ipykernel)",
   "language": "python",
   "name": "python3"
  },
  "language_info": {
   "codemirror_mode": {
    "name": "ipython",
    "version": 3
   },
   "file_extension": ".py",
   "mimetype": "text/x-python",
   "name": "python",
   "nbconvert_exporter": "python",
   "pygments_lexer": "ipython3",
   "version": "3.9.9"
  }
 },
 "nbformat": 4,
 "nbformat_minor": 5
}
