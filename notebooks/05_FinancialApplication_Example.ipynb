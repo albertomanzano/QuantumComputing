{
 "cells": [
  {
   "cell_type": "markdown",
   "id": "140c4007",
   "metadata": {},
   "source": [
    "# Apply to financial applications"
   ]
  },
  {
   "cell_type": "markdown",
   "id": "89c063a9",
   "metadata": {},
   "source": [
    "Present notebook will use the present library to develop a specific case for financial application. The reference for this notebook will be:\n",
    "\n",
    "* NEASQC deliverable: *D5.1: Review of state-of-the-art for Pricing and Computation of VaR https://www.neasqc.eu/wp-content/uploads/2021/06/NEASQC_D5.1_Review-of-state-of-the-art-for-Pricing-and-Computation-of-VaR_R2.0_Final.pdf*\n",
    "\n",
    "The idea is given an input function $f(x)$ and a proability density $p(x)$ is compute the expected value of  $f(x)$ when x follows $p(x)$:\n",
    "\n",
    "$$E_{x\\sim p}(f)=\\int_a^bp(x)f(x)dx$$\n",
    "\n",
    "In this case we are going to use the discretized form:\n",
    "\n",
    "$$E_{x\\sim p}(f) = \\sum_{x=0}^{2^n-1} p(x)f(x)dx$$\n",
    "\n",
    "The idea is to use **Amplitude Amplification** procedure in order to compute this value."
   ]
  },
  {
   "cell_type": "code",
   "execution_count": null,
   "id": "cd8f81ec",
   "metadata": {},
   "outputs": [],
   "source": [
    "import numpy as np\n",
    "import pandas as pd\n",
    "import matplotlib.pyplot as plt\n",
    "from copy import deepcopy\n",
    "import sys\n",
    "import qat.lang.AQASM as qlm\n",
    "sys.path.append(\"../\")"
   ]
  },
  {
   "cell_type": "code",
   "execution_count": null,
   "id": "2e6667ab",
   "metadata": {},
   "outputs": [],
   "source": [
    "%load_ext qat.core.magic\n",
    "%matplotlib inline"
   ]
  },
  {
   "cell_type": "code",
   "execution_count": null,
   "id": "3e2761d3",
   "metadata": {},
   "outputs": [],
   "source": [
    "global_qlmaas = True\n",
    "try:\n",
    "    from qlmaas.qpus import LinAlg\n",
    "except (ImportError, OSError) as e:\n",
    "    global_qlmaas = False\n",
    "from qat.qpus import PyLinalg"
   ]
  },
  {
   "cell_type": "code",
   "execution_count": null,
   "id": "8e1f1b1c",
   "metadata": {},
   "outputs": [],
   "source": [
    "def get_qpu(qlmass=False):\n",
    "    \"\"\"\n",
    "    Function for selecting solver. User can chose between:\n",
    "    * LinAlg: for submitting jobs to a QLM server\n",
    "    * PyLinalg: for simulating jobs using myqlm lineal algebra.\n",
    "\n",
    "    Parameters\n",
    "    ----------\n",
    "\n",
    "    qlmass : bool\n",
    "        If True  try to use QLM as a Service connection to CESGA QLM\n",
    "        If False PyLinalg simulator will be used\n",
    "\n",
    "    Returns\n",
    "    ----------\n",
    "    \n",
    "    lineal_qpu : solver for quantum jobs\n",
    "    \"\"\"\n",
    "    if qlmass:\n",
    "        if global_qlmaas:\n",
    "            print('Using: LinAlg')\n",
    "            linalg_qpu = LinAlg()\n",
    "        else:\n",
    "            raise ImportError(\"\"\"Problem Using QLMaaS.Please create config file or use mylm solver\"\"\")\n",
    "            \n",
    "    else:\n",
    "        print('Using PyLinalg')\n",
    "        linalg_qpu = PyLinalg()\n",
    "    return linalg_qpu"
   ]
  },
  {
   "cell_type": "code",
   "execution_count": null,
   "id": "d93b6a80",
   "metadata": {},
   "outputs": [],
   "source": [
    "#QLMaaS == False -> uses PyLinalg\n",
    "#QLMaaS == True -> try to use LinAlg\n",
    "QLMaaS = True\n",
    "linalg_qpu = get_qpu(QLMaaS)"
   ]
  },
  {
   "cell_type": "markdown",
   "id": "20303f08",
   "metadata": {},
   "source": [
    "## 1. Discretizing data"
   ]
  },
  {
   "cell_type": "markdown",
   "id": "d3a113ee",
   "metadata": {},
   "source": [
    "Below cell defines the functions for $p(x)$ and $f(x)$"
   ]
  },
  {
   "cell_type": "code",
   "execution_count": null,
   "id": "bcbeb99f",
   "metadata": {},
   "outputs": [],
   "source": [
    "def p(x):\n",
    "    return x*x\n",
    "def f(x):\n",
    "    return np.sin(x)"
   ]
  },
  {
   "cell_type": "markdown",
   "id": "20c15717",
   "metadata": {},
   "source": [
    "First thing to do is discretizing these functions. We can use the **get_histogram** function from *utils* module"
   ]
  },
  {
   "cell_type": "code",
   "execution_count": null,
   "id": "a7b2b631",
   "metadata": {},
   "outputs": [],
   "source": [
    "from libraries.utils import get_histogram"
   ]
  },
  {
   "cell_type": "code",
   "execution_count": null,
   "id": "8b3a7406",
   "metadata": {},
   "outputs": [],
   "source": [
    "#number of Qbits for the circuit\n",
    "n_qbits = 4"
   ]
  },
  {
   "cell_type": "code",
   "execution_count": null,
   "id": "ce3b152b",
   "metadata": {},
   "outputs": [],
   "source": [
    "#The number of bins \n",
    "m_bins = 2**n_qbits\n",
    "LowerLimit = 0.0\n",
    "UpperLimit = 1.0 \n",
    "\n",
    "X, p_X = get_histogram(p, LowerLimit, UpperLimit, m_bins)\n",
    "f_X = f(X)"
   ]
  },
  {
   "cell_type": "markdown",
   "id": "2efe948c",
   "metadata": {},
   "source": [
    "It is mandatory that $p(x)$ and $f(x)$ were properly normalized. Following conditions should be fullfilled:\n",
    "\n",
    "* For $p(x)$ is mandatory that: $\\sum_{i=0}^{2^{n}} p(i) \\leq 1$\n",
    "* For $f(x)$ is mandatory that: $f(i) \\leq 1 \\forall i$"
   ]
  },
  {
   "cell_type": "code",
   "execution_count": null,
   "id": "ad3782ee",
   "metadata": {
    "scrolled": true
   },
   "outputs": [],
   "source": [
    "%matplotlib inline\n",
    "plt.plot(X, p_X, 'o')\n",
    "plt.plot(X, f_X, 'o')\n",
    "plt.legend(['p(x)', 'f(x)'])"
   ]
  },
  {
   "cell_type": "code",
   "execution_count": null,
   "id": "cd4d321a",
   "metadata": {},
   "outputs": [],
   "source": [
    "#Test condition in p(x)\n",
    "print('p(x) condition: {}'.format(np.sum(p_X) == 1))\n",
    "print('f(x) condition: {}'.format(np.max(f_X) <= 1))"
   ]
  },
  {
   "cell_type": "markdown",
   "id": "5cd029b7",
   "metadata": {},
   "source": [
    "## 2. Loading data"
   ]
  },
  {
   "cell_type": "markdown",
   "id": "cee2e0d0",
   "metadata": {},
   "source": [
    "Second part is loading the data ($p(x)$ and $f(x)$) into the quantum state. For this we need to create following 2 loading operators:\n",
    "\n",
    "1. $\\mathcal{P}$. for loading $p(x)$\n",
    "2. $\\mathcal{F}$. for loading $f(x)$\n",
    "\n",
    "So the main idea is begin with an initial $n+1$ qbits state:\n",
    "\n",
    "$$|0\\rangle_{n}\\otimes|0\\rangle_{1}$$\n",
    "\n",
    "An apply the following loading operation:\n",
    "\n",
    "$$|\\Psi\\rangle=\\mathcal{F}\\left(\\mathcal{P}\\otimes I\\right)|0\\rangle_{n}\\otimes|0\\rangle_{1}$$\n",
    "\n",
    "The quantum state resulting from the loading proccess: $|\\Psi\\rangle$ can be expressed as a linear combination of two orthogonal states $|\\Psi_{1}\\rangle$ y $|\\Psi_{0}\\rangle$:\n",
    "\n",
    "$$|\\Psi\\rangle=\\sqrt{a}|\\Psi_{0}\\rangle+\\sqrt{1-a}|\\Psi_{1}\\rangle$$\n",
    "\n",
    "where:\n",
    "$$|\\Psi_{1}\\rangle = \\sum_{x=0}^{2^{n}-1}|x\\rangle^{n}\\otimes\\frac{1}{\\sqrt{1-a}}\\sqrt{p(x)(1-f(x))}|1\\rangle$$\n",
    "$$|\\Psi_{0}\\rangle = \\sum_{x=0}^{2^{n}-1}|x\\rangle^{n}\\otimes\\frac{1}{\\sqrt{a}}\\sqrt{p(x)f(x)}|0\\rangle$$\n",
    "and\n",
    "$$ a = \\sum_{n=0}^{2^{n}-1} p(x)f(x)$$\n",
    "\n",
    "With this operations we have loaded the desired integral into the amplitude of the state: $|\\Psi_{0}\\rangle$\n",
    "\n",
    "For doing this operations **load_probability** and **load_array** functions from *data_loading* module will be used (see notebook **01_DataLoading_Module_Use.ipynb**)"
   ]
  },
  {
   "cell_type": "code",
   "execution_count": null,
   "id": "7df66281",
   "metadata": {},
   "outputs": [],
   "source": [
    "from libraries.data_loading import load_probability, load_array"
   ]
  },
  {
   "cell_type": "code",
   "execution_count": null,
   "id": "586e24ca",
   "metadata": {},
   "outputs": [],
   "source": [
    "p_gate = load_probability(p_X)\n",
    "f_gate = load_array(np.sqrt(f_X))"
   ]
  },
  {
   "cell_type": "code",
   "execution_count": null,
   "id": "0b38d2aa",
   "metadata": {},
   "outputs": [],
   "source": [
    "%qatdisplay p_gate --depth 0\n",
    "%qatdisplay f_gate --depth 0"
   ]
  },
  {
   "cell_type": "markdown",
   "id": "948e00cb",
   "metadata": {},
   "source": [
    "Now we compound the two operators $\\mathcal{P}$ aqnd $\\mathcal{F}$ for creating the necesary loading circuit"
   ]
  },
  {
   "cell_type": "code",
   "execution_count": null,
   "id": "68431c4b",
   "metadata": {},
   "outputs": [],
   "source": [
    "routine = qlm.QRoutine()\n",
    "register = routine.new_wires(f_gate.arity)\n",
    "routine.apply(p_gate, register[:p_gate.arity])\n",
    "routine.apply(f_gate, register)"
   ]
  },
  {
   "cell_type": "code",
   "execution_count": null,
   "id": "3b81314f",
   "metadata": {},
   "outputs": [],
   "source": [
    "%qatdisplay routine --depth 0"
   ]
  },
  {
   "cell_type": "markdown",
   "id": "427e75e3",
   "metadata": {},
   "source": [
    "We can test if the loading was properly implemented. For doing this we are going to use **get_results** from *data_extracting* module"
   ]
  },
  {
   "cell_type": "code",
   "execution_count": null,
   "id": "78a0c0dc",
   "metadata": {},
   "outputs": [],
   "source": [
    "from libraries.data_extracting import get_results"
   ]
  },
  {
   "cell_type": "code",
   "execution_count": null,
   "id": "6e9efbd6",
   "metadata": {},
   "outputs": [],
   "source": [
    "results,_,_,_ = get_results(routine, linalg_qpu=linalg_qpu)\n",
    "quantum_probabilities = results[\"Probability\"].values"
   ]
  },
  {
   "cell_type": "code",
   "execution_count": null,
   "id": "dfa151ed",
   "metadata": {},
   "outputs": [],
   "source": [
    "np.isclose(quantum_probabilities[0:2**p_gate.arity], p_X*f_X).all()"
   ]
  },
  {
   "cell_type": "markdown",
   "id": "655ed9f3",
   "metadata": {},
   "source": [
    "We are going to measure the complete state (**phi_state**) and the last qbit state (**InitialState**)"
   ]
  },
  {
   "cell_type": "code",
   "execution_count": null,
   "id": "2115b757",
   "metadata": {},
   "outputs": [],
   "source": [
    "phi_state,_,_,_ = get_results(routine, linalg_qpu=linalg_qpu)#, qubits=[f_gate.arity-1])\n",
    "InitialState,_,_,_ = get_results(routine, linalg_qpu=linalg_qpu, qubits=[f_gate.arity-1])"
   ]
  },
  {
   "cell_type": "code",
   "execution_count": null,
   "id": "7f33898b",
   "metadata": {},
   "outputs": [],
   "source": [
    "np.isclose(InitialState['Probability'].iloc[0], sum(p_X*f_X))"
   ]
  },
  {
   "cell_type": "markdown",
   "id": "1cf2fb43",
   "metadata": {},
   "source": [
    "## 3. Groover Operator"
   ]
  },
  {
   "cell_type": "markdown",
   "id": "fbf3aec1",
   "metadata": {},
   "source": [
    "The main idea of **amplitude amplification** is to amplify the amplitude of the  $|\\Psi_{0}\\rangle$ for computing the desired integral. For this the Grover-like operator $\\mathcal{G}$ will be used. In the present framework this operator can be decomposed in 2 different operators:\n",
    "\n",
    "$$\\hat{Q}=\\hat{U}_{|\\Psi\\rangle} \\hat{U}_{|\\Psi_{0}\\rangle}$$\n",
    "\n",
    "Where $\\hat{U}_{|\\Psi\\rangle}$ y $\\hat{U}_{|\\Psi_{0}\\rangle}$ are:\n",
    "\n",
    "$$\\hat{U}_{|\\Psi_{0}\\rangle } = \\hat{I} - 2|\\Psi_{0}\\rangle \\langle \\Psi_{0}|$$\n",
    "$$\\hat{U}_{|\\Psi\\rangle } = \\hat{I} - 2|\\Psi\\rangle\\langle \\Psi|$$\n"
   ]
  },
  {
   "cell_type": "code",
   "execution_count": null,
   "id": "6970320c",
   "metadata": {},
   "outputs": [],
   "source": [
    "from libraries.AE.amplitude_amplification_bis import U0, U, grover"
   ]
  },
  {
   "cell_type": "markdown",
   "id": "872d66d7",
   "metadata": {},
   "source": [
    "### 3.1 $\\hat{U}_{|\\Psi_{0}\\rangle} = \\hat{I} - 2|\\Psi_{0}\\rangle \\langle \\Psi_{0}|$\n",
    "\n",
    "For constuct this operator we need:\n",
    "1. Oracle: in our case this will be the complete loading routine:\n",
    "\n",
    "$$\\mathcal{F}\\left(\\mathcal{P}\\otimes I\\right)$$\n",
    "\n",
    "2. Target: the binnary representation of the marked state. \n",
    "\n",
    "3. index: the registers where the Target is.\n",
    "\n",
    "In our case the marked state is $|\\Psi_{0}\\rangle$:\n",
    "\n",
    " $$|\\Psi_{0}\\rangle = \\sum_{x=0}^{2^{n}-1}|x\\rangle^{n}\\otimes\\frac{1}{\\sqrt{a}}\\sqrt{p(x)f(x)}|0\\rangle$$\n",
    "\n",
    "This is equivalent to a target state $|0\\rangle$ on the last qbit of the quantum sistem!!\n"
   ]
  },
  {
   "cell_type": "code",
   "execution_count": null,
   "id": "20715fd7",
   "metadata": {},
   "outputs": [],
   "source": [
    "oracle = routine\n",
    "target = [0]\n",
    "index = [routine.arity-1]\n",
    "u0_gate = U0(routine, target, index)"
   ]
  },
  {
   "cell_type": "code",
   "execution_count": null,
   "id": "b5843a99",
   "metadata": {},
   "outputs": [],
   "source": [
    "%qatdisplay u0_gate --depth 0"
   ]
  },
  {
   "cell_type": "code",
   "execution_count": null,
   "id": "7f2c6822",
   "metadata": {},
   "outputs": [],
   "source": [
    "u0_routine = deepcopy(routine)\n",
    "u0_routine.apply(u0_gate, register)"
   ]
  },
  {
   "cell_type": "code",
   "execution_count": null,
   "id": "a338c2cb",
   "metadata": {},
   "outputs": [],
   "source": [
    "%qatdisplay u0_routine --depth 0"
   ]
  },
  {
   "cell_type": "code",
   "execution_count": null,
   "id": "95846148",
   "metadata": {},
   "outputs": [],
   "source": [
    "results_u0,_,_,_ = get_results(u0_routine, linalg_qpu=linalg_qpu)"
   ]
  },
  {
   "cell_type": "code",
   "execution_count": null,
   "id": "031faaf6",
   "metadata": {},
   "outputs": [],
   "source": [
    "print(np.isclose(\n",
    "    results_u0[results_u0['Int_lsb'] < 2**n_qbits]['Amplitude'],\n",
    "    -phi_state[phi_state['Int_lsb'] < 2**n_qbits]['Amplitude']\n",
    ").all())\n",
    "\n",
    "print(np.isclose(\n",
    "    results_u0[results_u0['Int_lsb'] > 2**n_qbits]['Amplitude'],\n",
    "    phi_state[phi_state['Int_lsb'] > 2**n_qbits]['Amplitude']\n",
    ").all())"
   ]
  },
  {
   "cell_type": "markdown",
   "id": "4e626102",
   "metadata": {},
   "source": [
    "### 3.2 $\\hat{U}_{|\\Psi\\rangle } = \\hat{I} - 2|\\Psi\\rangle\\langle \\Psi|$\n",
    "\n",
    "In this case we only need to provide the Oracle routine for creating the Groover diffusor"
   ]
  },
  {
   "cell_type": "code",
   "execution_count": null,
   "id": "0cb09147",
   "metadata": {},
   "outputs": [],
   "source": [
    "u_gate = U(routine)\n",
    "%qatdisplay u_gate --depth 1"
   ]
  },
  {
   "cell_type": "code",
   "execution_count": null,
   "id": "b65c3424",
   "metadata": {},
   "outputs": [],
   "source": [
    "u_routine = deepcopy(routine)\n",
    "u_routine.apply(u_gate, register)"
   ]
  },
  {
   "cell_type": "code",
   "execution_count": null,
   "id": "c5b134e3",
   "metadata": {},
   "outputs": [],
   "source": [
    "%qatdisplay u_routine --depth 0"
   ]
  },
  {
   "cell_type": "code",
   "execution_count": null,
   "id": "de7ab6d3",
   "metadata": {},
   "outputs": [],
   "source": [
    "results_u,_,_,_ = get_results(u_routine, linalg_qpu=linalg_qpu)"
   ]
  },
  {
   "cell_type": "code",
   "execution_count": null,
   "id": "d057c84a",
   "metadata": {},
   "outputs": [],
   "source": [
    "np.isclose(\n",
    "    results_u['Amplitude'], \n",
    "    -phi_state['Amplitude']\n",
    ").all()"
   ]
  },
  {
   "cell_type": "markdown",
   "id": "58da4bd0",
   "metadata": {},
   "source": [
    "### 3.3 $\\hat{Q}=\\hat{U}_{|\\Psi\\rangle} \\hat{U}_{|\\Psi_{0}\\rangle}$\n",
    "\n",
    "For creating the desired Grover-like operator we should provide the same that for the $\\hat{U}_{|\\Psi_{0}\\rangle}$ operator:\n",
    "\n",
    "For constuct this operator we need:\n",
    "1. Oracle: in our case this will be the complete loading routine:\n",
    "\n",
    "$$\\mathcal{F}\\left(\\mathcal{P}\\otimes I\\right)$$\n",
    "\n",
    "2. Target: the binnary representation of the marked state. \n",
    "\n",
    "3. index: the registers where the Target is.\n",
    "\n",
    "In our case the marked state is $|\\Psi_{0}\\rangle$:\n",
    "\n",
    " $$|\\Psi_{0}\\rangle = \\sum_{x=0}^{2^{n}-1}|x\\rangle^{n}\\otimes\\frac{1}{\\sqrt{a}}\\sqrt{p(x)f(x)}|0\\rangle$$\n",
    "\n",
    "This is equivalent to a target state $|0\\rangle$ on the last qbit of the quantum sistem!!"
   ]
  },
  {
   "cell_type": "code",
   "execution_count": null,
   "id": "070a1a8b",
   "metadata": {},
   "outputs": [],
   "source": [
    "oracle = routine\n",
    "target = [0]\n",
    "index = [routine.arity-1]\n",
    "q_gate = grover(oracle, target, index)\n",
    "%qatdisplay q_gate --depth 2"
   ]
  },
  {
   "cell_type": "code",
   "execution_count": null,
   "id": "23995f27",
   "metadata": {},
   "outputs": [],
   "source": [
    "q_routine = deepcopy(routine)\n",
    "q_routine.apply(q_gate, register)"
   ]
  },
  {
   "cell_type": "code",
   "execution_count": null,
   "id": "d9fd119c",
   "metadata": {},
   "outputs": [],
   "source": [
    "%qatdisplay q_routine --depth 0"
   ]
  },
  {
   "cell_type": "code",
   "execution_count": null,
   "id": "4ea86c1c",
   "metadata": {},
   "outputs": [],
   "source": [
    "results_q,_,_,_ = get_results(q_routine, linalg_qpu=linalg_qpu, qubits=[u_routine.arity-1])"
   ]
  },
  {
   "cell_type": "code",
   "execution_count": null,
   "id": "e82443b5",
   "metadata": {},
   "outputs": [],
   "source": [
    "#First get the Amplitudes for Phi state\n",
    "a0 = np.sqrt(InitialState.iloc[0]['Probability'])\n",
    "a1 = np.sqrt(InitialState.iloc[1]['Probability'])"
   ]
  },
  {
   "cell_type": "code",
   "execution_count": null,
   "id": "4cfef6b1",
   "metadata": {},
   "outputs": [],
   "source": [
    "#Calculating Theta using the quantum state from loading data: LResults\n",
    "def GetAngle(Array):\n",
    "    Modulo = np.linalg.norm(Array)\n",
    "    cosTheta = Array[0]/Modulo\n",
    "    Theta0 = np.arccos(cosTheta)\n",
    "    sinTheta = Array[1]/Modulo\n",
    "    Theta1 = np.arcsin(sinTheta)\n",
    "    #print(Modulo, cosTheta, sinTheta, Theta0, Theta1)\n",
    "    return Theta0\n",
    "\n",
    "#Quantum state after loading data: |Psi>\n",
    "Psi_ = np.array([a0, a1])\n",
    "#Angle between |Psi> and axis |Psi_0>\n",
    "theta = GetAngle(Psi_)\n",
    "print('theta: {}'.format(theta))\n",
    "print('Psi_: {}'.format(Psi_))"
   ]
  },
  {
   "cell_type": "code",
   "execution_count": null,
   "id": "d1f1b5ec",
   "metadata": {},
   "outputs": [],
   "source": [
    "#In order to test that this theta is ok we can compute it from p(x) and f(x)\n",
    "a = sum(p_X*f_X)\n",
    "sqrt_a = np.sqrt(a)\n",
    "theta2 = np.arccos(sqrt_a)\n",
    "print('theta2: {}'.format(theta2))\n",
    "\n",
    "print('Is theta equals to theta2: {}'.format(np.isclose(theta, theta2)))"
   ]
  },
  {
   "cell_type": "code",
   "execution_count": null,
   "id": "662428f1",
   "metadata": {},
   "outputs": [],
   "source": [
    "#Create a Rotation of 2*theta\n",
    "c, s = np.cos(2*theta), np.sin(2.*theta)\n",
    "#Rotation matrix\n",
    "R = np.array(((c, -s), (s, c)))\n",
    "#Apply Ry(2*theta) to quantum state |Psi>\n",
    "RotationResults = np.dot(R, Psi_)"
   ]
  },
  {
   "cell_type": "code",
   "execution_count": null,
   "id": "d3710783",
   "metadata": {},
   "outputs": [],
   "source": [
    "RotationResults"
   ]
  },
  {
   "cell_type": "code",
   "execution_count": null,
   "id": "f7f68d24",
   "metadata": {},
   "outputs": [],
   "source": [
    "print('Square Of Rotated Vector: {}'.format(RotationResults**2))\n",
    "print('Probabilities for QPhi_State: {} '.format(list(results_q['Probability'])))\n",
    "print('Square of the RotateState equal to Probabilities of Q|Phi> state : {}'.format(\n",
    "    np.isclose(RotationResults**2, results_q['Probability']).all())\n",
    "     )"
   ]
  },
  {
   "cell_type": "markdown",
   "id": "9a7ad023",
   "metadata": {},
   "source": [
    "## 4. Phase Estimation with Quantum Fourier Transformation"
   ]
  },
  {
   "cell_type": "markdown",
   "id": "1f3e8156",
   "metadata": {},
   "source": [
    "Now we have the initial state after the loading procedure:\n",
    "\n",
    "$$|\\Psi\\rangle=\\mathcal{F}\\left(\\mathcal{P}\\otimes I\\right)|0\\rangle_{n}\\otimes|0\\rangle_{1}$$\n",
    "\n",
    "That can be decomposed in:\n",
    "\n",
    "$$|\\Psi\\rangle=\\sin{\\theta}|\\Psi_{1}\\rangle+\\cos{\\theta}|\\Psi_{0}\\rangle$$\n",
    "\n",
    "And the corresponding Grover-like operator $\\mathcal{Q}$ based on the loading operator:\n",
    "\n",
    "$$\\mathcal{F}\\left(\\mathcal{P}\\otimes I\\right)$$\n",
    "\n",
    "The main idea in the **amplitude amplification** is use a similar procedure like in Grover algorithm in order to increase the probability of the $|\\Psi_{0}\\rangle$ state. This can be in a straightoforward way by applying operator $\\mathcal{Q}$ $k$ times:\n",
    "\n",
    "$$\\hat{Q}^{k}|\\Psi\\rangle = \\sin{((2*k+1)\\theta)}|\\Psi_{1}\\rangle+\\cos{((2*k+1)\\theta})|\\Psi_{0}\\rangle$$\n",
    "\n",
    "The idea is apply $k$ in such a way that the probability of $|\\Psi_{0}\\rangle$ is maximized. For this we can equal:\n",
    "\n",
    "\n",
    "$$P_{|\\Psi_{1}\\rangle} = \\cos^{2}((2*k+1)\\theta) \\approx 1$$ \n",
    "\n",
    "So:\n",
    "\n",
    "$$(2k+1)\\theta = m\\pi$$ where $m=0, 1, 2...$\n",
    "\n",
    "We have two unknows variables: $\\theta$ and $K$. If we know $\\theta$ we can know how many applications of $\\hat{Q}$ we need for maximazing the state we want.\n",
    "\n",
    "The **Phase Estimation Algorithm** can be used for estimating this $\\theta$:\n",
    "\n",
    "For this we need to create n auxiliary qbits in state $|+\\rangle$. Each qbit will be the controlled qbit for a controlled application of $\\mathcal{Q}^{K}$ (for each controlled qbit the K will change). Finally over the auxiliary qbits we apply an inverse of the Quantum Fourier Operator ($\\mathcal{QFT}$). The measurmente of this auxiliary qbits will give us an estimation of the desired $\\theta$. This estimation will be more exact when more auxiliary qbits we use for the $\\mathcal{QFT}$.\n",
    "\n",
    "For this algorithm if we have $m$ auxiliary qbits and the measurment of the $\\mathcal{QFT}$ is the integer $M$ then:\n",
    "\n",
    "$$\\theta = \\frac{M\\pi}{2^m}$$"
   ]
  },
  {
   "cell_type": "code",
   "execution_count": null,
   "id": "18ee0c5d",
   "metadata": {},
   "outputs": [],
   "source": [
    "def load_qn_gate(qlm_gate, n_times):\n",
    "    \"\"\"\n",
    "    Create an AbstractGate by applying an input gate n times\n",
    "\n",
    "    Parameters\n",
    "    ----------\n",
    "\n",
    "    qlm_gate : QLM gate\n",
    "        QLM gate that will be applied n times\n",
    "    n_times : int\n",
    "        number of times the qlm_gate will be applied\n",
    "\n",
    "    \"\"\"\n",
    "    @qlm.build_gate(\"Q^{}\".format(n_times), [], arity=qlm_gate.arity)\n",
    "    def q_n_gate():\n",
    "        \"\"\"\n",
    "        Function generator for creating an AbstractGate for apply\n",
    "        an input gate n times\n",
    "        Returns\n",
    "        ----------\n",
    "        q_rout : quantum routine\n",
    "            Routine for applying n times an input gate\n",
    "        \"\"\"\n",
    "        q_rout = qlm.QRoutine()\n",
    "        q_bits = q_rout.new_wires(qlm_gate.arity)\n",
    "        for _ in range(n_times):\n",
    "            q_rout.apply(qlm_gate, q_bits)\n",
    "        return q_rout\n",
    "    return q_n_gate()\n"
   ]
  },
  {
   "cell_type": "code",
   "execution_count": null,
   "id": "4b2e212e",
   "metadata": {},
   "outputs": [],
   "source": [
    "#Allocating Auxiliar qbits for Phase Estimation\n",
    "n_aux = 7\n",
    "qft_routine = deepcopy(routine)\n",
    "qAux = qft_routine.new_wires(n_aux)\n",
    "for i, aux in enumerate(qAux):\n",
    "    qft_routine.apply(qlm.H, aux)\n",
    "    step_q_gate = load_qn_gate(q_gate, 2**i)\n",
    "    qft_routine.apply(step_q_gate.ctrl(), aux, register)\n",
    "qft_routine.apply(qlm.qftarith.QFT(n_aux).dag(), qAux)    "
   ]
  },
  {
   "cell_type": "code",
   "execution_count": null,
   "id": "9ed4650b",
   "metadata": {},
   "outputs": [],
   "source": [
    "%%time\n",
    "results_q,circuit,_,_ = get_results(\n",
    "    qft_routine, \n",
    "    linalg_qpu=linalg_qpu,\n",
    "    qubits=range(routine.arity, routine.arity+len(qAux))\n",
    ")"
   ]
  },
  {
   "cell_type": "code",
   "execution_count": null,
   "id": "1d0bbd3d",
   "metadata": {
    "scrolled": true
   },
   "outputs": [],
   "source": [
    "%qatdisplay circuit --depth 0"
   ]
  },
  {
   "cell_type": "code",
   "execution_count": null,
   "id": "81c29625",
   "metadata": {},
   "outputs": [],
   "source": [
    "results_q['Thetas'] = results_q['Int']*np.pi/(2**n_aux)\n",
    "results_q.sort_values('Probability', ascending=False, inplace = True)"
   ]
  },
  {
   "cell_type": "code",
   "execution_count": null,
   "id": "2c6753ca",
   "metadata": {},
   "outputs": [],
   "source": [
    "results_q.head()"
   ]
  },
  {
   "cell_type": "code",
   "execution_count": null,
   "id": "6ee08a6e",
   "metadata": {},
   "outputs": [],
   "source": [
    "len(results_q)"
   ]
  },
  {
   "cell_type": "code",
   "execution_count": null,
   "id": "fa382e16",
   "metadata": {},
   "outputs": [],
   "source": [
    "#Now we can plot te probability for each posible theta\n",
    "%matplotlib inline\n",
    "plt.plot(results_q['Thetas'], results_q['Probability'], 'o')\n",
    "plt.xlabel('Theta')\n",
    "plt.ylabel('Probability')"
   ]
  },
  {
   "cell_type": "code",
   "execution_count": null,
   "id": "dc773dad",
   "metadata": {},
   "outputs": [],
   "source": [
    "#We take the thetas were probability is maximum\n",
    "theta_0 = results_q.sort_values('Probability', ascending =False)['Thetas'].iloc[0]\n",
    "theta_1 = results_q.sort_values('Probability', ascending =False)['Thetas'].iloc[1]\n",
    "\n",
    "print('theta_0: {}'.format(theta_0))\n",
    "print('theta_1: {}'.format(theta_1))"
   ]
  },
  {
   "cell_type": "code",
   "execution_count": null,
   "id": "aa19a300",
   "metadata": {},
   "outputs": [],
   "source": [
    "#So we test that the 2 are the same angle with different signs\n",
    "np.isclose(theta_0, np.pi -theta_1)"
   ]
  },
  {
   "cell_type": "code",
   "execution_count": null,
   "id": "07f2066a",
   "metadata": {},
   "outputs": [],
   "source": [
    "#Now we can plot te probability for each posible theta\n",
    "%matplotlib inline\n",
    "plt.plot(np.cos(results_q['Thetas'])**2, results_q['Probability'], 'o')\n",
    "plt.xlabel('E_p[f]')\n",
    "plt.ylabel('Probability')"
   ]
  },
  {
   "cell_type": "code",
   "execution_count": null,
   "id": "dfa4d5f6",
   "metadata": {},
   "outputs": [],
   "source": [
    "theoric_theta = np.arccos(np.sqrt(sum(p_X*f_X)))\n",
    "print('theoric_theta: {}'.format(theoric_theta))\n",
    "print('theta_1: {}'.format(theta_0))\n",
    "print('Theorical Integration: {}'.format(sum(p_X*f_X)))\n",
    "print('Amplitude Amplification Integral: {}'.format(np.cos(theta_0)**2))"
   ]
  },
  {
   "cell_type": "code",
   "execution_count": null,
   "id": "0457cbea",
   "metadata": {},
   "outputs": [],
   "source": [
    "theoric_theta = np.arccos(np.sqrt(sum(p_X*f_X)))\n",
    "print('theoric_theta: {}'.format(theoric_theta))\n",
    "print('theta_1: {}'.format(theta_0))\n",
    "print('Theorical Integration: {}'.format(sum(p_X*f_X)))\n",
    "print('Amplitude Amplification Integral: {}'.format(np.cos(theta_0)**2))\n",
    "print('Estimation Difference: {}'.format(abs(sum(p_X*f_X)-np.cos(theta_0)**2)))"
   ]
  },
  {
   "cell_type": "markdown",
   "id": "92a51970",
   "metadata": {},
   "source": [
    "## 5. Maximum Likelihood Amplitude Estimation"
   ]
  },
  {
   "cell_type": "markdown",
   "id": "beedd4b1",
   "metadata": {},
   "source": [
    "Quantum circuit implementation of $\\mathcal{QFT}$ are very complex and very long and deep so its use in actual quantum computers is noisy and not very useful.\n",
    "\n",
    "The **Maximum Likelihood Amplitude Estimation** algorithm (**MLAE**) allows to take advantage of **amplitude amplification** without the use of the  $\\mathcal{QFT}$.\n",
    "\n",
    "For doing this  we are going to use the  **maximum_likelihood_ae** module "
   ]
  },
  {
   "cell_type": "code",
   "execution_count": null,
   "id": "b7ebdcdc",
   "metadata": {},
   "outputs": [],
   "source": [
    "from  libraries.AE.maximum_likelihood_ae  import MLAE"
   ]
  },
  {
   "cell_type": "markdown",
   "id": "11696f11",
   "metadata": {},
   "source": [
    "The notebook **04_MaximumLikelihood_Class** explains how this class works. In our case we need to provide:\n",
    "\n",
    "1. Oracle\n",
    "2. Target: the binnary representation of the marked state. \n",
    "3. index: the registers where the Target is.\n",
    "\n",
    "In our case is the same that we use for generating Grover-like operator"
   ]
  },
  {
   "cell_type": "code",
   "execution_count": null,
   "id": "d6c95b32",
   "metadata": {},
   "outputs": [],
   "source": [
    "oracle = deepcopy(routine)\n",
    "target = [0]\n",
    "index = [routine.arity-1]"
   ]
  },
  {
   "cell_type": "code",
   "execution_count": null,
   "id": "79bd01eb",
   "metadata": {},
   "outputs": [],
   "source": [
    "%qatdisplay oracle"
   ]
  },
  {
   "cell_type": "markdown",
   "id": "c1a2f718",
   "metadata": {},
   "source": [
    "Additionally a schedule where the list of applications of Grover-like operator should be provided"
   ]
  },
  {
   "cell_type": "code",
   "execution_count": null,
   "id": "47e38907",
   "metadata": {},
   "outputs": [],
   "source": [
    "m_k = list(range(20))\n",
    "n_k = [100]*len(m_k)\n",
    "schedule = [m_k,n_k]"
   ]
  },
  {
   "cell_type": "code",
   "execution_count": null,
   "id": "cd68b1cd",
   "metadata": {},
   "outputs": [],
   "source": [
    "mlae = MLAE(\n",
    "    oracle,target = target,\n",
    "    index = index,\n",
    "    schedule = schedule)"
   ]
  },
  {
   "cell_type": "code",
   "execution_count": null,
   "id": "17a7bf8f",
   "metadata": {},
   "outputs": [],
   "source": [
    "angle = mlae.optimize()"
   ]
  },
  {
   "cell_type": "code",
   "execution_count": null,
   "id": "133ab2c6",
   "metadata": {},
   "outputs": [],
   "source": [
    "print(\"Theta: {}\".format(angle))\n",
    "print(\"Quantum result: \",np.sin(angle)**2)"
   ]
  },
  {
   "cell_type": "code",
   "execution_count": null,
   "id": "319b55b4",
   "metadata": {},
   "outputs": [],
   "source": [
    "sum(p_X*f_X)"
   ]
  },
  {
   "cell_type": "code",
   "execution_count": null,
   "id": "485dc079",
   "metadata": {},
   "outputs": [],
   "source": [
    "delta = 1e-5\n",
    "angles = np.linspace(0+delta,np.pi/2-delta,100)\n",
    "\n",
    "cost = np.zeros(len(angles))\n",
    "for i in range(len(angles)):\n",
    "    cost[i] = mlae.cost_function(angles[i])"
   ]
  },
  {
   "cell_type": "code",
   "execution_count": null,
   "id": "05b00e73",
   "metadata": {},
   "outputs": [],
   "source": [
    "plt.plot(angles,cost)\n",
    "#plt.axvline(theta,color = 'r')\n",
    "plt.grid()\n",
    "plt.xlabel(r\"$\\theta$\")\n",
    "plt.ylabel(r\"$C(\\theta)$\")"
   ]
  },
  {
   "cell_type": "markdown",
   "id": "5d26631e",
   "metadata": {},
   "source": [
    "## 6. Iterative"
   ]
  },
  {
   "cell_type": "markdown",
   "id": "67acf142",
   "metadata": {},
   "source": [
    "Additionally we can use the *Iterative Phase Estimation* for getting the $\\theta$ for this problem.\n",
    "For using **IterativeQuantumPE** we need to provide:\n",
    "\n",
    "* initial_state : in this case will be the oracle\n",
    "* unitary_operator:  in this case will be the Grover-like operator build using *oracle* \n",
    "* cbits_number: number of classical bits used for phase estimation\n",
    "\n",
    "For creating the grover operator we are going to use the *grover* function from *amplitude_amplification* module and the same *target^and *index*  then in the *maximum likelihood* class will be used:"
   ]
  },
  {
   "cell_type": "code",
   "execution_count": null,
   "id": "81994955",
   "metadata": {},
   "outputs": [],
   "source": [
    "from libraries.AE.amplitude_amplification_bis import grover"
   ]
  },
  {
   "cell_type": "code",
   "execution_count": null,
   "id": "e9709c80",
   "metadata": {},
   "outputs": [],
   "source": [
    "target = [0]\n",
    "index = [oracle.arity-1]\n",
    "q_gate = grover(oracle, target, index)"
   ]
  },
  {
   "cell_type": "code",
   "execution_count": null,
   "id": "997bfd41",
   "metadata": {},
   "outputs": [],
   "source": [
    "%qatdisplay q_gate --depth 1"
   ]
  },
  {
   "cell_type": "code",
   "execution_count": null,
   "id": "8f6d1fd8",
   "metadata": {},
   "outputs": [],
   "source": [
    "#Load Class\n",
    "from libraries.PE.iterative_quantum_pe_2 import IterativeQuantumPE"
   ]
  },
  {
   "cell_type": "code",
   "execution_count": null,
   "id": "538a23ba",
   "metadata": {},
   "outputs": [],
   "source": [
    "n_cbits = 7\n",
    "#We create a python dictionary for configuration of class\n",
    "iqpe_dict = {\n",
    "    'initial_state': oracle,\n",
    "    'unitary_operator': q_gate,\n",
    "    'qpu' : linalg_qpu,\n",
    "    'cbits_number' : n_cbits,\n",
    "    'shots': 100\n",
    "    #'easy': True,\n",
    "    #'easy': False    \n",
    "}\n",
    "IQPE = IterativeQuantumPE(**iqpe_dict)"
   ]
  },
  {
   "cell_type": "code",
   "execution_count": null,
   "id": "011930a9",
   "metadata": {},
   "outputs": [],
   "source": [
    "IQPE.iqpe()"
   ]
  },
  {
   "cell_type": "code",
   "execution_count": null,
   "id": "4b7b0aba",
   "metadata": {},
   "outputs": [],
   "source": [
    "plt.hist(IQPE.final_results['theta_90'], bins= 100)"
   ]
  },
  {
   "cell_type": "code",
   "execution_count": null,
   "id": "db6ee5fd",
   "metadata": {},
   "outputs": [],
   "source": [
    "pdf = IQPE.sumary\n",
    "pdf['P']=np.cos(pdf['theta_90'])**2"
   ]
  },
  {
   "cell_type": "code",
   "execution_count": null,
   "id": "6f100d53",
   "metadata": {},
   "outputs": [],
   "source": [
    "print(\"Classical result: \", np.sum(p_X*f_X))\n",
    "print(\"Quantum result: \",pdf.iloc[0]['P'])"
   ]
  }
 ],
 "metadata": {
  "kernelspec": {
   "display_name": "Python 3 (ipykernel)",
   "language": "python",
   "name": "python3"
  },
  "language_info": {
   "codemirror_mode": {
    "name": "ipython",
    "version": 3
   },
   "file_extension": ".py",
   "mimetype": "text/x-python",
   "name": "python",
   "nbconvert_exporter": "python",
   "pygments_lexer": "ipython3",
   "version": "3.9.9"
  }
 },
 "nbformat": 4,
 "nbformat_minor": 5
}
