{
 "cells": [
  {
   "cell_type": "code",
   "execution_count": 2,
   "id": "ac20b995",
   "metadata": {},
   "outputs": [],
   "source": [
    "import numpy as np\n",
    "import pandas as pd\n",
    "from numpy import pi\n",
    "\n",
    "import matplotlib.pyplot as plt\n",
    "from scipy.stats import norm as scp_normal_distribution \n",
    "%matplotlib inline\n",
    "\n",
    "import qat.lang.AQASM as qlm\n",
    "\n",
    "from qat.qpus import LinAlg\n",
    "# from qat.qlmaas import QLMaaSConnection\n",
    "# conn = QLMaaSConnection(hostname=\"10.120.6.44\")\n",
    "# conn.create_config() \n",
    "# from qlmaas.qpus import LinAlg\n",
    "import qat.core.console as console\n",
    "from qat.core import Result\n",
    "\n",
    "from copy import copy, deepcopy\n",
    "import  sys\n",
    "\n",
    "sys.path.append(\"../libraries/\")\n",
    "from data_loading import *\n",
    "from utils import *\n",
    "\n"
   ]
  },
  {
   "cell_type": "code",
   "execution_count": 3,
   "id": "aa0b3245",
   "metadata": {},
   "outputs": [],
   "source": [
    "def draw(routine):\n",
    "    program = qlm.Program()\n",
    "    quantum_register = program.qalloc(routine.arity)\n",
    "    program.apply(routine,quantum_register)\n",
    "    global circuit\n",
    "    circuit = program.to_circ()\n",
    "    %qatdisplay circuit --depth 1\n",
    "    del circuit\n",
    "    \n",
    "    \n",
    "\n",
    "@qlm.build_gate(\"LP\", [int,int,float], arity=lambda x,y,z: x)\n",
    "def load_point(number_qubits: int,index: int,value: float):\n",
    "    \n",
    "    angle = 2*np.arccos(value)\n",
    "    routine = qlm.QRoutine()\n",
    "    quantum_register = routine.new_wires(number_qubits)\n",
    "\n",
    "    routine.apply(mask(number_qubits-1,index),quantum_register[:number_qubits-1])\n",
    "    # Load function marking last state\n",
    "    routine.apply(multi_controlled_Ry(number_qubits,angle),quantum_register)\n",
    "    routine.apply(mask(number_qubits-1,index),quantum_register[:number_qubits-1])\n",
    "\n",
    "    return routine\n",
    "\n",
    "#@build_gate(\"LP\", [np.array], arity=lambda x: int(np.ceil(np.log2(x)))+1)\n",
    "def load_function(f: np.array):\n",
    "    number_qubits = int(np.ceil(np.log2(f.size)))+1\n",
    "    if (np.max(f)>1.):\n",
    "        print(\"ERROR: Maximum value of f cannot exceed 1\")\n",
    "\n",
    "    routine = qlm.QRoutine()\n",
    "    quantum_register = routine.new_wires(number_qubits)\n",
    "\n",
    "    for i in range(len(f)):\n",
    "        routine.apply(load_point(number_qubits,i,f[i]),quantum_register)\n",
    "        \n",
    "    return routine\n",
    "\n",
    "# Measure probabilities\n",
    "def measure_probabilities(gate,shots = 0):\n",
    "    program = qlm.Program()\n",
    "    quantum_register = program.qalloc(gate.arity)\n",
    "    program.apply(gate,quantum_register)\n",
    "    circuit = program.to_circ()\n",
    "\n",
    "    job = circuit.to_job(nbshots = shots)\n",
    "    linalg_qpu = LinAlg()\n",
    "    result = linalg_qpu.submit(job)\n",
    "    if not isinstance(result,Result):\n",
    "        result = result.join()\n",
    "\n",
    "    # Result\n",
    "    result_array = np.zeros(2**number_qubits)\n",
    "    for sample in result:\n",
    "        result_array[sample.state.lsb_int] = sample.probability\n",
    "    return result_array\n",
    "\n",
    "# Measure probabilities\n",
    "def measure_amplitudes(gate,shots = 0):\n",
    "    program = qlm.Program()\n",
    "    quantum_register = program.qalloc(gate.arity)\n",
    "    program.apply(gate,quantum_register)\n",
    "    circuit = program.to_circ()\n",
    "\n",
    "    job = circuit.to_job(nbshots = shots)\n",
    "    linalg_qpu = LinAlg()\n",
    "    result = linalg_qpu.submit(job)\n",
    "    if not isinstance(result,Result):\n",
    "        result = result.join()\n",
    "\n",
    "    # Result\n",
    "    result_array = np.zeros(2**number_qubits)\n",
    "    for sample in result:\n",
    "        result_array[sample.state.lsb_int] = sample.probability\n",
    "    return result_array"
   ]
  },
  {
   "cell_type": "code",
   "execution_count": 4,
   "id": "1b603110",
   "metadata": {},
   "outputs": [
    {
     "data": {
      "image/png": "[encoded data removed]",
      "text/plain": [
       "<IPython.core.display.Image object>"
      ]
     },
     "execution_count": 4,
     "metadata": {},
     "output_type": "execute_result"
    }
   ],
   "source": [
    "number_qubits = 5\n",
    "f = np.arange(2**(number_qubits-2))\n",
    "f_normalised = f/np.max(f)\n",
    "routine = qlm.QRoutine()\n",
    "quantum_register = routine.new_wires(number_qubits)\n",
    "routine.apply(uniform_distribution(number_qubits-2),quantum_register[:number_qubits-2])\n",
    "routine.apply(mask(number_qubits-2,3),quantum_register[:number_qubits-2])\n",
    "#routine.apply(load_function(f_normalised),quantum_register[:number_qubits-1])\n",
    "#routine.apply(load_function(f_normalised),[quantum_register[:number_qubits-2],quantum_register[number_qubits-1]])\n",
    "#routine.apply(mask(3,3),quantum_register[0:3])\n",
    "#routine.apply(multi_controlled_Ry(number_qubits-1,0.5),[quantum_register[0],quantum_register[2],quantum_register[3]])\n",
    "draw(routine)\n",
    "#np.sqrt(measure_probabilities(routine)*2**(number_qubits-2))*np.max(f)*np.max(f)"
   ]
  },
  {
   "cell_type": "code",
   "execution_count": 1,
   "id": "e4bee572",
   "metadata": {},
   "outputs": [
    {
     "ename": "NameError",
     "evalue": "name 'f' is not defined",
     "output_type": "error",
     "traceback": [
      "\u001b[0;31m---------------------------------------------------------------------------\u001b[0m",
      "\u001b[0;31mNameError\u001b[0m                                 Traceback (most recent call last)",
      "\u001b[0;32m/tmp/ipykernel_177057/4058002314.py\u001b[0m in \u001b[0;36m<module>\u001b[0;34m\u001b[0m\n\u001b[0;32m----> 1\u001b[0;31m \u001b[0mf\u001b[0m\u001b[0;34m\u001b[0m\u001b[0;34m\u001b[0m\u001b[0m\n\u001b[0m",
      "\u001b[0;31mNameError\u001b[0m: name 'f' is not defined"
     ]
    }
   ],
   "source": [
    "f"
   ]
  },
  {
   "cell_type": "code",
   "execution_count": null,
   "id": "6a774fe5",
   "metadata": {},
   "outputs": [],
   "source": []
  },
  {
   "cell_type": "code",
   "execution_count": null,
   "id": "0f6308a0",
   "metadata": {},
   "outputs": [],
   "source": []
  },
  {
   "cell_type": "code",
   "execution_count": null,
   "id": "2acd0f3a",
   "metadata": {},
   "outputs": [],
   "source": []
  },
  {
   "cell_type": "code",
   "execution_count": null,
   "id": "b32c878d",
   "metadata": {},
   "outputs": [],
   "source": []
  }
 ],
 "metadata": {
  "kernelspec": {
   "display_name": "Python 3 (ipykernel)",
   "language": "python",
   "name": "python3"
  },
  "language_info": {
   "codemirror_mode": {
    "name": "ipython",
    "version": 3
   },
   "file_extension": ".py",
   "mimetype": "text/x-python",
   "name": "python",
   "nbconvert_exporter": "python",
   "pygments_lexer": "ipython3",
   "version": "3.9.2"
  }
 },
 "nbformat": 4,
 "nbformat_minor": 5
}
