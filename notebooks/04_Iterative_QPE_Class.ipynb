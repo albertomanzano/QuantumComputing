{
 "cells": [
  {
   "cell_type": "markdown",
   "id": "91740961",
   "metadata": {},
   "source": [
    "# Iterative Phase Estimation (IQPE)"
   ]
  },
  {
   "cell_type": "markdown",
   "id": "c4f4d8f0",
   "metadata": {},
   "source": [
    "The **Iterative Phase Estimation** (**IPE**) algorithm allows the estimation of the phase of a unitary operator without the use of the **Quantum Fourier Transform**.\n",
    "\n",
    "Present notebook reviews this **IPE** algorithm and the developed *IterativeQuantumPE* python class inside the **PE/iterative_quantum_pe** module of the library for implementing it."
   ]
  },
  {
   "cell_type": "markdown",
   "id": "f57f5478",
   "metadata": {},
   "source": [
    "Present notebook and module are based on the following references:\n",
    "\n",
    "* *Dobšíček, Miroslav and Johansson, Göran and Shumeiko, Vitaly and Wendin, Göran*. Arbitrary accuracy iterative quantum phase estimation algorithm using a single ancillary qubit: A two-qubit benchmark. Physical Review A 3(76), 2007. https://arxiv.org/abs/quant-ph/0610214\n",
    "\n",
    "* *Griffiths, Robert B. and Niu, Chi-Sheng*. Semiclassical Fourier Transform for Quantum Computation. Physical Review Letters, 17 (76), 1996. https://arxiv.org/abs/quant-ph/9511007\n",
    "\n",
    "* *A. Y. Kitaev*. Quantum measurements and the abelian stabilizer problem. Electronic Colloquium on Computational Complexity, 3(3):1–22, 1996. https://arxiv.org/abs/quant-ph/9511026\n",
    "\n",
    "* *Monz, Thomas and Nigg, Daniel and Martinez, Esteban A. and Brandl, Matthias F. and Schindler, Philipp and Rines, Richard and Wang, Shannon X. and Chuang, Isaac L. and Blatt, Rainer*. Realization of a scalable Shor algorithm. Science 6277 (351). 2016. https://arxiv.org/abs/1507.08852"
   ]
  },
  {
   "cell_type": "code",
   "execution_count": null,
   "id": "56c42b50",
   "metadata": {},
   "outputs": [],
   "source": [
    "import numpy as np\n",
    "import pandas as pd\n",
    "import matplotlib.pyplot as plt\n",
    "import qat.lang.AQASM as qlm"
   ]
  },
  {
   "cell_type": "code",
   "execution_count": null,
   "id": "5b1ee74f",
   "metadata": {},
   "outputs": [],
   "source": [
    "import sys\n",
    "sys.path.append(\"../\")"
   ]
  },
  {
   "cell_type": "code",
   "execution_count": null,
   "id": "67d69543",
   "metadata": {
    "scrolled": true
   },
   "outputs": [],
   "source": [
    "%matplotlib inline"
   ]
  },
  {
   "cell_type": "code",
   "execution_count": null,
   "id": "8e8cf3ca",
   "metadata": {
    "scrolled": true
   },
   "outputs": [],
   "source": [
    "#This cell loads the QLM solver.\n",
    "#QLMaaS == False -> uses PyLinalg\n",
    "#QLMaaS == True -> try to use LinAlg (for using QPU as CESGA QLM one)\n",
    "from libraries.utils.qlm_solver import get_qpu\n",
    "QLMaaS = False\n",
    "linalg_qpu = get_qpu(QLMaaS)"
   ]
  },
  {
   "cell_type": "markdown",
   "id": "d3c17b2d",
   "metadata": {},
   "source": [
    "## 1. Initial Inputs"
   ]
  },
  {
   "cell_type": "markdown",
   "id": "c7cdcc17",
   "metadata": {},
   "source": [
    "For using the *IterativeQuantumPE* python class inside the **PE/iterative_quantum_pe** module 2 mandatory QLM objects should be provided:\n",
    "\n",
    "* 1. Initial State: this will be the initial quantum state needed for applying the Unitary Operator whose phase we want to estimate.\n",
    "* 2. Unitary operator: the operator whose phase we want to estimate.\n",
    "\n",
    "For explain how the *IterativeQuantumPE* class works we are going to use the **IQPE** example from Qiskit textbook:\n",
    "\n",
    "https://qiskit.org/textbook/ch-labs/Lab04_IterativePhaseEstimation.html\n",
    "\n",
    "https://github.com/Qiskit/qiskit-tutorials/blob/master/tutorials/algorithms/09_IQPE.ipynb\n",
    "\n",
    "We are going to reproduce the section **IPE example with a 1-qubit gate for U** from Qiskit example"
   ]
  },
  {
   "cell_type": "code",
   "execution_count": null,
   "id": "020cdbc6",
   "metadata": {},
   "outputs": [],
   "source": [
    "#Number Of Qbits\n",
    "n_qbits = 1"
   ]
  },
  {
   "cell_type": "markdown",
   "id": "ea46b380",
   "metadata": {},
   "source": [
    "### 1. Initial State"
   ]
  },
  {
   "cell_type": "markdown",
   "id": "47b0209a",
   "metadata": {},
   "source": [
    "Initial State can be:\n",
    "1. QLM QRoutine\n",
    "2. QLM gate (or abstract gate)\n",
    "\n",
    "In the qiskit example the initial state will be $|1\\rangle$. \n",
    "\n",
    "Following cell creates this initial state:"
   ]
  },
  {
   "cell_type": "code",
   "execution_count": null,
   "id": "b532fe74",
   "metadata": {},
   "outputs": [],
   "source": [
    "initial_state = qlm.QRoutine()\n",
    "q_bits = initial_state.new_wires(n_qbits)\n",
    "for i in range(n_qbits):\n",
    "    initial_state.apply(qlm.X, q_bits[i])"
   ]
  },
  {
   "cell_type": "code",
   "execution_count": null,
   "id": "7ea6baae",
   "metadata": {
    "scrolled": true
   },
   "outputs": [],
   "source": [
    "%qatdisplay initial_state"
   ]
  },
  {
   "cell_type": "markdown",
   "id": "131043e7",
   "metadata": {},
   "source": [
    "### 2. Unitary operator."
   ]
  },
  {
   "cell_type": "markdown",
   "id": "3e2c5873",
   "metadata": {},
   "source": [
    "Unitary operator can be:\n",
    "\n",
    "1. QLM QRoutine\n",
    "2. QLM gate (or abstract gate)\n",
    "\n",
    "In the qiskit example the unitary operator is the $\\mathcal{S}$ gate. So the application of the unitary operator over the initial state will be:\n",
    "\n",
    "$$\\mathcal{S}|1\\rangle = e^{i\\frac{\\pi}{2}}|1\\rangle$$"
   ]
  },
  {
   "cell_type": "code",
   "execution_count": null,
   "id": "43667149",
   "metadata": {},
   "outputs": [],
   "source": [
    "unitary_operator = qlm.PH(np.pi/2.0)  "
   ]
  },
  {
   "cell_type": "code",
   "execution_count": null,
   "id": "8daa3929",
   "metadata": {},
   "outputs": [],
   "source": [
    "%qatdisplay unitary_operator"
   ]
  },
  {
   "cell_type": "markdown",
   "id": "0d586763",
   "metadata": {},
   "source": [
    "## 2. Class IQPE: algorithm step by step "
   ]
  },
  {
   "cell_type": "markdown",
   "id": "cf18d7f8",
   "metadata": {},
   "source": [
    "The problem of phase estimation can be stated as follows. Given an initial state $\\left|\\Psi \\right\\rangle$ and a phase operator $\\mathcal{P}$ such that:\n",
    "\n",
    "$$\\mathcal{P}\\left|\\Psi \\right\\rangle = e^{2\\pi i\\lambda}\\left|\\Psi \\right\\rangle,$$\n",
    "\n",
    "our goal is estimating $\\lambda$."
   ]
  },
  {
   "cell_type": "markdown",
   "id": "493af5b5",
   "metadata": {},
   "source": [
    "So far we have the initial state $\\left|\\Psi \\right\\rangle = |1\\rangle$ and the unitary operator whose phase we want to estimate $\\mathcal{P} = \\mathcal{S}$. In this section we are going to describe the class step by step and explain the basics of the **IPE** algorithm"
   ]
  },
  {
   "cell_type": "markdown",
   "id": "e914b883",
   "metadata": {},
   "source": [
    "### 2.1 Calling the **IQPE** class\n",
    "\n",
    "The *IterativeQuantumPE* is inside **PE/iterative_quantum_pe** module. \n",
    "\n",
    "In order to instantiate the class we need to provide a pyhton dictionary. Mandatory keys are:\n",
    "\n",
    "* initial_state : QLM routine or gate with an initial state $|\\Psi\\rangle$ was loaded. \n",
    "* unitary_operator :  QLM gate or routine with an Unitary operator ready for be applied to initial state $|\\Psi\\rangle$.\n",
    "\n",
    "Other important keys are:\n",
    "\n",
    "* cbits_number : int with the number of classical bits needed for for phase estimation\n",
    "* qpu : QLM solver. If not provided class try to creates a PyLinalg solver. It is recomended give this key to the class.\n",
    "* shots : int number of shots for quantum job."
   ]
  },
  {
   "cell_type": "code",
   "execution_count": null,
   "id": "93dc78fd",
   "metadata": {},
   "outputs": [],
   "source": [
    "#Load Class\n",
    "from libraries.PE.iterative_quantum_pe import IterativeQuantumPE"
   ]
  },
  {
   "cell_type": "code",
   "execution_count": null,
   "id": "c558b074",
   "metadata": {},
   "outputs": [],
   "source": [
    "n_cbits = 2\n",
    "#We create a python dictionary for configuration of class\n",
    "iqpe_dict = {\n",
    "    'initial_state': initial_state,\n",
    "    'unitary_operator': unitary_operator,\n",
    "    'qpu' : linalg_qpu,\n",
    "    'cbits_number' : n_cbits,\n",
    "}\n",
    "IQPE = IterativeQuantumPE(**iqpe_dict)"
   ]
  },
  {
   "cell_type": "markdown",
   "id": "3e8af83a",
   "metadata": {},
   "source": [
    "When the class is instantiated the properties *initial_state* and *q_gate* are overwritten with the given keys **initial_state** and **unitary_operator** respectively"
   ]
  },
  {
   "cell_type": "code",
   "execution_count": null,
   "id": "720f6786",
   "metadata": {},
   "outputs": [],
   "source": [
    "c = IQPE.initial_state\n",
    "%qatdisplay c"
   ]
  },
  {
   "cell_type": "code",
   "execution_count": null,
   "id": "f5349a22",
   "metadata": {},
   "outputs": [],
   "source": [
    "a = IQPE.q_gate\n",
    "%qatdisplay a --depth 2"
   ]
  },
  {
   "cell_type": "markdown",
   "id": "c3ba441c",
   "metadata": {},
   "source": [
    "### 2.2 IPE Algorithm step by step\n",
    "\n",
    "Now we are going to review step by step the **IPE** algorithm using different programed methods of the **IterativeQuantumPE** class"
   ]
  },
  {
   "cell_type": "markdown",
   "id": "383ffac5",
   "metadata": {},
   "source": [
    "### 2.2.1. Initialize the quantum program.\n",
    "\n",
    "First thing is calling the method **init_iqpe**. Following actions are done by this method:\n",
    "1. Creation of QLM program from *initial_state* QLM routine (or AbstractGate). The QLM program is stored in *q_prog* property.\n",
    "2. Allocation of an auxiliar qbit mandatory for the **IPE** algorithm. It is stored in the *q_aux* property.\n",
    "3. Allocation of the auxiliar classical bits where the estimated phase will be stored. Property: *c_bits*."
   ]
  },
  {
   "cell_type": "code",
   "execution_count": null,
   "id": "31b2b0b3",
   "metadata": {},
   "outputs": [],
   "source": [
    "#Initialize the quantum program\n",
    "IQPE.init_iqpe()"
   ]
  },
  {
   "cell_type": "code",
   "execution_count": null,
   "id": "57d9c3ba",
   "metadata": {},
   "outputs": [],
   "source": [
    "#Now we have the initial quantum program stored in the property q_prog\n",
    "#Additionally a auxiliar qbit bits was allocated\n",
    "circuit = IQPE.q_prog.to_circ(submatrices_only=True)\n",
    "\n",
    "%qatdisplay circuit --depth 0 --svg"
   ]
  },
  {
   "cell_type": "markdown",
   "id": "75deafbc",
   "metadata": {},
   "source": [
    "### 2.2.2. IPE Algorithm"
   ]
  },
  {
   "cell_type": "markdown",
   "id": "aba65dea",
   "metadata": {},
   "source": [
    "We are going to decomposed the **IPE** algorithm in 2 parts. A first part where the main variable $l$ will be 0 ($l=0$) and a second recursive part where the variable $l$ will be greater than 0 ($l\\gt 0$)."
   ]
  },
  {
   "cell_type": "markdown",
   "id": "a8de4522",
   "metadata": {},
   "source": [
    "#### First Part ($l=0$)\n",
    "\n",
    "The first step of the IPE algorithn ($l=0$) has the following parts:\n",
    "\n",
    "1. Reset the auxiliar qbit\n",
    "2. Apply a Haddamard gate to the auxiliar qbit\n",
    "3. Apply the phase operator $\\mathcal{P}$ controlled by auxiliar the qbit $2^{m-1}$ ($\\mathcal{P} ^{2^{m-1}}$) times. Here $m$ is the number of classical qbits allocated for estimating $\\theta$ \n",
    "4. Apply a Haddamard gate to the auxiliar qbit\n",
    "5. Measuring the auxiliar qbit and store the result into classical bit array in position $c_l$ ($l=0$)\n",
    "\n",
    "This can be done by calling the *step_iqpe* method with following arguments:\n",
    "\n",
    "* Quantum Program with initial_state\n",
    "* Quantum Routine or AbstractGate with phase operator $\\mathcal{P}$\n",
    "* Auxiliar Qbit\n",
    "* Auxiliar classical bits\n",
    "* l=0\n",
    "\n",
    "This methods return the quantum program with the operations explained in this part."
   ]
  },
  {
   "cell_type": "code",
   "execution_count": null,
   "id": "65d4c91d",
   "metadata": {},
   "outputs": [],
   "source": [
    "q_program = IQPE.q_prog\n",
    "q_program = IQPE.step_iqpe(q_program, IQPE.q_gate, IQPE.q_aux, IQPE.c_bits, 0)"
   ]
  },
  {
   "cell_type": "markdown",
   "id": "aaa42299",
   "metadata": {},
   "source": [
    "Following cell show the first  part of the circuit"
   ]
  },
  {
   "cell_type": "code",
   "execution_count": null,
   "id": "2cccd401",
   "metadata": {},
   "outputs": [],
   "source": [
    "c = q_program.to_circ()\n",
    "%qatdisplay c"
   ]
  },
  {
   "cell_type": "markdown",
   "id": "41e20eba",
   "metadata": {},
   "source": [
    "#### Second or iterative Part ($l \\gt 0$)\n",
    "\n",
    "This part of the algorithm is recursive. Following steps will be repeated for each value of $l=1,2,..m-1$:\n",
    "\n",
    "1. Reset the auxiliar qbit\n",
    "2. Apply a Haddamard gate to the auxiliar qbit\n",
    "3. Apply the phase operator $\\mathcal{P}$ controlled by the auxiliar qbit $2^{m-1-l}$ ($\\mathcal{Q}^{2^{m-1-l}}$) times, being $m$ is the number of classical qbits allocated for estimating $\\theta$.\n",
    "4. Apply on the auxiliar qbit a set of controlled rotations by $c_j$ classical bit of angle: $\\frac{\\pi}{2}\\frac{1}{2^{l-j-1}}$ with $j=0,1,..l-1$. \n",
    "4. Apply a Haddamard gate to the auxiliar qbit\n",
    "5. Measuring the auxiliar qbit and store the result into classical bit array in position $c_l$\n",
    "\n",
    "So for a $l$ step de controlled by classical bits rotation will depend on the measurements don on the before $l$ steps.\n",
    "\n",
    "In the following cell we explain how to create the algorithm for the $l=1$ part:"
   ]
  },
  {
   "cell_type": "code",
   "execution_count": null,
   "id": "adfe2b33",
   "metadata": {},
   "outputs": [],
   "source": [
    "#here we do the step l=1\n",
    "l=1\n",
    "q_program = IQPE.step_iqpe(q_program, IQPE.q_gate, IQPE.q_aux, IQPE.c_bits, l)"
   ]
  },
  {
   "cell_type": "markdown",
   "id": "7c4239e5",
   "metadata": {},
   "source": [
    "Now we can plot the circuit we have unitl the moment"
   ]
  },
  {
   "cell_type": "code",
   "execution_count": null,
   "id": "b20cc6fb",
   "metadata": {
    "scrolled": true
   },
   "outputs": [],
   "source": [
    "#Circuit for l=0 and l=1\n",
    "c = q_program.to_circ()\n",
    "%qatdisplay c"
   ]
  },
  {
   "cell_type": "markdown",
   "id": "1efbc6bf",
   "metadata": {},
   "source": [
    "####  Complete algorithm\n",
    "\n",
    "For a complete **IPE** algorithm following steps shold be done:\n",
    "\n",
    "1. Create the First part of the algorithm $l=0$.\n",
    "2. Iterate the second part of the algorihtm from  $l=1$ to $l=m-1$.\n",
    "\n",
    "The measured classical bits is used for estimating the phase autovalues of the unitary operator\n",
    "\n",
    "Following cell create the complete program for **IPE** algorithm"
   ]
  },
  {
   "cell_type": "code",
   "execution_count": null,
   "id": "90aef978",
   "metadata": {},
   "outputs": [],
   "source": [
    "#Initialize the quantum program\n",
    "IQPE.init_iqpe()\n",
    "q_program = IQPE.q_prog\n",
    "for l in range(len(IQPE.c_bits)):\n",
    "    q_program = IQPE.step_iqpe(q_program, IQPE.q_gate, IQPE.q_aux, IQPE.c_bits, l)"
   ]
  },
  {
   "cell_type": "markdown",
   "id": "fc1a7b3a",
   "metadata": {},
   "source": [
    "So for the desired number of classical bits $m$ the complete circuit for *IPE* algorithm will be:"
   ]
  },
  {
   "cell_type": "code",
   "execution_count": null,
   "id": "9d74cd00",
   "metadata": {},
   "outputs": [],
   "source": [
    "c = q_program.to_circ()\n",
    "%qatdisplay c"
   ]
  },
  {
   "cell_type": "markdown",
   "id": "a45755a0",
   "metadata": {},
   "source": [
    "### 2.2.3. IPE Algorithm execution\n",
    "\n",
    "Once the QLM program is constructed the alogrithm should be executed. For this the *run* method from the class allow to execute it. Following arguments should  be provided:\n",
    "\n",
    "* q_prog : with the complete *IPE* algorithm\n",
    "* q_aux : the auxiliar qbit \n",
    "* shots \n",
    "* linalg_qpu: QLM solver\n",
    "\n",
    "This method creates the circuit, the asociated job and execute it. The raw results of the simulation are returned\n"
   ]
  },
  {
   "cell_type": "code",
   "execution_count": null,
   "id": "5583d001",
   "metadata": {},
   "outputs": [],
   "source": [
    "raw_results = IQPE.run(q_program, IQPE.q_aux, 100, linalg_qpu=linalg_qpu)"
   ]
  },
  {
   "cell_type": "code",
   "execution_count": null,
   "id": "ddb755ac",
   "metadata": {},
   "outputs": [],
   "source": [
    "raw_results"
   ]
  },
  {
   "cell_type": "markdown",
   "id": "97aacc02",
   "metadata": {},
   "source": [
    "### 2.2.4. IPE: getting classical bits measurements\n",
    "\n",
    "As explained the phase will be estimated by getting the measurements of the classical bits. In the class this is done by the **meas_classical_bits** method. The input of this method is the *raw_results* from the *run* method. And the output will be a pandas DataFrame with the measurement of the classical bits with the following columns:\n",
    "\n",
    "* **BitString**: is the result of the clasical bits measurement in each step of the algorithm\n",
    "* **BitInt**: integer representation of the **BitString**\n",
    "* **Phi**: is the estimated obtained phase and it is computed as: $\\frac{BitInt}{2^{m}}$ where $m$ is the number of classical bits used for phase estimation"
   ]
  },
  {
   "cell_type": "code",
   "execution_count": null,
   "id": "d9d8b8f4",
   "metadata": {},
   "outputs": [],
   "source": [
    "classical_bits = IQPE.meas_classical_bits(raw_results)"
   ]
  },
  {
   "cell_type": "code",
   "execution_count": null,
   "id": "d2f54eaa",
   "metadata": {
    "scrolled": false
   },
   "outputs": [],
   "source": [
    "classical_bits"
   ]
  },
  {
   "cell_type": "markdown",
   "id": "147a56c6",
   "metadata": {},
   "source": [
    "From *classical_bits* pdf the important column is **Phi**. Following the Qiskit example this column is $\\varphi$ and the searched phase is: $\\phi=2\\pi\\varphi$. In the qiskit example $\\varphi=0.25$. \n",
    "\n",
    "The *classical_bits* DataFrame gives a result for each execution of the circuit (variable *shots*). We can obtain a frequency count of this dataframe using *sumarize* method. Following inputs should be provided:\n",
    "\n",
    "* InputPDF: DataFrame pandas DataFrame\n",
    "* columns : list with the columns user want to get the frequency\n",
    "\n",
    "So we can obtain a summary of the results for our *Phi* column. The most frequent value should be the Qiskit result: $\\varphi=0.25$ (this can be seen in folowing cell)"
   ]
  },
  {
   "cell_type": "code",
   "execution_count": null,
   "id": "57a98653",
   "metadata": {},
   "outputs": [],
   "source": [
    "IQPE.sumarize(classical_bits, ['Phi'])"
   ]
  },
  {
   "cell_type": "markdown",
   "id": "f749c91c",
   "metadata": {},
   "source": [
    "### 2.2.5. IPE: post proccessing\n",
    "\n",
    "Typically the phase in radians is provide in this kind of phase estimation problems. For getting this result we use the *post_proccess*. The *classical_bits* shold be provided and the output will be another DataFrame wiht following columns:\n",
    "\n",
    "* **BitString**: is the result of the clasical bits measurement in each step of the algorithm\n",
    "* **BitInt**: integer representation of the **BitString**\n",
    "* **Phi**: is the estimated obtained phase and it is computed as: $\\frac{BitInt}{2^{c_b}}$ where $c_b$ is the number of classical bits \n",
    "* **2*theta**: this is the phase of the unitary operator in radians:$2\\theta = 2\\pi\\varphi$. In this case we calculate the phase of the unitary operator as the double of an angle $\\theta$.\n",
    "* **theta**: this is the halve of the phase of the unitary operator: $\\theta = \\pi\\varphi$\n",
    "* **theta_90**: is the $\\theta$ between $(0, \\frac{\\pi}{2}$)\n",
    "\n",
    "In this module our convention when $|\\Psi\\rangle $ is an eigenvalue of an unitary operator $\\mathcal{Q}$ is:\n",
    "\n",
    "$$\\mathcal{Q}|\\Psi\\rangle = e^{2i\\theta}|\\Psi\\rangle$$"
   ]
  },
  {
   "cell_type": "code",
   "execution_count": null,
   "id": "588c4f3e",
   "metadata": {},
   "outputs": [],
   "source": [
    "final_results = IQPE.post_proccess(classical_bits)"
   ]
  },
  {
   "cell_type": "code",
   "execution_count": null,
   "id": "ef4e256f",
   "metadata": {
    "scrolled": true
   },
   "outputs": [],
   "source": [
    "final_results"
   ]
  },
  {
   "cell_type": "markdown",
   "id": "f04105e6",
   "metadata": {},
   "source": [
    "The *sumarize* method can be used with the **final_results** dataframe too for getting frequency counts!!"
   ]
  },
  {
   "cell_type": "code",
   "execution_count": null,
   "id": "9a3e6ab6",
   "metadata": {},
   "outputs": [],
   "source": [
    "#frequencies for the column theta_90\n",
    "IQPE.sumarize(final_results, ['theta_90'])"
   ]
  },
  {
   "cell_type": "code",
   "execution_count": null,
   "id": "58632b9d",
   "metadata": {},
   "outputs": [],
   "source": [
    "#Freqeuncy for all columns\n",
    "IQPE.sumarize(final_results, list(final_results.columns))"
   ]
  },
  {
   "cell_type": "markdown",
   "id": "aeedbf15",
   "metadata": {},
   "source": [
    "## 3. Class IQPE: complete execution"
   ]
  },
  {
   "cell_type": "markdown",
   "id": "c004c1e3",
   "metadata": {},
   "source": [
    "All the *IPE* steps explained in section 2 can be done with the method **iqpe**. When using this *method* following properties are populated:\n",
    "\n",
    "* *classical_bits*: the DataFrame with the result of the *meas_classical_bits* method.\n",
    "* *final_results*: the DataFrame with the result of the *post_proccess* method.\n",
    "* *sumary*: the DataFrame with the result of the *sumarize* method."
   ]
  },
  {
   "cell_type": "code",
   "execution_count": null,
   "id": "49cafd3f",
   "metadata": {},
   "outputs": [],
   "source": [
    "n_cbits = 2\n",
    "#We create a python dictionary for configuration of class\n",
    "iqpe_dict = {\n",
    "    'initial_state': initial_state,\n",
    "    'unitary_operator': unitary_operator,\n",
    "    'qpu' : linalg_qpu,\n",
    "    'cbits_number' : n_cbits,  \n",
    "    'shots': 100\n",
    "}\n",
    "iqpe_ = IterativeQuantumPE(**iqpe_dict)"
   ]
  },
  {
   "cell_type": "code",
   "execution_count": null,
   "id": "faf94a5b",
   "metadata": {},
   "outputs": [],
   "source": [
    "iqpe_.iqpe()"
   ]
  },
  {
   "cell_type": "code",
   "execution_count": null,
   "id": "f210e00d",
   "metadata": {},
   "outputs": [],
   "source": [
    "iqpe_.final_results"
   ]
  },
  {
   "cell_type": "code",
   "execution_count": null,
   "id": "c307c626",
   "metadata": {},
   "outputs": [],
   "source": [
    "iqpe_.sumary"
   ]
  },
  {
   "cell_type": "markdown",
   "id": "c90ad5ba",
   "metadata": {},
   "source": [
    "### another example\n",
    "\n",
    "We are going to reproduce now the qiskit example under the section *IPE example with a 2-qubit gate* (in https://github.com/Qiskit/qiskit-tutorials/blob/master/tutorials/algorithms/09_IQPE.ipynb). \n",
    "\n",
    "In this case they use 2 qbits and want to estimate the phase for a unitary operator $\\mathcal{cT}$ operator. this operator adds a $\\frac{\\pi}{4}$ phase to state $|11\\rangle$ and leave unchanged other states. \n"
   ]
  },
  {
   "cell_type": "code",
   "execution_count": null,
   "id": "a78f9cd6",
   "metadata": {},
   "outputs": [],
   "source": [
    "#create initial state\n",
    "n_qbits = 2\n",
    "initial_state = qlm.QRoutine()\n",
    "q_bits = initial_state.new_wires(n_qbits)\n",
    "for i in range(n_qbits):\n",
    "    initial_state.apply(qlm.X, q_bits[i])"
   ]
  },
  {
   "cell_type": "code",
   "execution_count": null,
   "id": "57d75dca",
   "metadata": {},
   "outputs": [],
   "source": [
    "%qatdisplay initial_state"
   ]
  },
  {
   "cell_type": "code",
   "execution_count": null,
   "id": "2d7d3ae7",
   "metadata": {},
   "outputs": [],
   "source": [
    "#Create cT operator\n",
    "unitary_operator = qlm.QRoutine()\n",
    "uq_qbits = unitary_operator.new_wires(n_qbits)\n",
    "unitary_operator.apply(qlm.PH(np.pi/4.0).ctrl(), 0, 1)"
   ]
  },
  {
   "cell_type": "code",
   "execution_count": null,
   "id": "663ee89d",
   "metadata": {},
   "outputs": [],
   "source": [
    "%qatdisplay unitary_operator"
   ]
  },
  {
   "cell_type": "code",
   "execution_count": null,
   "id": "03baa3d8",
   "metadata": {},
   "outputs": [],
   "source": [
    "#now IPE!!\n",
    "n_cbits = 3\n",
    "#We create a python dictionary for configuration of class\n",
    "iqpe_dict = {\n",
    "    'initial_state': initial_state,\n",
    "    'unitary_operator': unitary_operator,\n",
    "    'qpu' : linalg_qpu,\n",
    "    'cbits_number' : n_cbits,  \n",
    "    'shots': 100\n",
    "}\n",
    "iqpe_ = IterativeQuantumPE(**iqpe_dict)"
   ]
  },
  {
   "cell_type": "code",
   "execution_count": null,
   "id": "2f45fc13",
   "metadata": {},
   "outputs": [],
   "source": [
    "iqpe_.iqpe()"
   ]
  },
  {
   "cell_type": "code",
   "execution_count": null,
   "id": "354efd9b",
   "metadata": {},
   "outputs": [],
   "source": [
    "iqpe_.sumarize(iqpe_.classical_bits, ['Phi'])"
   ]
  },
  {
   "cell_type": "markdown",
   "id": "52dbd6d6",
   "metadata": {},
   "source": [
    "The result for $\\varphi=0.125$ that is the value obtained in the Qiskit example."
   ]
  },
  {
   "cell_type": "markdown",
   "id": "c5624363",
   "metadata": {},
   "source": [
    "## 4. Application to Amplitude Estimation"
   ]
  },
  {
   "cell_type": "markdown",
   "id": "542adf13",
   "metadata": {},
   "source": [
    "The problem of amplitude estimation is the following. Given an oracle:\n",
    "\n",
    "$$\\mathcal{0}|0\\rangle = |\\Psi\\rangle = \\sqrt{a}|\\Psi_0\\rangle +\\sqrt{1-a}|\\Psi_1\\rangle,$$\n",
    "\n",
    "where $|\\Psi_0\\rangle$ and $|\\Psi_1\\rangle$ are orthogonal states, we want to estimate $\\sqrt{a}$."
   ]
  },
  {
   "cell_type": "markdown",
   "id": "74683193",
   "metadata": {},
   "source": [
    "For showing how *Iterative Quantum Phase Estimation* works for doing *Amplitude Estimation*, we will define the following amplitude estimation problem:\n",
    "$$\n",
    "    \\begin{array}{l}\n",
    "    & |\\Psi\\rangle \\longrightarrow \\scriptstyle \\dfrac{1}{\\sqrt{0+1+2+3+4+5+6+7+8}}\\left[\\sqrt{0}|0\\rangle+\\sqrt{1}|1\\rangle+\\sqrt{2}|2\\rangle+\\sqrt{3}|3\\rangle+\\sqrt{4}|4\\rangle+\\sqrt{5}|5\\rangle+\\sqrt{6}|6\\rangle+\\sqrt{7}|7\\rangle\\right].\\\\\n",
    "    & \\sqrt{a}|\\Psi_0\\rangle \\longrightarrow \\dfrac{\\sqrt{1}}{\\sqrt{0+1+2+3+4+5+6+7+8}}|1\\rangle.\\\\\n",
    "    & \\sqrt{1-a}|\\Psi_1\\rangle \\longrightarrow \\scriptstyle \\dfrac{1}{\\sqrt{0+1+2+3+4+5+6+7+8}}\\left[\\sqrt{0}|0\\rangle+\\sqrt{2}|2\\rangle+\\sqrt{3}|3\\rangle+\\sqrt{4}|4\\rangle+\\sqrt{5}|5\\rangle+\\sqrt{6}|6\\rangle+\\sqrt{7}|7\\rangle\\right].\\\\\n",
    "    \\end{array}\n",
    "$$\n"
   ]
  },
  {
   "cell_type": "code",
   "execution_count": null,
   "id": "91ee7f59",
   "metadata": {},
   "outputs": [],
   "source": [
    "from libraries.DL.data_loading import load_probability\n",
    "from libraries.AA.amplitude_amplification import grover\n",
    "from libraries.PE.iterative_quantum_pe import IterativeQuantumPE"
   ]
  },
  {
   "cell_type": "code",
   "execution_count": null,
   "id": "d30744a3",
   "metadata": {},
   "outputs": [],
   "source": [
    "n = 3\n",
    "N = 2**n\n",
    "x = np.arange(N)\n",
    "probability = x/np.sum(x)\n",
    "oracle = load_probability(probability)\n",
    "\n",
    "%qatdisplay oracle --depth 0 --svg"
   ]
  },
  {
   "cell_type": "markdown",
   "id": "6bff697c",
   "metadata": {},
   "source": [
    "Next we will show how the Phase Estimation problem relates to the Amplitude Estimation problem:\n",
    "$$\n",
    "    \\begin{array}{l}\n",
    "    & |\\Psi\\rangle \\longrightarrow |\\Psi\\rangle\\\\\n",
    "    & \\mathcal{P} \\longrightarrow \\mathcal{G}\n",
    "    \\end{array}\n",
    "$$\n",
    "The first equation means that, in the phase estimation context, the initial state is $|\\Psi\\rangle$ and the phase operator is $\\mathcal{G}$, the Grover operator corresponding to our amplitude estimaiton problem. In the next cell we define the grover operator for our problem.  "
   ]
  },
  {
   "cell_type": "code",
   "execution_count": null,
   "id": "9c97df50",
   "metadata": {},
   "outputs": [],
   "source": [
    "target = [0, 0, 1]\n",
    "index = range(oracle.arity)\n",
    "grover_gate = grover(oracle, target, index)\n",
    "%qatdisplay grover_gate --depth 0 --svg"
   ]
  },
  {
   "cell_type": "markdown",
   "id": "a013c0f9",
   "metadata": {},
   "source": [
    "Here we have used that our target state $|1\\rangle$ in binary representation is $001$. See notebook *02_AmplitudeAmplification_Operators* for more information about building Grover operators."
   ]
  },
  {
   "cell_type": "markdown",
   "id": "13a39fd4",
   "metadata": {},
   "source": [
    "Now that we have translated our amplitude amplification probelm to an phase estimation problem we proceed to use our class normally. We provide the *oracle* as the **initial_state** and the correspondient Grover-like operator as the **unitary_operator**. Additionally the number of classical bits (**cbits_number**) for estimating the phase should be provided."
   ]
  },
  {
   "cell_type": "code",
   "execution_count": null,
   "id": "fee4a72c",
   "metadata": {},
   "outputs": [],
   "source": [
    "n_cbits = 8\n",
    "#We create a python dictionary for configuration of class\n",
    "iqpe_dict = {\n",
    "    'initial_state': oracle,\n",
    "    'unitary_operator': grover_gate,\n",
    "    'qpu' : linalg_qpu,\n",
    "    'cbits_number' : n_cbits,  \n",
    "    'shots': 100\n",
    "}\n",
    "iqpe_ = IterativeQuantumPE(**iqpe_dict)\n",
    "iqpe_.iqpe()"
   ]
  },
  {
   "cell_type": "code",
   "execution_count": null,
   "id": "6016d8f3",
   "metadata": {},
   "outputs": [],
   "source": [
    "iqpe_.final_results"
   ]
  },
  {
   "cell_type": "markdown",
   "id": "ce5ed4ab",
   "metadata": {},
   "source": [
    "We are going to use the *sumary* property for getting the phase $\\theta$ that is the solution of the phase estimation problem."
   ]
  },
  {
   "cell_type": "code",
   "execution_count": null,
   "id": "20c9dfa6",
   "metadata": {},
   "outputs": [],
   "source": [
    "iqpe_.sumary"
   ]
  },
  {
   "cell_type": "markdown",
   "id": "2f66f32f",
   "metadata": {},
   "source": [
    "Last, we use the mapping $a = \\cos(\\theta)^2$ to obtain the result of our amplitude estimation problem."
   ]
  },
  {
   "cell_type": "code",
   "execution_count": null,
   "id": "9fd69606",
   "metadata": {},
   "outputs": [],
   "source": [
    "iqpe_.sumary['P_Psi_1']=np.cos(iqpe_.sumary['theta_90'])**2"
   ]
  },
  {
   "cell_type": "code",
   "execution_count": null,
   "id": "08a19d0b",
   "metadata": {},
   "outputs": [],
   "source": [
    "iqpe_.sumary"
   ]
  },
  {
   "cell_type": "code",
   "execution_count": null,
   "id": "3ee570c2",
   "metadata": {},
   "outputs": [],
   "source": [
    "print(\"Classical result: \",probability[1])\n",
    "print(\"Quantum result: \",iqpe_.sumary['P_Psi_1'].iloc[0])"
   ]
  },
  {
   "cell_type": "code",
   "execution_count": null,
   "id": "3e2e4dd5",
   "metadata": {},
   "outputs": [],
   "source": [
    "print('Test OK: ', probability[1]- iqpe_.sumary['P_Psi_1'].iloc[0] < 0.005)"
   ]
  },
  {
   "cell_type": "code",
   "execution_count": null,
   "id": "2039b0e3",
   "metadata": {},
   "outputs": [],
   "source": []
  }
 ],
 "metadata": {
  "kernelspec": {
   "display_name": "Python 3 (ipykernel)",
   "language": "python",
   "name": "python3"
  },
  "language_info": {
   "codemirror_mode": {
    "name": "ipython",
    "version": 3
   },
   "file_extension": ".py",
   "mimetype": "text/x-python",
   "name": "python",
   "nbconvert_exporter": "python",
   "pygments_lexer": "ipython3",
   "version": "3.9.9"
  }
 },
 "nbformat": 4,
 "nbformat_minor": 5
}
