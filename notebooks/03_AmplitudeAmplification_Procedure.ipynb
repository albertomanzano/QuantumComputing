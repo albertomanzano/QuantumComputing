{
 "cells": [
  {
   "cell_type": "markdown",
   "metadata": {},
   "source": [
    "# Amplitude Amplification Procedure"
   ]
  },
  {
   "cell_type": "markdown",
   "metadata": {},
   "source": [
    "As explained before, main objective of present library is use quantum algorithms for computing the expected value of a function $f(x)$ when the $x$ variable follows a probability distribution $p(x)$: $E_{x\\sim p}(f)$. This is computed as:\n",
    "\n",
    "$$E_{x\\sim p}(f)=\\int_a^bp(x)f(x)dx$$\n",
    "\n",
    "In notebook **01_DataLoading_Module_Use** mandatory steps for loading probability $p(x)$ and $f(x)$ using operators $\\mathcal{P}$ and  $\\mathcal{F}$ were reviewed.\n",
    "\n",
    "In notebook **02_AmplitudeAmplification_Operators** the use of this $\\mathcal{P}$ and  $\\mathcal{F}$ for creating the correspondient Grover-like operator $\\mathcal{Q}$ was presented.\n",
    "\n",
    "Present notebook explain how to use $\\mathcal{Q}$ for computing the desired $E_{x\\sim p}(f)$ and the problems thar arise will be analysed"
   ]
  },
  {
   "cell_type": "code",
   "execution_count": null,
   "metadata": {},
   "outputs": [],
   "source": [
    "from IPython.core.display import display, HTML\n",
    "display(HTML(\"<style>.container { width:100% !important; }</style>\"))"
   ]
  },
  {
   "cell_type": "code",
   "execution_count": null,
   "metadata": {},
   "outputs": [],
   "source": [
    "import numpy as np\n",
    "import pandas as pd\n",
    "import matplotlib.pyplot as plt\n",
    "import sys, os"
   ]
  },
  {
   "cell_type": "code",
   "execution_count": null,
   "metadata": {},
   "outputs": [],
   "source": [
    "%load_ext qat.core.magic"
   ]
  },
  {
   "cell_type": "code",
   "execution_count": null,
   "metadata": {},
   "outputs": [],
   "source": [
    "#QPU connection\n",
    "QLMASS = True\n",
    "if QLMASS:\n",
    "    try:\n",
    "        from qat.qlmaas import QLMaaSConnection\n",
    "        connection = QLMaaSConnection()\n",
    "        LinAlg = connection.get_qpu(\"qat.qpus:LinAlg\")\n",
    "        lineal_qpu = LinAlg()\n",
    "    except (ImportError, OSError) as e:\n",
    "        print('Problem: usin PyLinalg')\n",
    "        from qat.qpus import PyLinalg\n",
    "        lineal_qpu = PyLinalg()\n",
    "else:\n",
    "    print('User Forces: PyLinalg')\n",
    "    from qat.qpus import PyLinalg\n",
    "    lineal_qpu = PyLinalg()    "
   ]
  },
  {
   "cell_type": "code",
   "execution_count": null,
   "metadata": {},
   "outputs": [],
   "source": [
    "sys.path.append(\"../libraries/\")"
   ]
  },
  {
   "cell_type": "markdown",
   "metadata": {},
   "source": [
    "## 1. Data Discretization"
   ]
  },
  {
   "cell_type": "markdown",
   "metadata": {},
   "source": [
    "As usual we begin by discretizing $p(x)$ and function $f(x)$ needed for calculating expected value $E_{x\\sim p}(f)$"
   ]
  },
  {
   "cell_type": "code",
   "execution_count": null,
   "metadata": {},
   "outputs": [],
   "source": [
    "from utils import  get_histogram, run_job, postprocess_results\n",
    "def p(x):\n",
    "    return x*x\n",
    "def f(x):\n",
    "    return np.sin(x)"
   ]
  },
  {
   "cell_type": "code",
   "execution_count": null,
   "metadata": {},
   "outputs": [],
   "source": [
    "#number of Qbits for the circuit\n",
    "n_qbits = 6\n",
    "#The number of bins \n",
    "m_bins = 2**n_qbits\n",
    "LowerLimit = 0.0\n",
    "UpperLimit = 1.0 \n",
    "\n",
    "X, p_X = get_histogram(p, LowerLimit, UpperLimit, m_bins)\n",
    "f_X = f(X)"
   ]
  },
  {
   "cell_type": "code",
   "execution_count": null,
   "metadata": {},
   "outputs": [],
   "source": [
    "%matplotlib inline\n",
    "plt.plot(X, p_X, 'o')\n",
    "plt.plot(X, f_X, 'o')\n",
    "plt.legend(['Probability', 'Array'])"
   ]
  },
  {
   "cell_type": "markdown",
   "metadata": {},
   "source": [
    "## 2. $\\theta$ estimation problem"
   ]
  },
  {
   "cell_type": "markdown",
   "metadata": {},
   "source": [
    "After the loading steps our quantum state is: \n",
    "\n",
    "$$|\\Psi\\rangle=\\sin{\\theta}|\\Psi_{1}\\rangle+\\cos{\\theta}|\\Psi_{0}\\rangle$$\n",
    "\n",
    "The amplitude of the $|\\Psi_{0}\\rangle$ state is related with $E_{x\\sim p}(f)$ by:\n",
    "\n",
    "$$\\cos \\theta = \\sqrt{\\sum_{x=0}^{2^-1} p(x)f(x)}$$\n",
    "\n",
    "The main idea in the amplitude amplification is use a similar procedure like in Groover algorithm in order to increase the probability of the $|\\Psi_{0}\\rangle$ state. This can be in a straightoforward way by applying operator $\\mathcal{Q}$ $k$ times:\n",
    "\n",
    "$$\\hat{Q}^{k}|\\Psi\\rangle = \\sin{((2*k+1)\\theta)}|\\Psi_{1}\\rangle+\\cos{((2*k+1)\\theta})|\\Psi_{0}\\rangle$$\n",
    "\n",
    "The idea is apply $k$ in such a way that the probability of $|\\Psi_{0}\\rangle$ is maximized. For this we can equal:\n",
    "\n",
    "\n",
    "$$P_{|\\Psi_{1}\\rangle} = \\cos^{2}((2*k+1)\\theta) \\approx 1$$ \n",
    "\n",
    "So:\n",
    "\n",
    "$$(2k+1)\\theta = m\\pi$$ where $m=0, 1, 2...$\n",
    "\n",
    "\n",
    "We have to unknows variables: $\\theta$ and $K$. If we know $\\theta$ we can know how many applications of $\\hat{Q}$ we need for maximazing the state we want.\n",
    "\n",
    "Other approximation is following one: \n",
    "\n",
    "we can prepare the system $n$ times (each time with the same $k$), measure the final state and get the probabilities for measuring  $|\\Psi_{1}\\rangle$ y $|\\Psi_{0}$:\n",
    "\n",
    "* $P_{|\\Psi_{1}\\rangle}$: Probability of get state $|\\Psi_{1}\\rangle$ (we desire a low probability here)\n",
    "* $P_{|\\Psi_{0}\\rangle}$: Probability of get state $|\\Psi_{0}\\rangle$ (we desire a high probability here)\n",
    "\n",
    "We know that this proabilities are related withe the corresponding amplitudes so: \n",
    "\n",
    "$$\\cos^{2}((2*K+1)\\theta) = P_{|\\Psi_{0}\\rangle}$$\n",
    "$$\\cos((2*K+1)\\theta) = \\sqrt{P_{|\\Psi_{0}\\rangle}}$$\n",
    "$$(2*K+1)\\theta = \\arccos{\\sqrt{P_{|\\Psi_{0}\\rangle}}}$$\n",
    "\n",
    "So in this moment, theoretically, we have solved the problem because we can calculate $\\theta$ and the desired $E_{x\\sim p}(f)$. But we have a practical important problem: **arccos** is a multivaluated function and usually software packages give a solution in the $[0, \\pi]$. If the rotation resulting of apply $\\hat{Q}^{K}$ is bigger than $\\pi$ then we cannot compute properly $(2*K+1)\\theta$.\n",
    "\n",
    "This can be seen in the following cells"
   ]
  },
  {
   "cell_type": "code",
   "execution_count": null,
   "metadata": {},
   "outputs": [],
   "source": [
    "#First create loading operators\n",
    "from data_loading import load_probability, load_array, load_pf\n",
    "p_gate = load_probability(p_X)\n",
    "f_gate = load_array(np.sqrt(f_X))\n",
    "pf_gate = load_pf(p_gate, f_gate)"
   ]
  },
  {
   "cell_type": "code",
   "execution_count": null,
   "metadata": {},
   "outputs": [],
   "source": [
    "#Second create the correspondient Grover-like operator\n",
    "from amplitude_amplification import load_q_gate, load_qn_gate\n",
    "q_gate = load_q_gate(pf_gate)"
   ]
  },
  {
   "cell_type": "code",
   "execution_count": null,
   "metadata": {},
   "outputs": [],
   "source": [
    "#Number of times operator Grover-like Q will be applied\n",
    "k=2\n",
    "q_k_gate = load_qn_gate(q_gate, 2)"
   ]
  },
  {
   "cell_type": "code",
   "execution_count": null,
   "metadata": {},
   "outputs": [],
   "source": [
    "from data_extracting import create_qprogram, get_results"
   ]
  },
  {
   "cell_type": "code",
   "execution_count": null,
   "metadata": {},
   "outputs": [],
   "source": [
    "#Cration of quantum program for loading data\n",
    "q_prog = create_qprogram(pf_gate)\n",
    "registers = q_prog.registers\n",
    "#Apply Grover^k\n",
    "q_prog.apply(q_k_gate, registers)"
   ]
  },
  {
   "cell_type": "code",
   "execution_count": null,
   "metadata": {},
   "outputs": [],
   "source": [
    "#For getting the state of the additional qbit where the desired integral are stored\n",
    "Q_k_Phi_State, circuit, q_p, job = get_results(q_prog, lineal_qpu=lineal_qpu, shots=0, qubits=[pf_gate.arity-1])"
   ]
  },
  {
   "cell_type": "code",
   "execution_count": null,
   "metadata": {},
   "outputs": [],
   "source": [
    "%qatdisplay circuit --depth 0"
   ]
  },
  {
   "cell_type": "code",
   "execution_count": null,
   "metadata": {},
   "outputs": [],
   "source": [
    "Q_k_Phi_State"
   ]
  },
  {
   "cell_type": "markdown",
   "metadata": {},
   "source": [
    "Now we calculate:  \n",
    "$$\\theta = \\frac{\\arccos{\\sqrt{P_{|\\Psi_{0}\\rangle}}}}{(2*K+1)}$$"
   ]
  },
  {
   "cell_type": "code",
   "execution_count": null,
   "metadata": {},
   "outputs": [],
   "source": [
    "#This is the angle asociated to the Phi state\n",
    "theta_K = np.arccos((Q_k_Phi_State['Probability'].iloc[0])**0.5)\n",
    "print('theta_K: {}'.format(theta_K))\n",
    "thetaFromK = theta_K/(2*k+1)\n",
    "print('thetaFromK: {}'.format(thetaFromK))"
   ]
  },
  {
   "cell_type": "markdown",
   "metadata": {},
   "source": [
    "Additionally in this case we know the true value of $\\theta$:\n",
    "\n",
    "$$ \\theta_{th} = \\arccos{\\sqrt{\\sum_{x=0}^{2^-1} p(x)f(x)}}$$\n",
    "\n",
    "This is done in following cell"
   ]
  },
  {
   "cell_type": "code",
   "execution_count": null,
   "metadata": {},
   "outputs": [],
   "source": [
    "#True value of Theta calculated using the input arrays\n",
    "theoric_theta = np.arccos(np.sqrt(sum(p_X*f_X)))\n",
    "print('theoric_theta: {}'.format(theoric_theta))\n",
    "\n",
    "print('thetaFromK == theoric_theta? {}'.format(np.isclose(thetaFromK, theoric_theta)))"
   ]
  },
  {
   "cell_type": "markdown",
   "metadata": {},
   "source": [
    "As can be seen in before cell the calculated $\\theta$ is different from $\\theta_{th}$. But we can compute the probability associated with this $\\theta_{th}$ using:\n",
    "\n",
    "$$\\cos^2((2*K+1)\\theta_{th}$$"
   ]
  },
  {
   "cell_type": "code",
   "execution_count": null,
   "metadata": {},
   "outputs": [],
   "source": [
    "print('|Psi_0> from  theoric_theta: {}'.format(np.cos((2*k+1)*theoric_theta)**2))\n",
    "print('|Psi_0> from  Q^KPhi Probability: {}'.format(Q_k_Phi_State['Probability'].iloc[0]))\n",
    "print('Probability from Q^Phi and from theoric_theta are the same? {}'.format(\n",
    "    np.isclose(np.cos((2*k+1)*theoric_theta)**2, Q_k_Phi_State['Probability'].iloc[0])\n",
    "\n",
    "))"
   ]
  },
  {
   "cell_type": "markdown",
   "metadata": {},
   "source": [
    "So probabilities from $\\mathcal{Q}^{K}|\\Psi\\rangle$ and from $\\theta_{th}$ are the same but we cannot calculates the correct angle from the first because of multivalued $\\arccos$"
   ]
  },
  {
   "cell_type": "markdown",
   "metadata": {},
   "source": [
    "## 3. Quantum Fourier Transformation"
   ]
  },
  {
   "cell_type": "markdown",
   "metadata": {},
   "source": [
    "In order to solve the before section problem we can use the **Phase Estimation Algorithm**. \n",
    "\n",
    "Our operator $\\hat{Q}$ applies a rotation of an angle $\\theta$ on the state $|\\Psi\\rangle$. This operator is unitary and have 2 eigenvalues in form of phases: $\\lambda_{\\pm}=e^{\\pm i2\\theta}$. The **Phase Estimation Algorithm** allow us get this phase $\\theta$.\n",
    "\n",
    "For this we need to create n auxiliary qbits in state $|+\\rangle$. Each qbit will be the controlled qbit for a controlled application of $\\mathcal{Q}^{K}$ (for each controlled qbit the K will change). Finally over the auxiliary qbits we apply an inverse of the Quantum Fourier Operator ($\\mathcal{QFT}$). The measurmente of this auxiliary qbits will give us an estimation of the desired $\\theta$. This estimation will be more exact when more auxiliary qbits we use for the $\\mathcal{QFT}$.\n",
    "\n",
    "For this algorithm if we have $m$ auxiliary qbits and the measurment of the $\\mathcal{QFT}$ is the integer $M$ then:\n",
    "\n",
    "$$\\theta = \\frac{M\\pi}{2^m}$$\n"
   ]
  },
  {
   "cell_type": "code",
   "execution_count": null,
   "metadata": {},
   "outputs": [],
   "source": [
    "from qat.lang.AQASM import Program, H\n",
    "from qat.lang.AQASM.qftarith import QFT"
   ]
  },
  {
   "cell_type": "code",
   "execution_count": null,
   "metadata": {},
   "outputs": [],
   "source": [
    "#Allocating Auxiliar qbits for Phase Estimation\n",
    "n_aux = 10\n",
    "\n",
    "#Cration of quantum program for loading data\n",
    "q_prog = create_qprogram(pf_gate)\n",
    "qbits = q_prog.registers[0]\n",
    "qAux = q_prog.qalloc(n_aux)\n",
    "#Creating auxiliary qbits for QPE with QFT\n",
    "for i, aux in enumerate(qAux):\n",
    "    q_prog.apply(H, aux)\n",
    "    step_q_gate = load_qn_gate(q_gate, 2**i)\n",
    "    q_prog.apply(step_q_gate.ctrl(), aux, qbits)\n",
    "#Inverse of the Quantum Fourier Transformation        \n",
    "q_prog.apply(QFT(n_aux).dag(), qAux)\n",
    "circuit = q_prog.to_circ(submatrices_only=True)    "
   ]
  },
  {
   "cell_type": "code",
   "execution_count": null,
   "metadata": {},
   "outputs": [],
   "source": [
    "c = q_prog.to_circ(submatrices_only=True)\n",
    "%qatdisplay c --depth 0"
   ]
  },
  {
   "cell_type": "code",
   "execution_count": null,
   "metadata": {},
   "outputs": [],
   "source": [
    "#Posible results\n",
    "job = circuit.to_job(qubits=qAux)\n",
    "result = run_job(lineal_qpu.submit(job))\n",
    "Phi = postprocess_results(result)\n",
    "#Each posible state is an integer M and we can compute its associated theta\n",
    "Phi['Thetas'] = [m*np.pi/(2**n_aux) for m in list(Phi.index)] \n",
    "Phi.sort_values('Probability', ascending=False, inplace = True)"
   ]
  },
  {
   "cell_type": "markdown",
   "metadata": {},
   "source": [
    "Now in Phi we have a complete pandas DataFrame with the posible results of the circuit:"
   ]
  },
  {
   "cell_type": "code",
   "execution_count": null,
   "metadata": {},
   "outputs": [],
   "source": [
    "Phi.head()"
   ]
  },
  {
   "cell_type": "markdown",
   "metadata": {},
   "source": [
    "We can plot the probabilities for each posible $\\theta$ and we have to obtain 2 máximums of probability around the two atuovalues of $\\hat{Q}$: $\\pm \\theta$"
   ]
  },
  {
   "cell_type": "code",
   "execution_count": null,
   "metadata": {},
   "outputs": [],
   "source": [
    "#Now we can plot te probability for each posible theta\n",
    "%matplotlib inline\n",
    "plt.plot(Phi['Thetas'], Phi['Probability'], 'o')\n",
    "plt.xlabel('Theta')\n",
    "plt.ylabel('Probability')"
   ]
  },
  {
   "cell_type": "markdown",
   "metadata": {},
   "source": [
    "As can be seen there are two maximum of probabilities at: $\\theta_0$ and $\\theta_1$ and is mandatory that $\\theta_1 = -\\theta_0$.\n",
    "\n",
    "Remenbering that $-\\theta = \\pi - \\theta$ the we can test that the two maximum correspond to $\\pm \\theta$:"
   ]
  },
  {
   "cell_type": "code",
   "execution_count": null,
   "metadata": {},
   "outputs": [],
   "source": [
    "#We take the thetas were probability is maximum\n",
    "theta_0 = Phi.sort_values('Probability', ascending =False)['Thetas'].iloc[0]\n",
    "theta_1 = Phi.sort_values('Probability', ascending =False)['Thetas'].iloc[1]\n",
    "\n",
    "print('theta_0: {}'.format(theta_0))\n",
    "print('theta_1: {}'.format(theta_1))"
   ]
  },
  {
   "cell_type": "code",
   "execution_count": null,
   "metadata": {},
   "outputs": [],
   "source": [
    "#So we test that the 2 are the same angle with different signs\n",
    "np.isclose(theta_0, np.pi -theta_1)"
   ]
  },
  {
   "cell_type": "markdown",
   "metadata": {},
   "source": [
    "Aditionally we can compute the Expected value as \n",
    "$$E_{x\\sim p}(f) = \\sum_{x=0}^{2^-1} p(x)f(x) = \\cos^{2} \\theta $$\n",
    "\n",
    "We can plot the posible expected values versus the probability"
   ]
  },
  {
   "cell_type": "code",
   "execution_count": null,
   "metadata": {},
   "outputs": [],
   "source": [
    "#Now we can plot te probability for each posible theta\n",
    "%matplotlib inline\n",
    "plt.plot(np.cos(Phi['Thetas'])**2, Phi['Probability'], 'o')\n",
    "plt.xlabel('E_p[f]')\n",
    "plt.ylabel('Probability')"
   ]
  },
  {
   "cell_type": "code",
   "execution_count": null,
   "metadata": {},
   "outputs": [],
   "source": [
    "theoric_theta = np.arccos(np.sqrt(sum(p_X*f_X)))\n",
    "print('theoric_theta: {}'.format(theoric_theta))\n",
    "print('theta_1: {}'.format(theta_0))\n",
    "print('Theorical Integration: {}'.format(sum(p_X*f_X)))\n",
    "print('Amplitude Amplification Integral: {}'.format(np.cos(theta_0)**2))"
   ]
  },
  {
   "cell_type": "code",
   "execution_count": null,
   "metadata": {},
   "outputs": [],
   "source": []
  }
 ],
 "metadata": {
  "kernelspec": {
   "display_name": "Python 3 (ipykernel)",
   "language": "python",
   "name": "python3"
  },
  "language_info": {
   "codemirror_mode": {
    "name": "ipython",
    "version": 3
   },
   "file_extension": ".py",
   "mimetype": "text/x-python",
   "name": "python",
   "nbconvert_exporter": "python",
   "pygments_lexer": "ipython3",
   "version": "3.9.9"
  }
 },
 "nbformat": 4,
 "nbformat_minor": 2
}
