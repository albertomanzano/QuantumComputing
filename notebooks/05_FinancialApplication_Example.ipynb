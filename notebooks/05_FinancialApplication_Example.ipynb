{
 "cells": [
  {
   "cell_type": "markdown",
   "id": "140c4007",
   "metadata": {},
   "source": [
    "# Apply to financial applications"
   ]
  },
  {
   "cell_type": "markdown",
   "id": "89c063a9",
   "metadata": {},
   "source": [
    "The present notebook will use the the library for a finance application. Specifically we want to solve a pricing problem. The reference for this notebook will be:\n",
    "\n",
    "* NEASQC deliverable: *D5.1: Review of state-of-the-art for Pricing and Computation of VaR https://www.neasqc.eu/wp-content/uploads/2021/06/NEASQC_D5.1_Review-of-state-of-the-art-for-Pricing-and-Computation-of-VaR_R2.0_Final.pdf*\n",
    "\n",
    "Given an input function $f(x)$ and a proability density $p(x)$ we want to compute the expected value of  $f(x)$ when x follows $p(x)$:\n",
    "\n",
    "$$\\mathbb{E}[f]=\\int_a^bp(x)f(x)dx$$\n",
    "\n",
    "This integral can be approximated by the Riemann sum:\n",
    "\n",
    "$$\\mathbb{E}[f] = \\sum_{i=0}^{2^n-1} p(x_i)f(x_i)dx$$\n",
    "\n",
    "The idea is to use **Amplitude Estimation** procedure in order to compute this value."
   ]
  },
  {
   "cell_type": "code",
   "execution_count": null,
   "id": "903ccf00",
   "metadata": {},
   "outputs": [],
   "source": [
    "import numpy as np\n",
    "import pandas as pd\n",
    "import matplotlib.pyplot as plt\n",
    "import qat.lang.AQASM as qlm\n",
    "from copy import deepcopy"
   ]
  },
  {
   "cell_type": "code",
   "execution_count": null,
   "id": "5b1cd0ed",
   "metadata": {},
   "outputs": [],
   "source": [
    "import sys\n",
    "sys.path.append(\"../\")"
   ]
  },
  {
   "cell_type": "code",
   "execution_count": null,
   "id": "2e6667ab",
   "metadata": {},
   "outputs": [],
   "source": [
    "%matplotlib inline"
   ]
  },
  {
   "cell_type": "code",
   "execution_count": null,
   "id": "3e2761d3",
   "metadata": {},
   "outputs": [],
   "source": [
    "#This cell loads the QLM solver.\n",
    "#QLMaaS == False -> uses PyLinalg\n",
    "#QLMaaS == True -> try to use LinAlg (for using QPU as CESGA QLM one)\n",
    "from libraries.utils.qlm_solver import get_qpu\n",
    "QLMaaS = False\n",
    "linalg_qpu = get_qpu(QLMaaS)"
   ]
  },
  {
   "cell_type": "code",
   "execution_count": null,
   "id": "0ef7577c",
   "metadata": {},
   "outputs": [],
   "source": [
    "#See 01_DataLoading_Module_Use for the use of this function\n",
    "from libraries.utils.data_extracting import get_results"
   ]
  },
  {
   "cell_type": "markdown",
   "id": "20303f08",
   "metadata": {},
   "source": [
    "## 1. Discretizing data"
   ]
  },
  {
   "cell_type": "markdown",
   "id": "d3a113ee",
   "metadata": {},
   "source": [
    "Below cell defines the functions for $p(x)$ and $f(x)$"
   ]
  },
  {
   "cell_type": "code",
   "execution_count": null,
   "id": "bcbeb99f",
   "metadata": {},
   "outputs": [],
   "source": [
    "def p(x):\n",
    "    return x*x\n",
    "def f(x):\n",
    "    return np.sin(x)"
   ]
  },
  {
   "cell_type": "markdown",
   "id": "20c15717",
   "metadata": {},
   "source": [
    "First thing to do is define a discrete version of these functions. We can use the *get_histogram* function from *utils/utils* module"
   ]
  },
  {
   "cell_type": "code",
   "execution_count": null,
   "id": "a7b2b631",
   "metadata": {},
   "outputs": [],
   "source": [
    "from libraries.utils.utils import get_histogram"
   ]
  },
  {
   "cell_type": "code",
   "execution_count": null,
   "id": "8b3a7406",
   "metadata": {},
   "outputs": [],
   "source": [
    "#number of Qbits for the circuit\n",
    "n_qbits = 4"
   ]
  },
  {
   "cell_type": "code",
   "execution_count": null,
   "id": "ce3b152b",
   "metadata": {},
   "outputs": [],
   "source": [
    "#The number of bins \n",
    "m_bins = 2**n_qbits\n",
    "LowerLimit = 0.0\n",
    "UpperLimit = 1.0 \n",
    "\n",
    "X, p_X = get_histogram(p, LowerLimit, UpperLimit, m_bins)\n",
    "f_X = f(X)"
   ]
  },
  {
   "cell_type": "markdown",
   "id": "2efe948c",
   "metadata": {},
   "source": [
    "It is mandatory that $p(x)$ and $f(x)$ were properly normalized. Following conditions should be fullfilled:\n",
    "\n",
    "* For $p(x)$ is mandatory that: $\\sum_{i=0}^{2^{n}} p(x_i) = 1$\n",
    "* For $f(x)$ is mandatory that: $f(x_i) \\leq 1 \\forall i$"
   ]
  },
  {
   "cell_type": "code",
   "execution_count": null,
   "id": "ad3782ee",
   "metadata": {
    "scrolled": true
   },
   "outputs": [],
   "source": [
    "%matplotlib inline\n",
    "plt.plot(X, p_X, 'o')\n",
    "plt.plot(X, f_X, 'o')\n",
    "plt.legend(['p(x)', 'f(x)'])"
   ]
  },
  {
   "cell_type": "code",
   "execution_count": null,
   "id": "cd4d321a",
   "metadata": {},
   "outputs": [],
   "source": [
    "#Test condition in p(x)\n",
    "print('p(x) condition: {}'.format(np.sum(p_X) == 1))\n",
    "print('f(x) condition: {}'.format(np.max(f_X) <= 1))"
   ]
  },
  {
   "cell_type": "markdown",
   "id": "5cd029b7",
   "metadata": {},
   "source": [
    "## 2. Loading data"
   ]
  },
  {
   "cell_type": "markdown",
   "id": "cee2e0d0",
   "metadata": {},
   "source": [
    "Second part is loading the data ($p(x)$ and $f(x)$) into the quantum state. For this we need to create following 2 loading operators:\n",
    "\n",
    "1. $\\mathcal{P}$. for loading $p(x)$\n",
    "2. $\\mathcal{F}$. for loading $f(x)$\n",
    "\n",
    "So the main idea is begin with an initial $n+1$ qbits state:\n",
    "\n",
    "$$|0\\rangle \\otimes|0\\rangle_{n}$$\n",
    "\n",
    "An apply the following loading operation:\n",
    "\n",
    "$$|\\Psi\\rangle=\\mathcal{F}\\left(I\\otimes\\mathcal{P}\\right)|0\\rangle\\otimes|0\\rangle_{n}$$\n",
    "\n",
    "The quantum state resulting from the loading proccess: $|\\Psi\\rangle$ can be expressed as a linear combination of two orthogonal states $|\\Psi_{1}\\rangle$ y $|\\Psi_{0}\\rangle$:\n",
    "\n",
    "$$|\\Psi\\rangle=\\sqrt{a}|\\Psi_{0}\\rangle+\\sqrt{1-a}|\\Psi_{1}\\rangle$$\n",
    "\n",
    "where:\n",
    "$$\n",
    "\\begin{array}{l}\n",
    "&\\sqrt{a}|\\Psi_{0}\\rangle = |0\\rangle \\otimes\\sum_{i=0}^{2^{n}-1}\\sqrt{p(x_i)f(x_i)}|i\\rangle_{n},\\\\\\\\\n",
    "&\\sqrt{1-a}|\\Psi_{1}\\rangle = |1\\rangle\\otimes\\sum_{i=0}^{2^{n}-1}\\sqrt{p(x_i)(1-f(x_i))}|i\\rangle_{n}.\n",
    "\\end{array}\n",
    "$$\n",
    "The probability of measuring $|0\\rangle$ is:\n",
    "\n",
    "$$ \\left|\\sqrt{a}\\right|^2 = \\sum_{i=0}^{2^{n}-1}\\left|\\sqrt{p(x_i)f(x_i)}\\right|^2,$$\n",
    "\n",
    "so estimating $\\sqrt{a}$ gives as an approximation of the value of the integral.\n",
    "\n",
    "For doing this operations *load_probability* and *load_array* functions from **DL/data_loading** module will be used (see notebook **01_DataLoading_Module_Use.ipynb**)"
   ]
  },
  {
   "cell_type": "code",
   "execution_count": null,
   "id": "7df66281",
   "metadata": {},
   "outputs": [],
   "source": [
    "from libraries.DL.data_loading import load_probability, load_array"
   ]
  },
  {
   "cell_type": "code",
   "execution_count": null,
   "id": "586e24ca",
   "metadata": {},
   "outputs": [],
   "source": [
    "p_gate = load_probability(p_X)\n",
    "f_gate = load_array(np.sqrt(f_X))"
   ]
  },
  {
   "cell_type": "code",
   "execution_count": null,
   "id": "0b38d2aa",
   "metadata": {},
   "outputs": [],
   "source": [
    "%qatdisplay p_gate --depth 0\n",
    "%qatdisplay f_gate --depth 0"
   ]
  },
  {
   "cell_type": "markdown",
   "id": "948e00cb",
   "metadata": {},
   "source": [
    "Now we compound the two operators $\\mathcal{P}$ aqnd $\\mathcal{F}$ for creating the necesary loading circuit"
   ]
  },
  {
   "cell_type": "code",
   "execution_count": null,
   "id": "68431c4b",
   "metadata": {},
   "outputs": [],
   "source": [
    "routine = qlm.QRoutine()\n",
    "register = routine.new_wires(f_gate.arity)\n",
    "routine.apply(p_gate, register[:p_gate.arity])\n",
    "routine.apply(f_gate, register)"
   ]
  },
  {
   "cell_type": "code",
   "execution_count": null,
   "id": "3b81314f",
   "metadata": {},
   "outputs": [],
   "source": [
    "%qatdisplay routine --depth 0"
   ]
  },
  {
   "cell_type": "markdown",
   "id": "427e75e3",
   "metadata": {},
   "source": [
    "We can test if the loading was properly implemented. For doing this we are going to use **get_results** from *data_extracting* module"
   ]
  },
  {
   "cell_type": "code",
   "execution_count": null,
   "id": "6e9efbd6",
   "metadata": {},
   "outputs": [],
   "source": [
    "results,_,_,_ = get_results(routine, linalg_qpu=linalg_qpu)\n",
    "quantum_probabilities = results[\"Probability\"].values"
   ]
  },
  {
   "cell_type": "code",
   "execution_count": null,
   "id": "dfa151ed",
   "metadata": {},
   "outputs": [],
   "source": [
    "np.isclose(quantum_probabilities[0:2**p_gate.arity], p_X*f_X).all()"
   ]
  },
  {
   "cell_type": "markdown",
   "id": "655ed9f3",
   "metadata": {},
   "source": [
    "We are going to measure the complete state (**phi_state**) and the last qbit state (**InitialState**)"
   ]
  },
  {
   "cell_type": "code",
   "execution_count": null,
   "id": "2115b757",
   "metadata": {},
   "outputs": [],
   "source": [
    "phi_state,_,_,_ = get_results(routine, linalg_qpu=linalg_qpu)#, qubits=[f_gate.arity-1])\n",
    "InitialState,_,_,_ = get_results(routine, linalg_qpu=linalg_qpu, qubits=[f_gate.arity-1])"
   ]
  },
  {
   "cell_type": "code",
   "execution_count": null,
   "id": "7f33898b",
   "metadata": {},
   "outputs": [],
   "source": [
    "np.isclose(InitialState['Probability'].iloc[0], sum(p_X*f_X))"
   ]
  },
  {
   "cell_type": "markdown",
   "id": "92a51970",
   "metadata": {},
   "source": [
    "## 3. Maximum Likelihood Amplitude Estimation"
   ]
  },
  {
   "cell_type": "markdown",
   "id": "beedd4b1",
   "metadata": {},
   "source": [
    "Quantum circuit implementation of $\\mathcal{QFT}$ are very complex and very long and deep so its use in actual quantum computers is noisy and not very useful.\n",
    "\n",
    "The **Maximum Likelihood Amplitude Estimation** algorithm (**MLAE**) allows to take advantage of **amplitude amplification** without the use of the  $\\mathcal{QFT}$.\n",
    "\n",
    "For doing this  we are going to use the  **maximum_likelihood_ae** module "
   ]
  },
  {
   "cell_type": "code",
   "execution_count": null,
   "id": "b7ebdcdc",
   "metadata": {},
   "outputs": [],
   "source": [
    "from  libraries.AE.maximum_likelihood_ae  import MLAE"
   ]
  },
  {
   "cell_type": "markdown",
   "id": "11696f11",
   "metadata": {},
   "source": [
    "The notebook **04_MaximumLikelihood_Class** explains how this class works. In our case we need to provide:\n",
    "\n",
    "1. Oracle\n",
    "2. Target: the binnary representation of the marked state. \n",
    "3. index: the registers where the Target is.\n",
    "\n",
    "In our case is the same that we use for generating Grover-like operator"
   ]
  },
  {
   "cell_type": "code",
   "execution_count": null,
   "id": "d6c95b32",
   "metadata": {},
   "outputs": [],
   "source": [
    "oracle = deepcopy(routine)\n",
    "target = [0]\n",
    "index = [routine.arity-1]"
   ]
  },
  {
   "cell_type": "code",
   "execution_count": null,
   "id": "79bd01eb",
   "metadata": {},
   "outputs": [],
   "source": [
    "%qatdisplay oracle"
   ]
  },
  {
   "cell_type": "markdown",
   "id": "c1a2f718",
   "metadata": {},
   "source": [
    "Additionally a schedule where the list of applications of Grover-like operator should be provided"
   ]
  },
  {
   "cell_type": "code",
   "execution_count": null,
   "id": "47e38907",
   "metadata": {},
   "outputs": [],
   "source": [
    "m_k = list(range(5))\n",
    "n_k = [100]*len(m_k)\n",
    "schedule = [m_k,n_k]"
   ]
  },
  {
   "cell_type": "code",
   "execution_count": null,
   "id": "cd68b1cd",
   "metadata": {},
   "outputs": [],
   "source": [
    "mlae = MLAE(\n",
    "    oracle,target = target,\n",
    "    index = index,\n",
    "    schedule = schedule)"
   ]
  },
  {
   "cell_type": "code",
   "execution_count": null,
   "id": "dff03637",
   "metadata": {},
   "outputs": [],
   "source": [
    "mlae.schedule"
   ]
  },
  {
   "cell_type": "code",
   "execution_count": null,
   "id": "17a7bf8f",
   "metadata": {},
   "outputs": [],
   "source": [
    "angle = mlae.optimize()"
   ]
  },
  {
   "cell_type": "code",
   "execution_count": null,
   "id": "c7fad6b3",
   "metadata": {},
   "outputs": [],
   "source": [
    "#ploting the Cost function\n",
    "angles = np.linspace(0+mlae.delta,np.pi/2-mlae.delta,100)\n",
    "cost = np.zeros(len(angles))\n",
    "for i in range(len(angles)):\n",
    "    cost[i] = mlae.cost_function(angles[i])\n",
    "\n",
    "plt.plot(angles, cost)\n",
    "plt.axvline(np.arcsin(sum(p_X*f_X)**0.5), color = 'r',label = r\"$\\theta^*$\")\n",
    "\n",
    "#plt.axvline(theta,color = 'r')\n",
    "plt.grid()\n",
    "plt.xlabel(r\"$\\theta$\")\n",
    "plt.ylabel(r\"$C(\\theta)$\")\n",
    "\n",
    "plt.legend()"
   ]
  },
  {
   "cell_type": "markdown",
   "id": "0bfe6721",
   "metadata": {},
   "source": [
    "In this case the aproximation of the integral $\\mathbb{E}[f]\\approx \\sum_{i=0}^{2^{n}-1}\\left|\\sqrt{p(x_i)f(x_i)}\\right|^2 $ aproximated as:\n",
    "\n",
    "$$\\sin^2(\\theta),$$ \n",
    "\n",
    "where $\\theta$ is the angle calculated with the **MLAE** algortihm. See notebook **03_MaximumLikelihood_Class** for more information. "
   ]
  },
  {
   "cell_type": "code",
   "execution_count": null,
   "id": "133ab2c6",
   "metadata": {},
   "outputs": [],
   "source": [
    "print(\"Quantum result: \",np.sin(angle)[0]**2)\n",
    "print('Integral Result: ', sum(p_X*f_X))\n",
    "print('Difference: ', abs(np.sin(angle)[0]**2-sum(p_X*f_X)))"
   ]
  },
  {
   "cell_type": "markdown",
   "id": "5d26631e",
   "metadata": {},
   "source": [
    "## 4. Kitaev's Iterative Quantum Amplitude Estimation"
   ]
  },
  {
   "cell_type": "markdown",
   "id": "67acf142",
   "metadata": {},
   "source": [
    "Another alternative to estimate the amplitude is using  *Iterative Quantum Phase Estimation* to do *Quantum Amplitude Estimation*.\n",
    "For using **IterativeQuantumPE** we need to provide:\n",
    "\n",
    "* initial_state : in this case will be the oracle\n",
    "* unitary_operator:  in this case will be the Grover-like operator build using *oracle* \n",
    "* cbits_number: number of classical bits used for phase estimation\n",
    "\n",
    "For creating the grover operator we are going to use the *grover* function from *amplitude_amplification* module and the same *target* and *index*  then in the *maximum likelihood* class will be used:"
   ]
  },
  {
   "cell_type": "code",
   "execution_count": null,
   "id": "81994955",
   "metadata": {},
   "outputs": [],
   "source": [
    "from libraries.AA.amplitude_amplification import grover"
   ]
  },
  {
   "cell_type": "code",
   "execution_count": null,
   "id": "e9709c80",
   "metadata": {},
   "outputs": [],
   "source": [
    "target = [0]\n",
    "index = [oracle.arity-1]\n",
    "q_gate = grover(oracle, target, index)"
   ]
  },
  {
   "cell_type": "code",
   "execution_count": null,
   "id": "997bfd41",
   "metadata": {},
   "outputs": [],
   "source": [
    "%qatdisplay q_gate --depth 1"
   ]
  },
  {
   "cell_type": "code",
   "execution_count": null,
   "id": "8f6d1fd8",
   "metadata": {},
   "outputs": [],
   "source": [
    "#Load Class\n",
    "from libraries.PE.iterative_quantum_pe import IterativeQuantumPE"
   ]
  },
  {
   "cell_type": "code",
   "execution_count": null,
   "id": "538a23ba",
   "metadata": {},
   "outputs": [],
   "source": [
    "n_cbits = 7\n",
    "#We create a python dictionary for configuration of class\n",
    "iqpe_dict = {\n",
    "    'initial_state': oracle,\n",
    "    'unitary_operator': q_gate,\n",
    "    'qpu' : linalg_qpu,\n",
    "    'cbits_number' : n_cbits,\n",
    "    'shots': 100\n",
    "    #'easy': True,\n",
    "    #'easy': False    \n",
    "}\n",
    "IQPE = IterativeQuantumPE(**iqpe_dict)"
   ]
  },
  {
   "cell_type": "code",
   "execution_count": null,
   "id": "011930a9",
   "metadata": {},
   "outputs": [],
   "source": [
    "IQPE.iqpe()"
   ]
  },
  {
   "cell_type": "code",
   "execution_count": null,
   "id": "354a88eb",
   "metadata": {},
   "outputs": [],
   "source": [
    "IQPE.final_results"
   ]
  },
  {
   "cell_type": "markdown",
   "id": "ad14ee66",
   "metadata": {},
   "source": [
    "In this case the aproximation of the integral $\\mathbb{E}[f]\\approx \\sum_{i=0}^{2^{n}-1}\\left|\\sqrt{p(x_i)f(x_i)}\\right|^2 $ aproximated as:\n",
    "\n",
    "$$\\cos^2(\\theta),$$ \n",
    "\n",
    "where $\\theta$ is the angle calculated with the **IQPE** algortihm. See notebook **04_Iterative_QPE_Class** for more information. "
   ]
  },
  {
   "cell_type": "code",
   "execution_count": null,
   "id": "db6ee5fd",
   "metadata": {},
   "outputs": [],
   "source": [
    "pdf = IQPE.sumary\n",
    "pdf['P']=np.cos(pdf['theta_90'])**2"
   ]
  },
  {
   "cell_type": "code",
   "execution_count": null,
   "id": "17fa8798",
   "metadata": {
    "scrolled": true
   },
   "outputs": [],
   "source": [
    "pdf"
   ]
  },
  {
   "cell_type": "code",
   "execution_count": null,
   "id": "6f100d53",
   "metadata": {},
   "outputs": [],
   "source": [
    "print(\"Classical result: \", np.sum(p_X*f_X))\n",
    "print(\"Quantum result: \",pdf.iloc[0]['P'])"
   ]
  },
  {
   "cell_type": "code",
   "execution_count": null,
   "id": "fc783d22",
   "metadata": {},
   "outputs": [],
   "source": []
  }
 ],
 "metadata": {
  "kernelspec": {
   "display_name": "Python 3 (ipykernel)",
   "language": "python",
   "name": "python3"
  },
  "language_info": {
   "codemirror_mode": {
    "name": "ipython",
    "version": 3
   },
   "file_extension": ".py",
   "mimetype": "text/x-python",
   "name": "python",
   "nbconvert_exporter": "python",
   "pygments_lexer": "ipython3",
   "version": "3.9.9"
  }
 },
 "nbformat": 4,
 "nbformat_minor": 5
}
