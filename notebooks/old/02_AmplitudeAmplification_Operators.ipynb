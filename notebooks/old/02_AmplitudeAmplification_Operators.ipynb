{
 "cells": [
  {
   "cell_type": "markdown",
   "metadata": {},
   "source": [
    "# Amplitude Amplification Operators"
   ]
  },
  {
   "cell_type": "markdown",
   "metadata": {},
   "source": [
    "The main objective of present library is use quantum algorithms for computing the expected value of a function $f(x)$ when the $x$ variable follows a probability distribution $p(x)$: $E_{x\\sim p}(f)$. This is computed as:\n",
    "\n",
    "$$E_{x\\sim p}(f)=\\int_a^bp(x)f(x)dx$$\n",
    "\n",
    "For solving this integral we are going to use a procedure based on Grover algorithm called **Amplitude Amplification**.\n",
    "\n",
    "In the notebook **01_DataLoading_Module_Use.ipynb**  the first mandatory steps for using this procedure was explained: the loading of the probability density $p(x)$ (loading operator $\\mathcal{P}$) and the loading of an array that represents the function $f(x)$ (loading operator $\\mathcal{F}$).\n",
    "\n",
    "Second step for **Amplitude Amplification** procedure is the creation of a Grover-like operator based on the $\\mathcal{P}$ and $\\mathcal{F}$ operators. Present notebook review the **amplitude_amplification** module where all the mandatory functions for creating this Grover-like operator ($\\hat{Q}$) were stored."
   ]
  },
  {
   "cell_type": "markdown",
   "metadata": {},
   "source": [
    "Present notebook and module are based on the following references:\n",
    "\n",
    "* *Brassard, G., Hoyer, P., Mosca, M., & Tapp, A. (2000). Quantum amplitude amplification and estimation.AMS Contemporary Mathematics Series, 305. https://arxiv.org/abs/quant-ph/0005055v1*\n",
    "* NEASQC deliverable: *D5.1: Review of state-of-the-art for Pricing and Computation of VaR https://www.neasqc.eu/wp-content/uploads/2021/06/NEASQC_D5.1_Review-of-state-of-the-art-for-Pricing-and-Computation-of-VaR_R2.0_Final.pdf*"
   ]
  },
  {
   "cell_type": "code",
   "execution_count": null,
   "metadata": {},
   "outputs": [],
   "source": [
    "from IPython.core.display import display, HTML\n",
    "display(HTML(\"<style>.container { width:100% !important; }</style>\"))"
   ]
  },
  {
   "cell_type": "code",
   "execution_count": null,
   "metadata": {},
   "outputs": [],
   "source": [
    "import numpy as np\n",
    "import pandas as pd\n",
    "import matplotlib.pyplot as plt\n",
    "import sys, os\n",
    "import qat.lang.AQASM as qlm \n",
    "from copy import deepcopy"
   ]
  },
  {
   "cell_type": "code",
   "execution_count": null,
   "metadata": {},
   "outputs": [],
   "source": [
    "%load_ext qat.core.magic"
   ]
  },
  {
   "cell_type": "code",
   "execution_count": null,
   "metadata": {},
   "outputs": [],
   "source": [
    "#QPU connection\n",
    "QLMASS = False\n",
    "if QLMASS:\n",
    "    try:\n",
    "        from qat.qlmaas import QLMaaSConnection\n",
    "        connection = QLMaaSConnection()\n",
    "        LinAlg = connection.get_qpu(\"qat.qpus:LinAlg\")\n",
    "        linalg_qpu = LinAlg()\n",
    "    except (ImportError, OSError) as e:\n",
    "        print('Problem: usin PyLinalg')\n",
    "        from qat.qpus import PyLinalg\n",
    "        linalg_qpu = PyLinalg()\n",
    "else:\n",
    "    print('User Forces: PyLinalg')\n",
    "    from qat.qpus import PyLinalg\n",
    "    linalg_qpu = PyLinalg()    "
   ]
  },
  {
   "cell_type": "code",
   "execution_count": null,
   "metadata": {},
   "outputs": [],
   "source": [
    "sys.path.append(\"../libraries/\")\n",
    "from utils import  get_histogram\n",
    "from data_extracting import get_results"
   ]
  },
  {
   "cell_type": "markdown",
   "metadata": {},
   "source": [
    "## 1. Data Discretization"
   ]
  },
  {
   "cell_type": "markdown",
   "metadata": {},
   "source": [
    "The operators $\\mathcal{P}$ and $\\mathcal{F}$ need discretized arrays of the probability and the function to be loaded into the quantum state."
   ]
  },
  {
   "cell_type": "code",
   "execution_count": null,
   "metadata": {},
   "outputs": [],
   "source": [
    "def p(x):\n",
    "    return x*x\n",
    "def f(x):\n",
    "    return np.sin(x)"
   ]
  },
  {
   "cell_type": "code",
   "execution_count": null,
   "metadata": {},
   "outputs": [],
   "source": [
    "#number of Qbits for the circuit\n",
    "n_qbits = 6\n",
    "#The number of bins \n",
    "m_bins = 2**n_qbits\n",
    "LowerLimit = 0.0\n",
    "UpperLimit = 1.0 \n",
    "\n",
    "X, p_X = get_histogram(p, LowerLimit, UpperLimit, m_bins)\n",
    "f_X = f(X)"
   ]
  },
  {
   "cell_type": "code",
   "execution_count": null,
   "metadata": {},
   "outputs": [],
   "source": [
    "%matplotlib inline\n",
    "plt.plot(X, p_X, 'o')\n",
    "plt.plot(X, f_X, 'o')\n",
    "plt.legend(['Probability', 'Array'])"
   ]
  },
  {
   "cell_type": "markdown",
   "metadata": {},
   "source": [
    "## 2. Complete Data Loading"
   ]
  },
  {
   "cell_type": "markdown",
   "metadata": {},
   "source": [
    "In order to use the **Amplitude Amplification** procedure first step is loading the complete data ($p(x)$ and $f(x)$) into a quantum state. In this section a fast review of this step si presented.\n",
    "\n",
    "If we begin with a typical initial $n+1$ quantum state: $|0\\rangle_{n}\\otimes|0\\rangle_{1}$. The complete loading procces executes following operation:\n",
    "\n",
    "$$|\\Psi\\rangle=\\mathcal{F}\\left(\\mathcal{P}\\otimes I\\right)|0\\rangle_{n}\\otimes|0\\rangle_{1}$$\n",
    "\n",
    "Where:\n",
    "\n",
    "* $\\mathcal{P}$ is the probability loading operator (note that it acts on an $n$ qbit state). **load_probability** function from **data_loading** will be used.\n",
    "* $\\mathcal{F}$ is the function loading operator (note that it acts on an $n+1$ qbit state). **load_array** function from **data_loading** will be used\n"
   ]
  },
  {
   "cell_type": "markdown",
   "metadata": {},
   "source": [
    "### 2.1 $\\mathcal{P}$ with using **load_probability**"
   ]
  },
  {
   "cell_type": "code",
   "execution_count": null,
   "metadata": {},
   "outputs": [],
   "source": [
    "from data_loading import load_probability"
   ]
  },
  {
   "cell_type": "code",
   "execution_count": null,
   "metadata": {},
   "outputs": [],
   "source": [
    "p_gate = load_probability(p_X)"
   ]
  },
  {
   "cell_type": "code",
   "execution_count": null,
   "metadata": {},
   "outputs": [],
   "source": [
    "%qatdisplay p_gate --depth 0"
   ]
  },
  {
   "cell_type": "markdown",
   "metadata": {},
   "source": [
    "In order to show how $\\mathcal{P}$ acts we can use **get_results** function from **data_extracting** script. This function needs following arguments:\n",
    "\n",
    "* A QLM routine, abstract, gate or program\n",
    "* A QLM solver (argument linalg_qpu)\n",
    "* number of shots for executing circuit in the simulation (0 will calculate True probabilities)\n",
    "* qubits: list of qbits to be measured (if None all qbits will be measured)"
   ]
  },
  {
   "cell_type": "code",
   "execution_count": null,
   "metadata": {},
   "outputs": [],
   "source": [
    "results, circuit, q_p, job = get_results(p_gate, linalg_qpu=linalg_qpu, shots=0)"
   ]
  },
  {
   "cell_type": "markdown",
   "metadata": {},
   "source": [
    "In this case wee need to sort all the results using the **Int_lsb** column"
   ]
  },
  {
   "cell_type": "code",
   "execution_count": null,
   "metadata": {
    "scrolled": true
   },
   "outputs": [],
   "source": [
    "results.sort_values('Int_lsb')"
   ]
  },
  {
   "cell_type": "code",
   "execution_count": null,
   "metadata": {},
   "outputs": [],
   "source": [
    "p_X"
   ]
  },
  {
   "cell_type": "code",
   "execution_count": null,
   "metadata": {},
   "outputs": [],
   "source": [
    "#Test for correct loading\n",
    "np.isclose(results.sort_values('Int_lsb')['Probability'].values, p_X).all()"
   ]
  },
  {
   "cell_type": "markdown",
   "metadata": {},
   "source": [
    "### 2.2 $\\mathcal{F}$ with using **load_array**"
   ]
  },
  {
   "cell_type": "code",
   "execution_count": null,
   "metadata": {},
   "outputs": [],
   "source": [
    "from data_loading import load_array"
   ]
  },
  {
   "cell_type": "code",
   "execution_count": null,
   "metadata": {},
   "outputs": [],
   "source": [
    "#In order to load a function f(x) we need to provide sqrt(f(x))\n",
    "f_gate = load_array(np.sqrt(f_X))"
   ]
  },
  {
   "cell_type": "code",
   "execution_count": null,
   "metadata": {},
   "outputs": [],
   "source": [
    "%qatdisplay f_gate --depth 0"
   ]
  },
  {
   "cell_type": "markdown",
   "metadata": {},
   "source": [
    "For testing the function loading operator $\\mathcal{F}$, first a equally probability superposition of states is needed. The function **uniform_distribution** from **data_loading** will be used.\n",
    "In this case the desired integral $E_{x\\sim U}(f)$ (the expected value of a function $f(x)$ over a variable $x$ that follows an uniform probability distribution) is loading as the amplitude of the state $|0\\rangle$ in the last qbit.\n"
   ]
  },
  {
   "cell_type": "code",
   "execution_count": null,
   "metadata": {},
   "outputs": [],
   "source": [
    "from data_loading import uniform_distribution"
   ]
  },
  {
   "cell_type": "code",
   "execution_count": null,
   "metadata": {},
   "outputs": [],
   "source": [
    "q_rout = qlm.QRoutine()\n",
    "q_bit = q_rout.new_wires(f_gate.arity)\n",
    "#Uniform distribution\n",
    "q_rout.apply(uniform_distribution(f_gate.arity-1),q_bit[:f_gate.arity-1])\n",
    "q_rout.apply(f_gate, q_bit)\n",
    "results, circuit, q_p, job = get_results(q_rout, linalg_qpu=linalg_qpu, shots=0, qubits=[f_gate.arity-1])"
   ]
  },
  {
   "cell_type": "code",
   "execution_count": null,
   "metadata": {},
   "outputs": [],
   "source": [
    "%qatdisplay circuit --depth 0"
   ]
  },
  {
   "cell_type": "code",
   "execution_count": null,
   "metadata": {
    "scrolled": true
   },
   "outputs": [],
   "source": [
    "results"
   ]
  },
  {
   "cell_type": "code",
   "execution_count": null,
   "metadata": {},
   "outputs": [],
   "source": [
    "#Desired Integral\n",
    "results['Probability'].iloc[0]*2**(n_qbits)"
   ]
  },
  {
   "cell_type": "code",
   "execution_count": null,
   "metadata": {},
   "outputs": [],
   "source": [
    "sum(f_X)"
   ]
  },
  {
   "cell_type": "code",
   "execution_count": null,
   "metadata": {},
   "outputs": [],
   "source": [
    "#Load Integral Testing\n",
    "np.isclose(results['Probability'].iloc[0]*2**(n_qbits), sum(f_X))"
   ]
  },
  {
   "cell_type": "markdown",
   "metadata": {},
   "source": [
    "### 2.3 $\\mathcal{PF}$ operator"
   ]
  },
  {
   "cell_type": "markdown",
   "metadata": {},
   "source": [
    "For creating the Grover-like operator we need only one Operator so we need to create a unique operator from $\\mathcal{P}$ and $\\mathcal{F}$. \n",
    "\n",
    "We can create the routine manually or use the  **load_pf** function provide in the module"
   ]
  },
  {
   "cell_type": "markdown",
   "metadata": {},
   "source": [
    "#### Manually creation of the operator"
   ]
  },
  {
   "cell_type": "code",
   "execution_count": null,
   "metadata": {},
   "outputs": [],
   "source": [
    "pf_gate = qlm.QRoutine()\n",
    "q_bits = pf_gate.new_wires(f_gate.arity)\n",
    "pf_gate.apply(p_gate, q_bits[:p_gate.arity])\n",
    "pf_gate.apply(f_gate, q_bits)"
   ]
  },
  {
   "cell_type": "code",
   "execution_count": null,
   "metadata": {
    "scrolled": true
   },
   "outputs": [],
   "source": [
    "#%qatdisplay p_gate\n",
    "#%qatdisplay r_gate\n",
    "%qatdisplay pf_gate --depth 0"
   ]
  },
  {
   "cell_type": "markdown",
   "metadata": {},
   "source": [
    "\n",
    "For this case the desired integral $E_{x\\sim p}(f)$ (the expected value of a function $f(x)$ over a variable $x$ that follows an probability distribution $p(x)$). \n",
    "And again this integral was loaded as the amplitude of the state $|0\\rangle$ in the last qbit.\n"
   ]
  },
  {
   "cell_type": "code",
   "execution_count": null,
   "metadata": {},
   "outputs": [],
   "source": [
    "results, circuit, q_p, job = get_results(pf_gate, linalg_qpu=linalg_qpu, shots=0, qubits=[pf_gate.arity-1])"
   ]
  },
  {
   "cell_type": "code",
   "execution_count": null,
   "metadata": {},
   "outputs": [],
   "source": [
    "results"
   ]
  },
  {
   "cell_type": "code",
   "execution_count": null,
   "metadata": {},
   "outputs": [],
   "source": [
    "sum(p_X*f_X)"
   ]
  },
  {
   "cell_type": "code",
   "execution_count": null,
   "metadata": {},
   "outputs": [],
   "source": [
    "#Testing Expected value of the function\n",
    "np.isclose(sum(p_X*f_X), results['Probability'][results['Int_lsb']==0])"
   ]
  },
  {
   "cell_type": "markdown",
   "metadata": {},
   "source": [
    "#### Using load_pf function"
   ]
  },
  {
   "cell_type": "code",
   "execution_count": null,
   "metadata": {},
   "outputs": [],
   "source": [
    "from data_loading import load_pf"
   ]
  },
  {
   "cell_type": "code",
   "execution_count": null,
   "metadata": {},
   "outputs": [],
   "source": [
    "pf_gate = load_pf(p_gate, f_gate)"
   ]
  },
  {
   "cell_type": "code",
   "execution_count": null,
   "metadata": {},
   "outputs": [],
   "source": [
    "%qatdisplay pf_gate --depth 1"
   ]
  },
  {
   "cell_type": "code",
   "execution_count": null,
   "metadata": {},
   "outputs": [],
   "source": [
    "results, circuit, q_p, job = get_results(pf_gate, linalg_qpu=linalg_qpu, shots=0, qubits=[pf_gate.arity-1])"
   ]
  },
  {
   "cell_type": "code",
   "execution_count": null,
   "metadata": {},
   "outputs": [],
   "source": [
    "results"
   ]
  },
  {
   "cell_type": "code",
   "execution_count": null,
   "metadata": {},
   "outputs": [],
   "source": [
    "sum(p_X*f_X)"
   ]
  },
  {
   "cell_type": "code",
   "execution_count": null,
   "metadata": {},
   "outputs": [],
   "source": [
    "#Testing Expected value of the function\n",
    "np.isclose(sum(p_X*f_X), results['Probability'][results['Int_lsb']==0])"
   ]
  },
  {
   "cell_type": "markdown",
   "metadata": {},
   "source": [
    "# 3. Amplitude Amplification: Grover-like operator $\\mathcal{Q}$"
   ]
  },
  {
   "cell_type": "markdown",
   "metadata": {},
   "source": [
    "The quantum state resulting from the loading proccess: $|\\Psi\\rangle$ can be expressed as a linear combination of two orthogonal states $|\\Psi_{1}\\rangle$ y $|\\Psi_{0}\\rangle$:\n",
    "\n",
    "$$|\\Psi\\rangle=\\sqrt{a}|\\Psi_{0}\\rangle+\\sqrt{1-a}|\\Psi_{1}\\rangle$$\n",
    "\n",
    "Where $|\\Psi_{0}\\rangle$ and $|\\Psi_{1}\\rangle$ are the following orthonormal states:\n",
    "\n",
    "$$|\\Psi_{1}\\rangle = \\sum_{x=0}^{2^{n}-1}|x\\rangle^{n}\\otimes\\frac{1}{\\sqrt{1-a}}\\sqrt{p(x)(1-f(x))}|1\\rangle$$\n",
    "$$|\\Psi_{0}\\rangle = \\sum_{x=0}^{2^{n}-1}|x\\rangle^{n}\\otimes\\frac{1}{\\sqrt{a}}\\sqrt{p(x)f(x)}|0\\rangle$$\n",
    "\n",
    "\n",
    "Where $|x\\rangle^{n}$ is a notation for a quantum state of n qbits.\n",
    "\n",
    "\n",
    "The idea behind Quantum Amplitude Amplification procedure is increase the probability of the $|\\Psi_{0}\\rangle$  using a strategy based on the Grover Algorithm. \n",
    "\n",
    "An Operator $\\mathcal{Q}$ should be applied an optimal number of times $k$ in order to maximize probability of measure $|\\Psi_{0}\\rangle$. \n",
    "\n",
    "The Grover-like operator $\\mathcal{Q}$ is composed of 2 different operators:\n",
    "\n",
    "$$\\mathcal{Q}=\\hat{U}_{|\\Psi\\rangle} \\hat{U}_{|\\Psi_{0}\\rangle}$$\n",
    "\n",
    "Where $\\hat{U}_{|\\Psi\\rangle}$ y $\\hat{U}_{|\\Psi_{0}\\rangle}$ are:\n",
    "\n",
    "$$\\hat{U}_{|\\Psi_{0}\\rangle } = \\hat{I} - 2|\\Psi_{0}\\rangle \\langle \\Psi_{0}|$$\n",
    "$$\\hat{U}_{|\\Psi\\rangle } = \\hat{I} - 2|\\Psi\\rangle\\langle \\Psi|$$\n",
    "\n",
    "**amplitude_amplification** module have all the functions for creating properly QLM AbstractGates for these operators. \n",
    "\n",
    "In this section we are going to review all the operators programed for creating the Grover-like operator. We want to test the output of each programed operator so first we are going to do the loading data procedure and get the results of this proccess for comparing purpouses when each new operator will be presented."
   ]
  },
  {
   "cell_type": "markdown",
   "metadata": {},
   "source": [
    "### 3.1 Data Loading Step"
   ]
  },
  {
   "cell_type": "code",
   "execution_count": null,
   "metadata": {},
   "outputs": [],
   "source": [
    "def p(x):\n",
    "    return x*x\n",
    "def f(x):\n",
    "    return np.sin(x)\n",
    "\n",
    "#number of Qbits for the circuit\n",
    "n_qbits = 5\n",
    "#The number of bins \n",
    "m_bins = 2**n_qbits\n",
    "LowerLimit = 0.0\n",
    "UpperLimit = 1.0 \n",
    "\n",
    "X, p_X = get_histogram(p, LowerLimit, UpperLimit, m_bins)\n",
    "f_X = f(X)"
   ]
  },
  {
   "cell_type": "code",
   "execution_count": null,
   "metadata": {},
   "outputs": [],
   "source": [
    "#First we prepare the data loading procces\n",
    "\n",
    "from data_loading import load_probability, load_array, load_pf\n",
    "\n",
    "p_gate = load_probability(p_X)\n",
    "#In order to load a function f(x) we need to provide sqrt(f(x))\n",
    "f_gate = load_array(np.sqrt(f_X))\n",
    "pf_gate = load_pf(p_gate, f_gate)\n",
    "\n",
    "\n",
    "#Getting the complete initial state\n",
    "Phi_State, circuit, q_prog, job = get_results(pf_gate, linalg_qpu=linalg_qpu, shots=0)\n",
    "#For getting the state of the additional qbit where the desired integral are stored\n",
    "Initial_State, circuit, q_p, job = get_results(pf_gate, linalg_qpu=linalg_qpu, shots=0, qubits=[pf_gate.arity-1])"
   ]
  },
  {
   "cell_type": "code",
   "execution_count": null,
   "metadata": {},
   "outputs": [],
   "source": [
    "#Complete state\n",
    "Phi_State.head()"
   ]
  },
  {
   "cell_type": "code",
   "execution_count": null,
   "metadata": {},
   "outputs": [],
   "source": [
    "#State of the auxiliar qbit\n",
    "Initial_State"
   ]
  },
  {
   "cell_type": "markdown",
   "metadata": {},
   "source": [
    "### 3.2 Operador $\\hat{U}_{|\\Psi_{0}\\rangle}$"
   ]
  },
  {
   "cell_type": "markdown",
   "metadata": {},
   "source": [
    "First mandatory operator is:\n",
    "\n",
    "$$\\hat{U}_{|\\Psi_{0}\\rangle } = \\hat{I} - 2|\\Psi_{0}\\rangle \\langle \\Psi_{0}|$$\n",
    "\n",
    "Equivalent circuit for the operator is:\n",
    "\n",
    "$$\\hat{U}_{|\\Psi_{0}\\rangle }=(\\hat{I_{n}}\\otimes X)(\\hat{I_{n}}\\otimes Z)(\\hat{I_{n}}\\otimes X)$$\n",
    "\n",
    "with the $\\hat{I_{n}}$ we want ro remark that the identity operator $\\hat{I}$ acts over the first $n$ qbits\n",
    "\n",
    "\n",
    "Apply this operator on state $|\\Psi\\rangle$:\n",
    "\n",
    "$$\\hat{U}_{|\\Psi_{0}\\rangle} |\\Psi\\rangle = \\sqrt{1-a}|\\Psi_{1}\\rangle-\\sqrt{a}|\\Psi_{0}\\rangle$$\n",
    "\n",
    "So operator $\\hat{U}_{|\\Psi_{0}\\rangle }$ do a reflection operation around the axis defined by the state $|\\Psi_{1}\\rangle$\n",
    "\n",
    "Abstract Gate **uphi0_gate** from **amplitude_amplification** allow us do the operation. We need to provide as input the numbe of the qbits of the gate"
   ]
  },
  {
   "cell_type": "code",
   "execution_count": null,
   "metadata": {},
   "outputs": [],
   "source": [
    "from amplitude_amplification import uphi0_gate"
   ]
  },
  {
   "cell_type": "code",
   "execution_count": null,
   "metadata": {},
   "outputs": [],
   "source": [
    "UPhi0_Gate = uphi0_gate(pf_gate.arity)"
   ]
  },
  {
   "cell_type": "code",
   "execution_count": null,
   "metadata": {
    "scrolled": true
   },
   "outputs": [],
   "source": [
    "%qatdisplay UPhi0_Gate --depth 1"
   ]
  },
  {
   "cell_type": "code",
   "execution_count": null,
   "metadata": {},
   "outputs": [],
   "source": [
    "#Apply the UPhi0_Gate to the data loading circuit\n",
    "qProg_Uphi0 = deepcopy(q_prog)\n",
    "registers = qProg_Uphi0.registers\n",
    "qProg_Uphi0.apply(UPhi0_Gate, registers)\n",
    "UPhi0_State, circuit, _, _ = get_results(qProg_Uphi0, linalg_qpu=linalg_qpu, shots=0)"
   ]
  },
  {
   "cell_type": "code",
   "execution_count": null,
   "metadata": {},
   "outputs": [],
   "source": [
    "%qatdisplay circuit --depth 1"
   ]
  },
  {
   "cell_type": "code",
   "execution_count": null,
   "metadata": {},
   "outputs": [],
   "source": [
    "UPhi0_State.sort_values('Int_lsb')"
   ]
  },
  {
   "cell_type": "markdown",
   "metadata": {},
   "source": [
    "The operation done by the **uphi0_gate** is:\n",
    "\n",
    "$$\\hat{U}_{|\\Psi_{0}\\rangle} |\\Psi\\rangle = \\sqrt{1-a}|\\Psi_{1}\\rangle-\\sqrt{a}|\\Psi_{0}\\rangle$$\n",
    "\n",
    "Or in a graphic view:\n",
    "\n",
    "![title](images/OraculeReflection.png)\n",
    "\n",
    "For testing the operator we need to check that: \n",
    "* Sates with final qbit $|0\\rangle$ ($|\\Psi_{0}\\rangle$) change the sign with respect to the initial state $|\\Psi\\rangle$ \n",
    "* States with final qbit in $|1\\rangle$ ($|\\Psi_{1}\\rangle$) are the same that in the initial state $|\\Psi\\rangle$"
   ]
  },
  {
   "cell_type": "code",
   "execution_count": null,
   "metadata": {},
   "outputs": [],
   "source": [
    "#Testing Final qbit |0> should be of different sign\n",
    "LastQbit0 = np.isclose(\n",
    "    np.array([p for s,p in zip(Phi_State['States'], Phi_State['Amplitude']) if s.bitstring[-1] == '0']),\n",
    "    -np.array([p for s,p in zip(UPhi0_State['States'], UPhi0_State['Amplitude']) if s.bitstring[-1] == '0'])\n",
    ").all()\n",
    "#Testing Final qbit |1> should be of same sign\n",
    "LastQbit1 = np.isclose(\n",
    "    np.array([p for s,p in zip(Phi_State['States'], Phi_State['Amplitude']) if s.bitstring[-1] == '1']),\n",
    "    np.array([p for s,p in zip(UPhi0_State['States'], UPhi0_State['Amplitude']) if s.bitstring[-1] == '1'])\n",
    ").all()\n",
    "\n",
    "print(LastQbit0 and LastQbit1)"
   ]
  },
  {
   "cell_type": "markdown",
   "metadata": {},
   "source": [
    "### 3.2 Operador $\\hat{U}_{|\\Psi\\rangle}$"
   ]
  },
  {
   "cell_type": "markdown",
   "metadata": {},
   "source": [
    "Operator $\\hat{U}_{|\\Psi\\rangle}$ is the equivalent to the Grover's difusor operator:\n",
    "\n",
    "$$\\hat{U}_{|\\Psi\\rangle } = \\hat{I} - 2|\\Psi\\rangle\\langle \\Psi|$$\n",
    "\n",
    "Additionally we know that:\n",
    "\n",
    "$$|\\Psi\\rangle=\\mathcal{F}\\left(\\mathcal{P}\\otimes I\\right)|0\\rangle_{n}\\otimes|0\\rangle_{1}$$\n",
    "\n",
    "\n",
    "Then the operator can be decomposed in the following way:\n",
    "\n",
    "$$\\hat{U}_{|\\Psi\\rangle } =\\mathcal{F}\\left(\\mathcal{P}\\otimes I\\right)\\hat{D}_{0} \\left(\\mathcal{P}\\otimes I\\right)^{\\dagger} \\mathcal{F}^{\\dagger}$$\n",
    "\n",
    "Where $\\hat{D}_{0}$ is a reflection around the perpendicular state to $|0^{n+1}\\rangle$\n",
    "\n",
    "$$\\hat{D}_{0} = \\hat{I}-2|0^{n+1}\\rangle\\langle0^{n+1}|$$\n",
    "\n",
    "In this case $|0^{n+1}\\rangle$ is the zero state for n+1 qbits"
   ]
  },
  {
   "cell_type": "markdown",
   "metadata": {},
   "source": [
    "#### 3.2.1 Implementación  $\\hat{D}_{0}$"
   ]
  },
  {
   "cell_type": "markdown",
   "metadata": {},
   "source": [
    "The equivalent circuit for $\\hat{D}_{0}$ is:\n",
    "\n",
    "$$\\hat{D}_{0} = \\hat{I}-2|0^{n+1}\\rangle\\langle0^{n+1}|= \\hat{X}^{\\otimes n+1} c^{n}Z \\hat{X}^{\\otimes n+1}$$\n",
    "\n",
    "The *AbstractGate* **d0_gate** from **amplitude_amplification** allow us create the operator.  We need to provide as input the numbe of the qbits of the gate"
   ]
  },
  {
   "cell_type": "code",
   "execution_count": null,
   "metadata": {},
   "outputs": [],
   "source": [
    "from amplitude_amplification import d0_gate"
   ]
  },
  {
   "cell_type": "code",
   "execution_count": null,
   "metadata": {},
   "outputs": [],
   "source": [
    "D0 = d0_gate(pf_gate.arity)"
   ]
  },
  {
   "cell_type": "code",
   "execution_count": null,
   "metadata": {
    "scrolled": true
   },
   "outputs": [],
   "source": [
    "%qatdisplay D0 --depth 1"
   ]
  },
  {
   "cell_type": "code",
   "execution_count": null,
   "metadata": {},
   "outputs": [],
   "source": [
    "#Apply the d0_gate to the data loading circuit\n",
    "qProg_D0 = deepcopy(q_prog)\n",
    "registers = qProg_D0.registers\n",
    "qProg_D0.apply(D0, registers)\n",
    "UD0_State, circuit, _, _ = get_results(qProg_D0, linalg_qpu=linalg_qpu, shots=0)"
   ]
  },
  {
   "cell_type": "code",
   "execution_count": null,
   "metadata": {},
   "outputs": [],
   "source": [
    "%qatdisplay circuit --depth 1"
   ]
  },
  {
   "cell_type": "code",
   "execution_count": null,
   "metadata": {},
   "outputs": [],
   "source": [
    "UD0_State"
   ]
  },
  {
   "cell_type": "markdown",
   "metadata": {},
   "source": [
    "Operator $\\hat{D}_{0}$ over state  $|\\Psi\\rangle$:\n",
    "\n",
    "$$\\hat{D}_{0}|\\Psi\\rangle = \\hat{I}|\\Psi\\rangle-2|0^{n+1}\\rangle\\langle0^{n+1}|\\Psi\\rangle^{n+1}$$\n",
    "\n",
    "\n",
    "It can be demostrated that the only difference between $\\hat{D}_{0}|\\Psi\\rangle$ and $|\\Psi\\rangle$ is that the component $|0^{n+1}\\rangle$ the sign changes!!"
   ]
  },
  {
   "cell_type": "code",
   "execution_count": null,
   "metadata": {
    "scrolled": false
   },
   "outputs": [],
   "source": [
    "#Testing\n",
    "C01 = np.isclose(Phi_State['Amplitude'].loc[0], -UD0_State['Amplitude'].loc[0])\n",
    "C02 = np.isclose(Phi_State['Amplitude'].loc[1:], UD0_State['Amplitude'].loc[1:]).all()\n",
    "print(C01 and C02)"
   ]
  },
  {
   "cell_type": "markdown",
   "metadata": {},
   "source": [
    "#### 3.2.2 Implementation  $\\hat{U}_{|\\Psi}\\rangle$"
   ]
  },
  {
   "cell_type": "markdown",
   "metadata": {},
   "source": [
    "Finally the function **load_uphi_gate** from **amplitude_amplification** creates a customized AbstractGate that implements $\\hat{U}_{|\\Psi\\rangle }$. This functions needs the initial $\\mathcal{PF}$ gate used for loading the complete data.\n",
    "\n",
    "This operator is reflection around the ortoghonal state to $|\\Psi\\rangle$."
   ]
  },
  {
   "cell_type": "code",
   "execution_count": null,
   "metadata": {},
   "outputs": [],
   "source": [
    "from amplitude_amplification import load_uphi_gate\n",
    "UPhi = load_uphi_gate(pf_gate)"
   ]
  },
  {
   "cell_type": "code",
   "execution_count": null,
   "metadata": {},
   "outputs": [],
   "source": [
    "%qatdisplay UPhi --depth 1"
   ]
  },
  {
   "cell_type": "code",
   "execution_count": null,
   "metadata": {},
   "outputs": [],
   "source": [
    "#Apply the UPhi to the data loading circuit\n",
    "qProg_Diff = deepcopy(q_prog)\n",
    "registers = qProg_Diff.registers\n",
    "qProg_Diff.apply(UPhi, registers)\n",
    "DiffPhi_State, circuit, _, _ = get_results(qProg_Diff, linalg_qpu=linalg_qpu, shots=0)"
   ]
  },
  {
   "cell_type": "code",
   "execution_count": null,
   "metadata": {},
   "outputs": [],
   "source": [
    "%qatdisplay circuit --depth 1"
   ]
  },
  {
   "cell_type": "markdown",
   "metadata": {},
   "source": [
    "The $\\hat{U}_{|\\Psi\\rangle}$ (**diffusor**) is a reflection around the state $|\\Psi\\rangle^{\\perp}$ (where $|\\Psi\\rangle^{\\perp} \\perp |\\Psi\\rangle$).\n",
    "\n",
    "Using the graphic representation:\n",
    "\n",
    "![title](images/StateReflection.png)\n",
    "\n",
    "So:\n",
    "\n",
    "$$\\hat{U}_{|\\Psi\\rangle } |\\Psi\\rangle = \\hat{I}|\\Psi\\rangle - 2|\\Psi\\rangle \\langle \\Psi|\\Psi\\rangle$$\n",
    "\n",
    "$$\\hat{U}_{|\\Psi\\rangle } |\\Psi\\rangle = |\\Psi\\rangle - 2|\\Psi\\rangle = -|\\Psi\\rangle$$\n",
    "\n"
   ]
  },
  {
   "cell_type": "code",
   "execution_count": null,
   "metadata": {},
   "outputs": [],
   "source": [
    "DiffPhi_State"
   ]
  },
  {
   "cell_type": "code",
   "execution_count": null,
   "metadata": {},
   "outputs": [],
   "source": [
    "#Testing: the resulted state is opposite to the initial state\n",
    "np.isclose(DiffPhi_State['Amplitude'], - Phi_State['Amplitude']).all()"
   ]
  },
  {
   "cell_type": "markdown",
   "metadata": {},
   "source": [
    "## 4. Operador $\\mathcal{Q}$"
   ]
  },
  {
   "cell_type": "markdown",
   "metadata": {},
   "source": [
    "Finally we can implement the desired Grover-like Operator $\\mathcal{Q}$:\n",
    "\n",
    "$$\\mathcal{Q}=\\hat{U}_{|\\Psi\\rangle} \\hat{U}_{|\\Psi_{0}\\rangle}$$\n",
    "\n",
    "This operator is created using the function **load_q_gate** from **amplitude_amplification**. The gate for loading the complete data ($\\mathcal{PF}$) should be provided\n"
   ]
  },
  {
   "cell_type": "code",
   "execution_count": null,
   "metadata": {},
   "outputs": [],
   "source": [
    "from amplitude_amplification import load_q_gate"
   ]
  },
  {
   "cell_type": "code",
   "execution_count": null,
   "metadata": {},
   "outputs": [],
   "source": [
    "q_gate = load_q_gate(pf_gate)"
   ]
  },
  {
   "cell_type": "code",
   "execution_count": null,
   "metadata": {},
   "outputs": [],
   "source": [
    "%qatdisplay q_gate --depth 1"
   ]
  },
  {
   "cell_type": "code",
   "execution_count": null,
   "metadata": {},
   "outputs": [],
   "source": [
    "#Apply the Q Grover-like operator to the data loading circuit\n",
    "qProg_Q = deepcopy(q_prog)\n",
    "registers = qProg_Q.registers\n",
    "qProg_Q.apply(q_gate, registers)\n",
    "QPhi_State, circuit, _, _ = get_results(qProg_Q, linalg_qpu=linalg_qpu, shots=0, qubits = [q_gate.arity-1])"
   ]
  },
  {
   "cell_type": "code",
   "execution_count": null,
   "metadata": {},
   "outputs": [],
   "source": [
    "#Complete circuit\n",
    "%qatdisplay circuit --depth 1"
   ]
  },
  {
   "cell_type": "code",
   "execution_count": null,
   "metadata": {},
   "outputs": [],
   "source": [
    "QPhi_State"
   ]
  },
  {
   "cell_type": "markdown",
   "metadata": {},
   "source": [
    "To test if operator was implemented properly we know that the quantum state resulting from the complete loading proccess $|\\Psi\\rangle_{n+1}$ can be expressed as a linear combination of twor othogonal states $|\\Psi_{1}\\rangle$ and $|\\Psi_{0}\\rangle$:\n",
    "\n",
    "$$|\\Psi\\rangle=\\sqrt{a}|\\Psi_{0}\\rangle+\\sqrt{1-a}|\\Psi_{1}\\rangle$$\n",
    "\n",
    "where:\n",
    "\n",
    "$$a = \\sum_{x=0}^{2^{n}-1} p(x)f(x)$$\n",
    "\n",
    "Making the following identities:\n",
    "\n",
    "* $\\sqrt{a} = \\cos{\\theta}$\n",
    "* $\\sqrt{1-a} = \\sin{\\theta}$\n",
    "* $ a = \\sum_{n=0}^{2^{n}-1} p(x)f(x) = \\cos^{2}{\\theta}$\n",
    "\n",
    "Then:\n",
    "\n",
    "$$|\\Psi\\rangle=\\sin{\\theta}|\\Psi_{1}\\rangle+\\cos{\\theta}|\\Psi_{0}\\rangle$$\n",
    "\n",
    "So using the initial state we are going to calculate $\\theta$."
   ]
  },
  {
   "cell_type": "code",
   "execution_count": null,
   "metadata": {
    "scrolled": true
   },
   "outputs": [],
   "source": [
    "Initial_State"
   ]
  },
  {
   "cell_type": "markdown",
   "metadata": {},
   "source": [
    "The operator $\\hat{Q}$ can be viewed as a Y-Rotation of $\\theta$ on $|\\Psi\\rangle$: \n",
    "\n",
    "![title](GroverGeometrico.png)\n",
    "\n",
    "$$\\hat{Q}|\\Psi\\rangle= \\hat{R}_{y}(2*\\theta)|\\Psi\\rangle=\\hat{R}_{y}(2*\\theta)(\\sin{\\theta}|\\Psi_{1}\\rangle+\\cos{\\theta}|\\Psi_{0}\\rangle) = \\sin{3\\theta}\\Psi_{1}\\rangle+\\cos{3\\theta}|\\Psi_{0}\\rangle$$\n",
    "\n",
    "So starting from $|\\Psi\\rangle$ we can obtain the angle $\\theta$"
   ]
  },
  {
   "cell_type": "code",
   "execution_count": null,
   "metadata": {},
   "outputs": [],
   "source": [
    "#First get the Amplitudes for Phi state\n",
    "a0 = np.sqrt(Initial_State.iloc[0]['Probability'])\n",
    "a1 = np.sqrt(Initial_State.iloc[1]['Probability'])"
   ]
  },
  {
   "cell_type": "code",
   "execution_count": null,
   "metadata": {},
   "outputs": [],
   "source": [
    "#Calculating Theta using the quantum state from loading data: LResults\n",
    "def GetAngle(Array):\n",
    "    Modulo = np.linalg.norm(Array)\n",
    "    cosTheta = Array[0]/Modulo\n",
    "    Theta0 = np.arccos(cosTheta)\n",
    "    sinTheta = Array[1]/Modulo\n",
    "    Theta1 = np.arcsin(sinTheta)\n",
    "    #print(Modulo, cosTheta, sinTheta, Theta0, Theta1)\n",
    "    return Theta0\n",
    "\n",
    "#Quantum state after loading data: |Psi>\n",
    "Psi_ = np.array([a0, a1])\n",
    "#Angle between |Psi> and axis |Psi_0>\n",
    "theta = GetAngle(Psi_)\n",
    "print('theta: {}'.format(theta))\n",
    "print('Psi_: {}'.format(Psi_))"
   ]
  },
  {
   "cell_type": "markdown",
   "metadata": {},
   "source": [
    "Now we have $\\theta$ and the $|\\Psi\\rangle$"
   ]
  },
  {
   "cell_type": "code",
   "execution_count": null,
   "metadata": {},
   "outputs": [],
   "source": [
    "#In order to test that this theta is ok we can compute it from p(x) and f(x)\n",
    "a = sum(p_X*f_X)\n",
    "sqrt_a = np.sqrt(a)\n",
    "theta2 = np.arccos(sqrt_a)\n",
    "print('theta2: {}'.format(theta2))\n",
    "\n",
    "print('Is theta equals to theta2: {}'.format(np.isclose(theta, theta2)))"
   ]
  },
  {
   "cell_type": "markdown",
   "metadata": {},
   "source": [
    "As explained before, application of $\\hat{Q}$ operator is equivalent to apply Rotation of angle $2\\theta$ to state $|\\Psi\\rangle$:"
   ]
  },
  {
   "cell_type": "code",
   "execution_count": null,
   "metadata": {},
   "outputs": [],
   "source": [
    "#Create a Rotation of 2*theta\n",
    "c, s = np.cos(2*theta), np.sin(2.*theta)\n",
    "#Rotation matrix\n",
    "R = np.array(((c, -s), (s, c)))\n",
    "#Apply Ry(2*theta) to quantum state |Psi>\n",
    "RotationResults = np.dot(R, Psi_)"
   ]
  },
  {
   "cell_type": "code",
   "execution_count": null,
   "metadata": {},
   "outputs": [],
   "source": [
    "RotationResults"
   ]
  },
  {
   "cell_type": "markdown",
   "metadata": {},
   "source": [
    "So in this case the Rotated vector should be the state correspondient to the operation: $\\hat{Q}|\\Psi\\rangle$. In our case we have the probabilities for $\\hat{Q}|\\Psi\\rangle$ so we can square the Rotated Vector and compared with the probabilities.\n",
    "\n",
    "This is done in the following cells:\n"
   ]
  },
  {
   "cell_type": "code",
   "execution_count": null,
   "metadata": {},
   "outputs": [],
   "source": [
    "print('Square Of Rotated Vector: {}'.format(RotationResults**2))\n",
    "print('Probabilities for QPhi_State: {} '.format(list(QPhi_State['Probability'])))\n",
    "print('Square of the RotateState equal to Probabilities of Q|Phi> state : {}'.format(\n",
    "    np.isclose(RotationResults**2, QPhi_State['Probability']).all())\n",
    "     )"
   ]
  },
  {
   "cell_type": "code",
   "execution_count": null,
   "metadata": {},
   "outputs": [],
   "source": [
    "QPhi_State"
   ]
  },
  {
   "cell_type": "markdown",
   "metadata": {},
   "source": [
    "As can be seen the application of a Rotation of $2*\\theta$ on $|\\Psi\\rangle$ give us the same proability configuration that apply a $\\hat{Q}|\\Psi\\rangle$. "
   ]
  },
  {
   "cell_type": "markdown",
   "metadata": {},
   "source": [
    "## 5. Operator $\\mathcal{Q}^n$"
   ]
  },
  {
   "cell_type": "markdown",
   "metadata": {},
   "source": [
    "In the script **amplitude_amplification.py** a **load_qn_gate** function was programed. This function receives an input gate and apply it a desired number of times"
   ]
  },
  {
   "cell_type": "code",
   "execution_count": null,
   "metadata": {},
   "outputs": [],
   "source": [
    "from amplitude_amplification import load_q_gate, load_qn_gate"
   ]
  },
  {
   "cell_type": "code",
   "execution_count": null,
   "metadata": {},
   "outputs": [],
   "source": [
    "q_n_gate = load_qn_gate(q_gate, 4)\n",
    "%qatdisplay q_n_gate --depth 1"
   ]
  },
  {
   "cell_type": "code",
   "execution_count": null,
   "metadata": {},
   "outputs": [],
   "source": []
  }
 ],
 "metadata": {
  "kernelspec": {
   "display_name": "Python 3 (ipykernel)",
   "language": "python",
   "name": "python3"
  },
  "language_info": {
   "codemirror_mode": {
    "name": "ipython",
    "version": 3
   },
   "file_extension": ".py",
   "mimetype": "text/x-python",
   "name": "python",
   "nbconvert_exporter": "python",
   "pygments_lexer": "ipython3",
   "version": "3.9.5"
  }
 },
 "nbformat": 4,
 "nbformat_minor": 2
}
