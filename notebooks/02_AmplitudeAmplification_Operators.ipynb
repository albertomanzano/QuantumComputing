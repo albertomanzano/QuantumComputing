{
 "cells": [
  {
   "cell_type": "markdown",
   "id": "00780e74",
   "metadata": {},
   "source": [
    "# Amplitude Amplification Operators"
   ]
  },
  {
   "cell_type": "markdown",
   "id": "d9fcccc0",
   "metadata": {},
   "source": [
    "Present notebook review the **amplitude_amplification** module where all the mandatory functions for creating a Grover-like operator ($Q$).\n",
    "\n",
    "Present notebook and module are based on the following references:\n",
    "\n",
    "* *Brassard, G., Hoyer, P., Mosca, M., & Tapp, A. (2000). Quantum amplitude amplification and estimation.AMS Contemporary Mathematics Series, 305. https://arxiv.org/abs/quant-ph/0005055v1*\n",
    "* NEASQC deliverable: *D5.1: Review of state-of-the-art for Pricing and Computation of VaR https://www.neasqc.eu/wp-content/uploads/2021/06/NEASQC_D5.1_Review-of-state-of-the-art-for-Pricing-and-Computation-of-VaR_R2.0_Final.pdf*"
   ]
  },
  {
   "cell_type": "code",
   "execution_count": null,
   "id": "4b6d1edf",
   "metadata": {},
   "outputs": [],
   "source": [
    "import sys\n",
    "import numpy as np\n",
    "import pandas as pd"
   ]
  },
  {
   "cell_type": "code",
   "execution_count": null,
   "id": "5b35adc1",
   "metadata": {},
   "outputs": [],
   "source": [
    "from qat.qpus import get_default_qpu\n",
    "linalg_qpu = get_default_qpu()"
   ]
  },
  {
   "cell_type": "code",
   "execution_count": null,
   "id": "13c1bc47",
   "metadata": {},
   "outputs": [],
   "source": [
    "sys.path.append(\"../\")\n",
    "from libraries.data_loading import *\n",
    "from libraries.data_extracting import *\n",
    "from libraries.AE.amplitude_amplification import *"
   ]
  },
  {
   "cell_type": "markdown",
   "id": "0845ce7c",
   "metadata": {},
   "source": [
    "## 1. Data loading"
   ]
  },
  {
   "cell_type": "markdown",
   "id": "8d7a6fd9",
   "metadata": {},
   "source": [
    "Before doing any amplification we want to load some data into the quantum circuit, as this step is only auxiliary to see the efect of an amplification, we are just going to load a discrete probability distribution. In this case we will have a circuit with $n=3$ qubits which makes a total of $N = 2^n = 8$ states. The discrete probability distribution that we are going to load is:\n",
    "$$p_d = \\dfrac{(0,1,2,3,4,5,6,7)}{0+1+2+3+4+5+6+7+8}.$$\n",
    "Note that this probability distribution is properly normalised. For that purpose we will use the function *load_probability*. The state that we are going to get is:\n",
    "    $$|\\Psi\\rangle = \\scriptstyle \\dfrac{1}{\\sqrt{0+1+2+3+4+5+6+7+8}}\\left[\\sqrt{0}|0\\rangle+\\sqrt{1}|1\\rangle+\\sqrt{2}|2\\rangle+\\sqrt{3}|3\\rangle+\\sqrt{4}|4\\rangle+\\sqrt{5}|5\\rangle+\\sqrt{6}|6\\rangle+\\sqrt{7}|7\\rangle\\right].$$"
   ]
  },
  {
   "cell_type": "code",
   "execution_count": null,
   "id": "0f08d7a2",
   "metadata": {},
   "outputs": [],
   "source": [
    "n = 3\n",
    "N = 2**n\n",
    "x = np.arange(N)\n",
    "p = x/np.sum(x)"
   ]
  },
  {
   "cell_type": "code",
   "execution_count": null,
   "id": "31d06665",
   "metadata": {},
   "outputs": [],
   "source": [
    "probability_routine = qlm.QRoutine()\n",
    "register = probability_routine.new_wires(n)\n",
    "probability_routine.apply(load_probability(p),register)\n",
    "%qatdisplay probability_routine --svg"
   ]
  },
  {
   "cell_type": "markdown",
   "id": "8ee6a914",
   "metadata": {},
   "source": [
    "In order to show how $\\mathcal{P}$ acts we can use **get_results** function from **data_extracting** script. This function needs following arguments:\n",
    "\n",
    "* A QLM routine, abstract, gate or program\n",
    "* A QLM solver (argument lineal_qpu)\n",
    "* number of shots for executing circuit in the simulation (0 will calculate True probabilities)\n",
    "* qubits: list of qbits to be measured (if None all qbits will be measured)"
   ]
  },
  {
   "cell_type": "code",
   "execution_count": null,
   "id": "d7c10774",
   "metadata": {},
   "outputs": [],
   "source": [
    "results_loading, _, _, _ = get_results(probability_routine, linalg_qpu=linalg_qpu, shots=0)\n",
    "amplitudes_loading = results_loading[\"Amplitude\"].values\n",
    "results_loading"
   ]
  },
  {
   "cell_type": "code",
   "execution_count": null,
   "id": "6408861a",
   "metadata": {},
   "outputs": [],
   "source": [
    "print(\"Classical probabilities: \", np.sqrt(p))\n",
    "print(\"Quantum probabilities: \",amplitudes_loading)"
   ]
  },
  {
   "cell_type": "markdown",
   "id": "4caf9fd3",
   "metadata": {},
   "source": [
    "See that the information stored in the quantum state is the same as the one stored in array $p$. For more information about loading data into the quantum circuit see the notebook *data_loading_use*."
   ]
  },
  {
   "cell_type": "markdown",
   "id": "10473196",
   "metadata": {},
   "source": [
    "## 2. Reflections"
   ]
  },
  {
   "cell_type": "markdown",
   "id": "8b0059ab",
   "metadata": {},
   "source": [
    "The next mandatory ingredient for amplification are reflections. A reflection rotates the phase of a state $\\dfrac{\\pi}{2}$. In other words, for real numbers **it changes the sign of the state**. Let's do some examples.\n",
    "\n"
   ]
  },
  {
   "cell_type": "markdown",
   "id": "429fa6a0",
   "metadata": {},
   "source": [
    "### 2.1 First example"
   ]
  },
  {
   "cell_type": "markdown",
   "id": "3cc54e31",
   "metadata": {},
   "source": [
    "We will start with a very simple example, in this case we want to flip sign of state $|7\\rangle$. For that we will use the function *reflection*. This function takes a list as a parameter, the list specifies which combination of qubits is going to be reflected. In this case, the binary representation of the state $|7>$ is $111$, so the argument that we have to pass to the function is $[1,1,1]$."
   ]
  },
  {
   "cell_type": "code",
   "execution_count": null,
   "id": "3604e086",
   "metadata": {},
   "outputs": [],
   "source": [
    "reflection1 = qlm.QRoutine()\n",
    "reflection1_register = reflection1.new_wires(n)\n",
    "reflection1.apply(probability_routine,reflection1_register)\n",
    "reflection1.apply(reflection([1,1,1]),reflection1_register)\n",
    "%qatdisplay reflection1 --depth 0 --svg"
   ]
  },
  {
   "cell_type": "markdown",
   "id": "8ac1d7d9",
   "metadata": {},
   "source": [
    "Now we print the amplitudes stored in the quantum circuit against the ones stored in the array $p$ to see the differences in sign."
   ]
  },
  {
   "cell_type": "code",
   "execution_count": null,
   "id": "3ca5a7cf",
   "metadata": {},
   "outputs": [],
   "source": [
    "results_reflection1, _, _, _ = get_results(reflection1, linalg_qpu=linalg_qpu, shots=0)\n",
    "amplitudes_reflection1 = results_reflection1[\"Amplitude\"].values\n",
    "results_reflection1"
   ]
  },
  {
   "cell_type": "code",
   "execution_count": null,
   "id": "4c328540",
   "metadata": {},
   "outputs": [],
   "source": [
    "print(\"Classical amplitudes: \", np.sqrt(p))\n",
    "print(\"Quantum amplitudes: \",amplitudes_reflection1)"
   ]
  },
  {
   "cell_type": "markdown",
   "id": "36c91efb",
   "metadata": {},
   "source": [
    "As we see the last state has changed from $0.5$ to $-0.5$."
   ]
  },
  {
   "cell_type": "markdown",
   "id": "295d43ea",
   "metadata": {},
   "source": [
    "## 2.2 Second example"
   ]
  },
  {
   "cell_type": "markdown",
   "id": "75017d19",
   "metadata": {},
   "source": [
    "In this example we want to do something more difficult. We want flip the sign of all states that start with one. Those states are $00\\mathbf{1}\\longrightarrow |1\\rangle$, $01\\mathbf{1}\\longrightarrow |3\\rangle$, $10\\mathbf{1}\\longrightarrow |5\\rangle$ and $11\\mathbf{1}\\longrightarrow |7\\rangle$. Again, we have to use the funciton *reflection*. This time we have to apply the reflection to the first qubit, so we just apply to the first register."
   ]
  },
  {
   "cell_type": "code",
   "execution_count": null,
   "id": "76508d02",
   "metadata": {},
   "outputs": [],
   "source": [
    "reflection2 = qlm.QRoutine()\n",
    "reflection2_register = reflection2.new_wires(n)\n",
    "reflection2.apply(probability_routine,reflection2_register)\n",
    "reflection2.apply(reflection([1]),reflection2_register[0])\n",
    "%qatdisplay reflection2 --svg"
   ]
  },
  {
   "cell_type": "markdown",
   "id": "c41e6df8",
   "metadata": {},
   "source": [
    "Now we will see that the positions $1,3,5$ and $7$ have a different sign from the ones in array $p_d$."
   ]
  },
  {
   "cell_type": "code",
   "execution_count": null,
   "id": "3c6cd6cc",
   "metadata": {},
   "outputs": [],
   "source": [
    "results_reflection2, _, _, _ = get_results(reflection2, linalg_qpu=linalg_qpu, shots=0)\n",
    "amplitudes_reflection2 = results_reflection2[\"Amplitude\"].values\n",
    "results_reflection2"
   ]
  },
  {
   "cell_type": "code",
   "execution_count": null,
   "id": "b8a432b7",
   "metadata": {},
   "outputs": [],
   "source": [
    "print(\"Classical amplitudes: \", np.sqrt(p))\n",
    "print(\"Quantum amplitudes: \",amplitudes_reflection2)"
   ]
  },
  {
   "cell_type": "markdown",
   "id": "18f8a41b",
   "metadata": {},
   "source": [
    "### 2.3 Third example"
   ]
  },
  {
   "cell_type": "markdown",
   "id": "2a2916f1",
   "metadata": {},
   "source": [
    "In this example we will do a reflection in a more specific state. In this case, we want to do the reflection of the states $|1\\rangle,|3\\rangle,|5\\rangle,|6\\rangle,|7\\rangle$. We can divide the process of the reflection in two sub reflections.\n",
    "- First, note that the reflection over states $|1\\rangle,|3\\rangle,|5\\rangle,|7\\rangle$ is the one implemented in Section 2.2.\n",
    "- Second, the remaining state $|6\\rangle$ can be reflected using the same strategy as in Section 2.1."
   ]
  },
  {
   "cell_type": "code",
   "execution_count": null,
   "id": "6f4bb9c2",
   "metadata": {},
   "outputs": [],
   "source": [
    "reflection3 = qlm.QRoutine()\n",
    "reflection3_register = reflection3.new_wires(n)\n",
    "reflection3.apply(probability_routine,reflection3_register)\n",
    "reflection3.apply(reflection([1]),reflection3_register[0])\n",
    "reflection3.apply(reflection([1,1,0]),reflection3_register)\n",
    "%qatdisplay reflection3 --depth 0 --svg"
   ]
  },
  {
   "cell_type": "markdown",
   "id": "7ece034d",
   "metadata": {},
   "source": [
    "Now we will see that the positions $1,3,5,6$ and $7$ have a different sign from the ones in array $p_d$."
   ]
  },
  {
   "cell_type": "code",
   "execution_count": null,
   "id": "cd1a0727",
   "metadata": {},
   "outputs": [],
   "source": [
    "results_reflection3, _, _, _ = get_results(reflection3, linalg_qpu=linalg_qpu, shots=0)\n",
    "amplitudes_reflection3 = results_reflection3[\"Amplitude\"].values\n",
    "results_reflection3"
   ]
  },
  {
   "cell_type": "code",
   "execution_count": null,
   "id": "5646fe70",
   "metadata": {},
   "outputs": [],
   "source": [
    "\n",
    "print(\"Classical amplitudes: \", np.sqrt(p))\n",
    "print(\"Quantum amplitudes: \",amplitudes_reflection3)"
   ]
  },
  {
   "cell_type": "markdown",
   "id": "c55bc024",
   "metadata": {},
   "source": [
    "Note that doing consecutive reflections over sets is a conmutative operation **when the sets are disjoint**."
   ]
  },
  {
   "cell_type": "markdown",
   "id": "eebeb409",
   "metadata": {},
   "source": [
    "## 3. Grover operator"
   ]
  },
  {
   "cell_type": "markdown",
   "id": "9a6b2dd7",
   "metadata": {},
   "source": [
    "In general, the Grover operator works in the following way. Let's say that we have an operator (a routine) that performs the following operation:\n",
    "$$\\mathcal{O}|0\\rangle = |\\Psi \\rangle = \\sin(\\theta)|\\Psi_0\\rangle +\\cos(\\theta)|\\Psi_1\\rangle,$$\n",
    "where $|\\Psi_0\\rangle$ and $|\\Psi_1\\rangle$ are orthogonal states. Now, the Grover operator $\\mathcal{G}$ does the following transformation:\n",
    "$$ |\\Psi \\rangle \\longrightarrow \\mathcal{G}^k|\\Psi\\rangle= \\sin\\left((2k+1)\\theta\\right)|\\Psi_0\\rangle +\\cos\\left((2k+1)\\theta\\right)|\\Psi_1\\rangle.$$ \n",
    "This operator is known in the literature as **amplitude amplification** as, in principle, it *increases* the probability of obtaining the state $|\\phi\\rangle$. Note that, when the angle $(2k+1)\\theta$ goes over $\\dfrac{\\pi}{2}$, the probability instead of increase starts decreasing. Whenever we use the term amplification keep in mind that it can have this effect.\n",
    "\n",
    "The Grover operator $\\mathcal{G}$ can be decomposed in 2 different operators:\n",
    "\n",
    "$$\\hat{Q}=\\hat{U}_{|\\Psi\\rangle} \\hat{U}_{|\\Psi_{0}\\rangle}$$\n",
    "\n",
    "Where $\\hat{U}_{|\\Psi\\rangle}$ y $\\hat{U}_{|\\Psi_{0}\\rangle}$ are:\n",
    "\n",
    "$$\\hat{U}_{|\\Psi_{0}\\rangle } = \\hat{I} - 2|\\Psi_{0}\\rangle \\langle \\Psi_{0}|$$\n",
    "$$\\hat{U}_{|\\Psi\\rangle } = \\hat{I} - 2|\\Psi\\rangle\\langle \\Psi|$$\n",
    "\n",
    "In this section we are going to review all the operators programed for creating the Grover operator.\n",
    "\n"
   ]
  },
  {
   "cell_type": "markdown",
   "id": "b0dc8e01",
   "metadata": {},
   "source": [
    "### 3.2 Operator $\\hat{U}_{|\\Psi_{0}\\rangle}$"
   ]
  },
  {
   "cell_type": "markdown",
   "id": "ba6fa534",
   "metadata": {},
   "source": [
    "First mandatory operator is:\n",
    "\n",
    "$$\\hat{U}_{|\\Psi_{0}\\rangle } = \\hat{I} - 2|\\Psi_{0}\\rangle \\langle \\Psi_{0}|$$\n",
    "\n",
    "When we apply this operator on state $|\\Psi\\rangle$:\n",
    "\n",
    "$$\\hat{U}_{|\\Psi_{0}\\rangle} |\\Psi\\rangle = -\\sin(\\theta)|\\Psi_{0}\\rangle+\\cos(\\theta)|\\Psi_{1}\\rangle$$\n",
    "\n",
    "So operator $\\hat{U}_{|\\Psi_{0}\\rangle }$ is a reflection of the state $|\\Psi_{0}\\rangle$ around state $|\\Psi_{1}\\rangle$. Or in a graphic view:\n",
    "\n",
    "![title](images/OraculeReflection.png)\n",
    "\n",
    "\n",
    "Abstract Gate *U0* from *amplitude_amplification* allow us do the operation. We need to provide as input which is the state that we want to flip the sign. This is done with three arguments. The first one is always the oracle. The second one is a list containing the binary representation of the state that we want to mark. The third one is a list of the registers over which we want to act. In this sense, the syntax is very similar to that of the reflections. Indeed, it is implemented using the function *reflection*. Next we give two examples."
   ]
  },
  {
   "cell_type": "markdown",
   "id": "16a31add",
   "metadata": {},
   "source": [
    "#### 3.2.1 First example"
   ]
  },
  {
   "cell_type": "markdown",
   "id": "4fc93839",
   "metadata": {},
   "source": [
    "In this first example we want to mark the state $|7\\rangle$. It's binary representation is $111$, and we want to act on the register [0,1,2]. The second input for the gate *U0* is [1,1,1] and the third input is [0,1,2]."
   ]
  },
  {
   "cell_type": "code",
   "execution_count": null,
   "id": "142f758a",
   "metadata": {},
   "outputs": [],
   "source": [
    "routine_U0_1 = QRoutine()\n",
    "register_U0_1 = routine_U0_1.new_wires(probability_routine.arity)\n",
    "routine_U0_1.apply(probability_routine,register_U0_1)\n",
    "routine_U0_1.apply(U0(probability_routine,[1,1,1],[0,1,2]),register_U0_1)\n",
    "%qatdisplay routine_U0_1 --svg"
   ]
  },
  {
   "cell_type": "markdown",
   "id": "4b8a5013",
   "metadata": {},
   "source": [
    "If we display the circuit with one more layer of depth, we will see that it is implemented as a reflection([1,1,1]) acting on the register [0,1,2].\n",
    "\n",
    "Last, we will show the amplitudes stored in the quantum circuit and we will see that only the last element is affected"
   ]
  },
  {
   "cell_type": "code",
   "execution_count": null,
   "id": "ec3209a4",
   "metadata": {},
   "outputs": [],
   "source": [
    "results_U0_1,_ ,_ ,_  = get_results(routine_U0_1,linalg_qpu)"
   ]
  },
  {
   "cell_type": "code",
   "execution_count": null,
   "id": "82eae3d4",
   "metadata": {},
   "outputs": [],
   "source": [
    "amplitudes_U0_1 = results_U0_1[\"Amplitude\"].values\n",
    "print(\"Classical probabilities: \", np.sqrt(p))\n",
    "print(\"Quantum probabilities: \",amplitudes_U0_1)"
   ]
  },
  {
   "cell_type": "markdown",
   "id": "f9f62007",
   "metadata": {},
   "source": [
    "#### 3.2.1 Second example"
   ]
  },
  {
   "cell_type": "markdown",
   "id": "d8ffd461",
   "metadata": {},
   "source": [
    "For the second example we want flip the sign/mark all states that start with one. Those states are $00\\mathbf{1}\\longrightarrow |1\\rangle$, $01\\mathbf{1}\\longrightarrow |3\\rangle$, $10\\mathbf{1}\\longrightarrow |5\\rangle$ and $11\\mathbf{1}\\longrightarrow |7\\rangle$. Again, we have to use the funciton *U0*, but this time we indicate that we are only acting upon the first register."
   ]
  },
  {
   "cell_type": "code",
   "execution_count": null,
   "id": "62098d23",
   "metadata": {},
   "outputs": [],
   "source": [
    "routine_U0_2 = QRoutine()\n",
    "register_U0_2 = routine_U0_2.new_wires(probability_routine.arity)\n",
    "routine_U0_2.apply(probability_routine,register_U0_1)\n",
    "routine_U0_2.apply(U0(probability_routine,[1],[0]),register_U0_2)\n",
    "%qatdisplay routine_U0_2 --svg"
   ]
  },
  {
   "cell_type": "markdown",
   "id": "9d1e6b10",
   "metadata": {},
   "source": [
    "If we display the circuit with one more layer of depth, we will see that it is implemented as a *reflection([1])* acting on the register *[0]*.\n",
    "\n",
    "Last, we will show the amplitudes stored in the quantum circuit and we will see that only states $|1\\rangle$, $|3\\rangle$, $|5\\rangle$ and $|7\\rangle$ are affected."
   ]
  },
  {
   "cell_type": "code",
   "execution_count": null,
   "id": "f60cbfd4",
   "metadata": {},
   "outputs": [],
   "source": [
    "results_U0_2,_ ,_ ,_  = get_results(routine_U0_2,linalg_qpu)"
   ]
  },
  {
   "cell_type": "code",
   "execution_count": null,
   "id": "7af42efd",
   "metadata": {},
   "outputs": [],
   "source": [
    "amplitudes_U0_2= results_U0_2[\"Amplitude\"].values\n",
    "print(\"Classical probabilities: \", np.sqrt(p))\n",
    "print(\"Quantum probabilities: \",amplitudes_U0_2)"
   ]
  },
  {
   "cell_type": "markdown",
   "id": "ff13bdce",
   "metadata": {},
   "source": [
    "Note that we cannot use operator *U0* to mark states that require more than one reflection. This is the case for example of the set of states $|1\\rangle,|3\\rangle,|5\\rangle,|6\\rangle,|7\\rangle$."
   ]
  },
  {
   "cell_type": "markdown",
   "id": "b3166618",
   "metadata": {},
   "source": [
    " ### 3.2 Operator $\\hat{U}_{|\\Psi}\\rangle$"
   ]
  },
  {
   "cell_type": "markdown",
   "id": "515d7d3b",
   "metadata": {},
   "source": [
    "The $\\hat{U}_{|\\Psi\\rangle}$ (**diffusor**):\n",
    "$$\\hat{U}_{|\\Psi\\rangle } = \\hat{I} - 2|\\Psi\\rangle\\langle \\Psi|,$$\n",
    "is a reflection of state $|\\Psi\\rangle$ around the state $|\\Psi\\rangle^{\\perp}$ (where $|\\Psi\\rangle^{\\perp} \\perp |\\Psi\\rangle$).\n",
    "\n",
    "Using the graphic representation:\n",
    "\n",
    "![title](images/StateReflection.png)\n",
    "\n",
    "So:\n",
    "\n",
    "$$\\hat{U}_{|\\Psi\\rangle } |\\Psi\\rangle = \\hat{I}|\\Psi\\rangle - 2|\\Psi\\rangle \\langle \\Psi|\\Psi\\rangle = |\\Psi\\rangle - 2|\\Psi\\rangle = -|\\Psi\\rangle$$\n",
    "\n",
    "Next we use the function *U* to do this operation. It only needs as input the oracle\n"
   ]
  },
  {
   "cell_type": "code",
   "execution_count": null,
   "id": "d00bc282",
   "metadata": {},
   "outputs": [],
   "source": [
    "routine_U = QRoutine()\n",
    "register_U = routine_U.new_wires(probability_routine.arity)\n",
    "routine_U.apply(probability_routine,register_U)\n",
    "routine_U.apply(U(probability_routine),register_U)\n",
    "%qatdisplay routine_U --svg"
   ]
  },
  {
   "cell_type": "markdown",
   "id": "81b408a5",
   "metadata": {},
   "source": [
    "When we show the results we will see that all the amplitudes have changed their sign."
   ]
  },
  {
   "cell_type": "code",
   "execution_count": null,
   "id": "c2d9a0d6",
   "metadata": {},
   "outputs": [],
   "source": [
    "results_U,_ ,_ ,_  = get_results(routine_U,linalg_qpu)"
   ]
  },
  {
   "cell_type": "code",
   "execution_count": null,
   "id": "8c15d766",
   "metadata": {},
   "outputs": [],
   "source": [
    "amplitudes_U = results_U[\"Amplitude\"].values\n",
    "print(\"Classical probabilities: \", np.sqrt(p))\n",
    "print(\"Quantum probabilities: \",amplitudes_U)"
   ]
  },
  {
   "cell_type": "markdown",
   "id": "8c91f55b",
   "metadata": {},
   "source": [
    "### 3.3 Grover"
   ]
  },
  {
   "cell_type": "markdown",
   "id": "853753cd",
   "metadata": {},
   "source": [
    "Finally we have some examples of how the grover operator is used."
   ]
  },
  {
   "cell_type": "markdown",
   "id": "6ddb6db6",
   "metadata": {},
   "source": [
    "### 3.3.1 First example"
   ]
  },
  {
   "cell_type": "markdown",
   "id": "e97c6ddb",
   "metadata": {},
   "source": [
    "In our first example we are going to amplify the probability of obtaining the state $|1\\rangle$."
   ]
  },
  {
   "cell_type": "code",
   "execution_count": null,
   "id": "0fb26ae3",
   "metadata": {},
   "outputs": [],
   "source": [
    "grover1 = QRoutine()\n",
    "grover1_register = grover1.new_wires(n)\n",
    "grover1.apply(probability_routine,grover1_register)\n",
    "\n",
    "grover1.apply(grover(probability_routine,[0,0,1],[0,1,2]),grover1_register)\n",
    "%qatdisplay grover1 --depth 0 --svg"
   ]
  },
  {
   "cell_type": "markdown",
   "id": "6cf6257f",
   "metadata": {},
   "source": [
    "The critial part is *grover(probability_routine,[0,0,1],[0,1,2])*.\n",
    "The first argument of the function is always the routine that we are going to amplify. \n",
    "In the second argument we have to specify our target state for amplification. In this case, as we want to amplify the state $|1\\rangle$ we use its binary representation $001$.\n",
    "Last, the third input is an index whcih specifies over which part of the quantum register we want to act. In this case, as the three quantum registers are involved, we put the three of them $[0,1,2]$. In the next examples it will become clearer how it works.\n",
    "\n",
    "Now we measure the amplified probabilities"
   ]
  },
  {
   "cell_type": "code",
   "execution_count": null,
   "id": "e0b40cb6",
   "metadata": {},
   "outputs": [],
   "source": [
    "results_grover1,_ ,_ ,_  = get_results(grover1,linalg_qpu)\n",
    "probabilities_grover1 = results_grover1[\"Probability\"].values\n",
    "probabilities_grover1"
   ]
  },
  {
   "cell_type": "markdown",
   "id": "0130d02e",
   "metadata": {},
   "source": [
    "Let's explain what we have done so far. In our example, we do the following identifications:\n",
    "$$\n",
    "    \\begin{array}{l}\n",
    "    &\\mathcal{O}\\longrightarrow \\mathcal{P}.\\\\\n",
    "    & |\\Psi\\rangle \\longrightarrow \\scriptstyle \\dfrac{1}{\\sqrt{0+1+2+3+4+5+6+7+8}}\\left[\\sqrt{0}|0\\rangle+\\sqrt{1}|1\\rangle+\\sqrt{2}|2\\rangle+\\sqrt{3}|3\\rangle+\\sqrt{4}|4\\rangle+\\sqrt{5}|5\\rangle+\\sqrt{6}|6\\rangle+\\sqrt{7}|7\\rangle\\right].\\\\\n",
    "    & \\sin(\\theta)|\\Psi_0\\rangle \\longrightarrow \\dfrac{\\sqrt{1}}{\\sqrt{0+1+2+3+4+5+6+7+8}}|1\\rangle.\\\\\n",
    "    & \\cos(\\theta)|\\Psi_1\\rangle \\longrightarrow \\scriptstyle \\dfrac{1}{\\sqrt{0+1+2+3+4+5+6+7+8}}\\left[\\sqrt{0}|0\\rangle+\\sqrt{2}|2\\rangle+\\sqrt{3}|3\\rangle+\\sqrt{4}|4\\rangle+\\sqrt{5}|5\\rangle+\\sqrt{6}|6\\rangle+\\sqrt{7}|7\\rangle\\right].\\\\\n",
    "    \\end{array}\n",
    "$$\n",
    "When we do the amplification and measure the probabilities we will obtain in position $1$ the new probability $p_{a} = \\sin^2(3\\theta)$. The original probability was $p_o = \\sin^2(\\theta)$. To check if the amplified probability and the original probability are correctly computed, we simply use the fact that, we can recover $\\theta$ from the amplified probability doing the operation:\n",
    "$$ \\theta = \\dfrac{\\arcsin\\left(\\sqrt{p_a}\\right)}{3}.$$\n",
    "The we relate it with the original one substituting the angle, hence:\n",
    "$$\n",
    "p_o = \\sin ^2\\left(\\dfrac{\\arcsin\\left(\\sqrt{p_a}\\right)}{3}\\right)\n",
    "$$\n",
    "In the next cell we check that the amplification is done correctly"
   ]
  },
  {
   "cell_type": "code",
   "execution_count": null,
   "id": "8713afc2",
   "metadata": {},
   "outputs": [],
   "source": [
    "unamplified_grover1 = np.sin(np.arcsin(np.sqrt(probabilities_grover1[1]))/3)**2\n",
    "print(\"Original probabilities: \", p[1])\n",
    "print(\"Quantum probabilities: \",unamplified_grover1)"
   ]
  },
  {
   "cell_type": "markdown",
   "id": "954765a5",
   "metadata": {},
   "source": [
    "### 3.2 Second example"
   ]
  },
  {
   "cell_type": "markdown",
   "id": "86c25955",
   "metadata": {},
   "source": [
    "In this second example we are going to show how to amplify a more complex state. Say that now we want to amplify the state composed by $|0\\rangle,|1\\rangle,|2\\rangle,|3\\rangle$. Now we will see the correspondence of this new setup with the Grover setup:\n",
    "$$\n",
    "    \\begin{array}{l}\n",
    "    &\\mathcal{O}\\longrightarrow \\mathcal{P}.\\\\\n",
    "    & |\\psi\\rangle \\longrightarrow \\scriptstyle \\dfrac{1}{\\sqrt{0+1+2+3+4+5+6+7+8}}\\left[\\sqrt{0}|0\\rangle+\\sqrt{1}|1\\rangle+\\sqrt{2}|2\\rangle+\\sqrt{3}|3\\rangle+\\sqrt{4}|4\\rangle+\\sqrt{5}|5\\rangle+\\sqrt{6}|6\\rangle+\\sqrt{7}|7\\rangle\\right].\\\\\n",
    "    & \\sin(\\theta)|\\phi\\rangle \\longrightarrow \\scriptstyle \\dfrac{1}{\\sqrt{0+1+2+3+4+5+6+7+8}}\\left[\\sqrt{0}|0\\rangle+\\sqrt{1}|1\\rangle+\\sqrt{2}|2\\rangle+\\sqrt{3}|3\\rangle\\right].\\\\\n",
    "    & \\cos(\\theta)|\\phi^\\dagger\\rangle \\longrightarrow \\scriptstyle \\dfrac{1}{\\sqrt{0+1+2+3+4+5+6+7+8}}\\left[\\sqrt{4}|4\\rangle+\\sqrt{5}|5\\rangle+\\sqrt{6}|6\\rangle+\\sqrt{7}|7\\rangle\\right].\\\\\n",
    "    \\end{array}\n",
    "$$\n",
    "In binary representation, the states $|0\\rangle,|2\\rangle,|4\\rangle,|6\\rangle$ are $|\\mathbf{0}00\\rangle,|\\mathbf{0}01\\rangle,|\\mathbf{0}10\\rangle,|\\mathbf{0}11\\rangle$ respectively. Here we are interested in the join probability of getting this states, this is the same as asking for the probabiliy of the leftmost qubit being zero.\n",
    "Before doing an amplification we are going to do the unamplified version."
   ]
  },
  {
   "cell_type": "code",
   "execution_count": null,
   "id": "bfc95190",
   "metadata": {},
   "outputs": [],
   "source": [
    "grover2 = QRoutine()\n",
    "grover2_register = grover2.new_wires(n)\n",
    "grover2.apply(probability_routine,grover2_register)\n",
    "%qatdisplay grover2 --depth 0 --svg"
   ]
  },
  {
   "cell_type": "code",
   "execution_count": null,
   "id": "38977e34",
   "metadata": {},
   "outputs": [],
   "source": [
    "results_grover2,_,_,_ = get_results(grover2,linalg_qpu = linalg_qpu,qubits = [n-1])\n",
    "results_grover2"
   ]
  },
  {
   "cell_type": "markdown",
   "id": "77942701",
   "metadata": {},
   "source": [
    "When we only measure the leftmost qubit ($q_2$) we are effectively performing the following operation:\n",
    "$$ \n",
    "    \\begin{array}{l}\n",
    "p_{|0\\rangle} = \\sin^2\\left(\\theta\\right) = \\dfrac{1}{0+1+2+3+4+5+6+7+8} \\left[|\\sqrt{0}|^2+|\\sqrt{1}|^2+|\\sqrt{2}|^2+|\\sqrt{3}|^2\\right].\\\\\n",
    "p_{|1\\rangle} = \\cos^2\\left(\\theta\\right) = \\dfrac{1}{0+1+2+3+4+5+6+7+8} \\left[|\\sqrt{4}|^2+|\\sqrt{5}|^2+|\\sqrt{6}|^2+|\\sqrt{7}|^2\\right].\\\\\n",
    "\\end{array}\n",
    "$$\n",
    "\n",
    "In the next cell we check it with the classical probability"
   ]
  },
  {
   "cell_type": "code",
   "execution_count": null,
   "id": "b55b9987",
   "metadata": {},
   "outputs": [],
   "source": [
    "print(\" Probability of state |0>: \", p[0]+p[1]+p[2]+p[3])\n",
    "print(\" Probability of state |1>: \", p[4]+p[5]+p[6]+p[7])"
   ]
  },
  {
   "cell_type": "markdown",
   "id": "160b53bf",
   "metadata": {},
   "source": [
    "Next we will amplify the probability of the state marked with the rightmost qubit being $0$. For that we again use the *grover* function. Apart from the oracle we need to indicate the state that we want to amplify."
   ]
  },
  {
   "cell_type": "code",
   "execution_count": null,
   "id": "e54958d6",
   "metadata": {},
   "outputs": [],
   "source": [
    "grover2 = QRoutine()\n",
    "grover2_register = grover2.new_wires(n)\n",
    "grover2.apply(probability_routine,grover2_register)\n",
    "grover2.apply(grover(probability_routine,[0],[n-1]),grover2_register)\n",
    "%qatdisplay grover2 --svg"
   ]
  },
  {
   "cell_type": "markdown",
   "id": "56b797b3",
   "metadata": {},
   "source": [
    "Now we will measure again the probabilities of the leftmost qubit ($q_2$) being zero."
   ]
  },
  {
   "cell_type": "code",
   "execution_count": null,
   "id": "a3ae194e",
   "metadata": {},
   "outputs": [],
   "source": [
    "results_grover2,_,_,_ = get_results(grover2,linalg_qpu = linalg_qpu,qubits = [n-1])\n",
    "results_grover2"
   ]
  },
  {
   "cell_type": "markdown",
   "id": "b52c3773",
   "metadata": {},
   "source": [
    "We cleary see that we have increased the probability of obtaining $|0\\rangle$ at the cost of decreasing the probability of obtaining $|1\\rangle$. Again we can see the correspondence of this amplified probability with the unamplified one."
   ]
  },
  {
   "cell_type": "code",
   "execution_count": null,
   "id": "b2c60054",
   "metadata": {},
   "outputs": [],
   "source": [
    "unamplified_grover2 = np.sin(np.arcsin(\\\n",
    "                    np.sqrt(results_grover2[\"Probability\"].iloc[0]))/3)**2\n",
    "print(\"Unamplified probability of state |0>: \", unamplified_grover2)\n",
    "print(\"Classical probability of state |0>: \", p[0]+p[1]+p[2]+p[3])\n"
   ]
  },
  {
   "cell_type": "code",
   "execution_count": null,
   "id": "19a25bb6",
   "metadata": {},
   "outputs": [],
   "source": []
  }
 ],
 "metadata": {
  "kernelspec": {
   "display_name": "Python 3 (ipykernel)",
   "language": "python",
   "name": "python3"
  },
  "language_info": {
   "codemirror_mode": {
    "name": "ipython",
    "version": 3
   },
   "file_extension": ".py",
   "mimetype": "text/x-python",
   "name": "python",
   "nbconvert_exporter": "python",
   "pygments_lexer": "ipython3",
   "version": "3.9.9"
  }
 },
 "nbformat": 4,
 "nbformat_minor": 5
}
