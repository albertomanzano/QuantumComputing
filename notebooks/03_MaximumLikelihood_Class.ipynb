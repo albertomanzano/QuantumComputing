{
 "cells": [
  {
   "cell_type": "markdown",
   "id": "7a9496d2",
   "metadata": {},
   "source": [
    "# Maximum Likelihooh Amplitude Estimation (MLAE)"
   ]
  },
  {
   "cell_type": "markdown",
   "id": "7d6cb636",
   "metadata": {},
   "source": [
    "Present notebook reviews the **Maximum Likelihood Amplitude Estimation** algorithm (**MLAE**) which was implemented into the *Amplitude Estimation* directory on the maximum_likelihood_ae module: **AE/maximum_likelihood_ae**"
   ]
  },
  {
   "cell_type": "markdown",
   "id": "bcf02895",
   "metadata": {},
   "source": [
    "Present notebook and module are based on the following references:\n",
    "\n",
    "* *Suzuki, Y., Uno, S., Raymond, R., Tanaka, T., Onodera, T., & Yamamoto, N.*. Amplitude estimation without phase estimation. Quantum Information Processing, 19(2), 2020. https://arxiv.org/abs/1904.10246\n",
    "\n",
    "* NEASQC deliverable: *D5.1: Review of state-of-the-art for Pricing and Computation of VaR https://www.neasqc.eu/wp-content/uploads/2021/06/NEASQC_D5.1_Review-of-state-of-the-art-for-Pricing-and-Computation-of-VaR_R2.0_Final.pdf*"
   ]
  },
  {
   "cell_type": "code",
   "execution_count": null,
   "id": "490d094b",
   "metadata": {},
   "outputs": [],
   "source": [
    "import numpy as np\n",
    "import pandas as pd\n",
    "import matplotlib.pyplot as plt\n",
    "import qat.lang.AQASM as qlm"
   ]
  },
  {
   "cell_type": "code",
   "execution_count": null,
   "id": "21276b3d",
   "metadata": {},
   "outputs": [],
   "source": [
    "%matplotlib inline"
   ]
  },
  {
   "cell_type": "code",
   "execution_count": null,
   "id": "04034382",
   "metadata": {},
   "outputs": [],
   "source": [
    "import sys\n",
    "sys.path.append(\"../\")"
   ]
  },
  {
   "cell_type": "code",
   "execution_count": null,
   "id": "34403ec1",
   "metadata": {},
   "outputs": [],
   "source": [
    "#This cell loads the QLM solver.\n",
    "#QLMaaS == False -> uses PyLinalg\n",
    "#QLMaaS == True -> try to use LinAlg (for using QPU as CESGA QLM one)\n",
    "from libraries.utils.qlm_solver import get_qpu\n",
    "QLMaaS = False\n",
    "linalg_qpu = get_qpu(QLMaaS)"
   ]
  },
  {
   "cell_type": "code",
   "execution_count": null,
   "id": "3453cf5d",
   "metadata": {},
   "outputs": [],
   "source": [
    "#See 01_DataLoading_Module_Use for the use of this function\n",
    "from libraries.utils.data_extracting import get_results"
   ]
  },
  {
   "cell_type": "markdown",
   "id": "55146c4c",
   "metadata": {},
   "source": [
    "## 1. Oracle generation"
   ]
  },
  {
   "cell_type": "markdown",
   "id": "71279f09",
   "metadata": {},
   "source": [
    "Before doing any amplitude estimation we want to load some data into the quantum circuit, as this step is only auxiliary to see how the algorithm works, we are just going to load a discrete probability distribution. In this case we will have a circuit with $n=3$ qubits which makes a total of $N = 2^n = 8$ states. The discrete probability distribution that we are going to load is:\n",
    "$$p_d = \\dfrac{(0,1,2,3,4,5,6,7)}{0+1+2+3+4+5+6+7+8}.$$\n"
   ]
  },
  {
   "cell_type": "code",
   "execution_count": null,
   "id": "d0b21bcf",
   "metadata": {},
   "outputs": [],
   "source": [
    "n = 3\n",
    "N = 2**n\n",
    "x = np.arange(N)\n",
    "probability = x/np.sum(x)"
   ]
  },
  {
   "cell_type": "markdown",
   "id": "716492db",
   "metadata": {},
   "source": [
    "Note that this probability distribution is properly normalised. For loading this probability into the quantum circuit we will use the function *load_probability* from **DL/data_loading** module. The state that we are going to get is:\n",
    "    $$|\\Psi\\rangle = \\scriptstyle \\dfrac{1}{\\sqrt{0+1+2+3+4+5+6+7+8}}\\left[\\sqrt{0}|0\\rangle+\\sqrt{1}|1\\rangle+\\sqrt{2}|2\\rangle+\\sqrt{3}|3\\rangle+\\sqrt{4}|4\\rangle+\\sqrt{5}|5\\rangle+\\sqrt{6}|6\\rangle+\\sqrt{7}|7\\rangle\\right].$$"
   ]
  },
  {
   "cell_type": "code",
   "execution_count": null,
   "id": "b05056d1",
   "metadata": {},
   "outputs": [],
   "source": [
    "from libraries.DL.data_loading import load_probability"
   ]
  },
  {
   "cell_type": "code",
   "execution_count": null,
   "id": "aab2e90d",
   "metadata": {},
   "outputs": [],
   "source": [
    "oracle = load_probability(probability)"
   ]
  },
  {
   "cell_type": "markdown",
   "id": "08b1fdf8",
   "metadata": {},
   "source": [
    "For more information about loading data into the quantum circuit see the notebook *01_DataLoading_Module_Use*."
   ]
  },
  {
   "cell_type": "markdown",
   "id": "a08e43a5",
   "metadata": {},
   "source": [
    "## 2. MLAE algorithm step by step."
   ]
  },
  {
   "cell_type": "markdown",
   "id": "c977b4c6",
   "metadata": {},
   "source": [
    "The problem of amplitude estimation is the following. Given an oracle:\n",
    "\n",
    "$$\\mathcal{0}|0\\rangle = |\\Psi\\rangle = \\sqrt{a}|\\Psi_0\\rangle +\\sqrt{1-a}|\\Psi_1\\rangle,$$\n",
    "\n",
    "where $|\\Psi_0\\rangle$ and $|\\Psi_1\\rangle$ are orthogonal states, we want to estimate $\\sqrt{a}$. We can define an associated angle to $\\sqrt{a}$ as $\\sin^2{\\theta} = a$, and the problem is thus rewritten as:\n",
    "$$\\mathcal{O}|0\\rangle = |\\Psi \\rangle = \\sin(\\theta)|\\Psi_0\\rangle +\\cos(\\theta)|\\Psi_1\\rangle,$$\n",
    "\n",
    "\n",
    "We have implemented and python class called **MLAE** into the **AE/maximum_likelihood_ae** module that allows us implement the **MLAE** algorithm. In this section we are going to describe the class step by step and explain the basics of the **MLAE** algorithm."
   ]
  },
  {
   "cell_type": "markdown",
   "id": "f8722ea5",
   "metadata": {},
   "source": [
    "### Example"
   ]
  },
  {
   "cell_type": "code",
   "execution_count": null,
   "id": "3de946b0",
   "metadata": {},
   "outputs": [],
   "source": [
    "#import the class\n",
    "from libraries.AE.maximum_likelihood_ae import MLAE"
   ]
  },
  {
   "cell_type": "markdown",
   "id": "d94f4a5d",
   "metadata": {},
   "source": [
    "For showing how our class and the algorithm works, we will define the following amplitude estimation problem:\n",
    "$$\n",
    "    \\begin{array}{l}\n",
    "    &\\mathcal{O}\\longrightarrow \\mathcal{P}.\\\\\n",
    "    & |\\Psi\\rangle \\longrightarrow \\scriptstyle \\dfrac{1}{\\sqrt{0+1+2+3+4+5+6+7+8}}\\left[\\sqrt{0}|0\\rangle+\\sqrt{1}|1\\rangle+\\sqrt{2}|2\\rangle+\\sqrt{3}|3\\rangle+\\sqrt{4}|4\\rangle+\\sqrt{5}|5\\rangle+\\sqrt{6}|6\\rangle+\\sqrt{7}|7\\rangle\\right].\\\\\n",
    "    & \\sin(\\theta)|\\Psi_0\\rangle \\longrightarrow \\dfrac{\\sqrt{1}}{\\sqrt{0+1+2+3+4+5+6+7+8}}|1\\rangle.\\\\\n",
    "    & \\cos(\\theta)|\\Psi_1\\rangle \\longrightarrow \\scriptstyle \\dfrac{1}{\\sqrt{0+1+2+3+4+5+6+7+8}}\\left[\\sqrt{0}|0\\rangle+\\sqrt{2}|2\\rangle+\\sqrt{3}|3\\rangle+\\sqrt{4}|4\\rangle+\\sqrt{5}|5\\rangle+\\sqrt{6}|6\\rangle+\\sqrt{7}|7\\rangle\\right].\\\\\n",
    "    \\end{array}\n",
    "$$\n",
    "The target state, in this case is $|1\\rangle$. It's binary representation is $001$. This has to be passed to the target variable as a list. Moreover we have to provide the list of qubits where we are acting, in this case is just $[0,1,2]$, the whole register."
   ]
  },
  {
   "cell_type": "code",
   "execution_count": null,
   "id": "b69dc476",
   "metadata": {},
   "outputs": [],
   "source": [
    "mlae_dict = {\n",
    "    'qpu': linalg_qpu,\n",
    "}\n",
    "mlae = MLAE(oracle,target = [0,0,1],index = [0,1,2], **mlae_dict)"
   ]
  },
  {
   "cell_type": "markdown",
   "id": "f72b5b48",
   "metadata": {},
   "source": [
    "### The grover operator"
   ]
  },
  {
   "cell_type": "markdown",
   "id": "9a2a5c94",
   "metadata": {},
   "source": [
    "The foundations of any amplitude estimation algorithm is the grover operator $\\mathcal{Q}$. We recall that the grover operator has the following effect over our state $|\\Psi\\rangle$:\n",
    "$$\\mathcal{G}^{m}|\\Psi\\rangle = |\\Psi \\rangle = \\sin\\left((2m_k+1)\\theta\\right)|\\Psi_0\\rangle +\\cos\\left((2m_k+1)\\theta\\right)|\\Psi_1\\rangle,$$\n",
    "for more information about the grover operator and the amplitude amplification algorithm check the notebook about amplitude amplification.\n",
    "\n",
    "The process of generating the corresponding grover oracle is handled automatically in the class when we instance it. To see the grover operator in action we can call the method *run_step* of the class. The input of the method is:\n",
    "\n",
    "* m_k: the number of times the Grover-like operator will be applied.\n",
    "* n_k : number of shots.\n",
    "\n",
    "The method returns:\n",
    "* h_k: number of positive outcomes"
   ]
  },
  {
   "cell_type": "code",
   "execution_count": null,
   "id": "b8c07891",
   "metadata": {},
   "outputs": [],
   "source": [
    "m_k = 3\n",
    "n_k = 100\n",
    "h_k = mlae.run_step(m_k,n_k)"
   ]
  },
  {
   "cell_type": "markdown",
   "id": "1dfc0347",
   "metadata": {},
   "source": [
    "From the number of positive outcomes it is straightforward to estimate the probability of getting the state $|1\\rangle$ (the positive outcome):\n",
    "$$ \\sin^2\\left((2m_k+1)\\hat{\\theta}\\right) = \\dfrac{h_k}{n_k} = \\hat{p}(|\\Psi_0\\rangle)\\approx p(|\\Psi_0\\rangle).$$\n",
    "Here we use the $\\hat{}$ to distinguish between the estimated values from the real ones.\n",
    "So we have a first estimation of our target amplitude:"
   ]
  },
  {
   "cell_type": "code",
   "execution_count": null,
   "id": "bbf223cb",
   "metadata": {},
   "outputs": [],
   "source": [
    "angle_estimation = np.arcsin(np.sqrt(h_k/n_k))/(2*m_k+1)\n",
    "estimation = np.sin(angle_estimation)**2"
   ]
  },
  {
   "cell_type": "code",
   "execution_count": null,
   "id": "5f997262",
   "metadata": {},
   "outputs": [],
   "source": [
    "print(\"First estimation: \",estimation)\n",
    "print(\"Exact probability: \",probability[1])"
   ]
  },
  {
   "cell_type": "markdown",
   "id": "b6eab0ff",
   "metadata": {},
   "source": [
    "The question now is, ¿how can we consistently improve this result?"
   ]
  },
  {
   "cell_type": "markdown",
   "id": "19f558c2",
   "metadata": {},
   "source": [
    "### The Likelihood"
   ]
  },
  {
   "cell_type": "markdown",
   "id": "96f7aaab",
   "metadata": {},
   "source": [
    "To improve our results we will throw different experiments and combine its information into a single result. To do so we will use the likelihood. First, what is the **likelihood**?\n",
    "\n",
    "In general, the likelihood $L(a|b)$ is the probability of obtaining $b$ conditioned to $a$, that is $L(a|b) = p(b|a)$.\n",
    "\n",
    "In our specific case, given the result of an experiment $h_k$ we want to know the probability of an angle $\\theta$ being the one that has generated it:\n",
    "$$p(\\theta|h_k).$$\n",
    "From all the possible values of theta we will propose as a solution the one with most probability.\n",
    "\n",
    "As computing $p(\\theta|h_k)$ is not completely straightforward we will compute instead $p(h_k|\\theta)$ which is proportional to the other one by Baye's theorem. The associated likelihood is $L(\\theta|h_k) = p(h_k|\\theta)$. The value of this likelihood is:\n",
    "\n",
    "$$L(\\theta|h_k) = \\sin^2\\left((2m_k+1)\\theta\\right)^{h_k}\\cos^2\\left((2m_k+1)\\theta\\right)^{n_k-h_k}.$$\n",
    "\n",
    "This is because each measurment is independent of the other measurements, the probability of obtaining the state $|1\\rangle$ is given by $\\sin^2\\left((2m_k+1)\\theta\\right)$  and the probability of the state $|0\\rangle$ is given by $\\cos^2\\left((2m_k+1)\\theta\\right)$.\n",
    "\n",
    "To compute the likelihood for a given experiment we can use the function *likelihood*. The input of the method is:\n",
    "\n",
    "* angle : the angle.\n",
    "* m_k: the number of times the Grover-like operator will be applied.\n",
    "* n_k : number of shots.\n",
    "* h_k: number of positive outcomes\n",
    "\n",
    "The method returns:\n",
    "* l_k: likelihood of the angle\n",
    "\n",
    "\n"
   ]
  },
  {
   "cell_type": "code",
   "execution_count": null,
   "id": "10ea1d3a",
   "metadata": {},
   "outputs": [],
   "source": [
    "theta = np.linspace(0+mlae.delta,np.pi/2-mlae.delta,100)\n",
    "l_k = np.zeros(len(theta))\n",
    "for i in range(len(theta)):\n",
    "    l_k[i] = mlae.likelihood(theta[i],m_k,n_k,h_k)"
   ]
  },
  {
   "cell_type": "code",
   "execution_count": null,
   "id": "4a659270",
   "metadata": {},
   "outputs": [],
   "source": [
    "plt.plot(theta,l_k, '-')\n",
    "plt.axvline(angle_estimation,color = 'r')\n",
    "plt.xlabel(r'$\\theta$')\n",
    "plt.ylabel('Likelihood')\n",
    "plt.grid()"
   ]
  },
  {
   "cell_type": "markdown",
   "id": "07304759",
   "metadata": {},
   "source": [
    "In blue is depicted the likelihood function for different values of $\\theta$. In red we have the estimation we made in the previous section. As we see there are multiple values that maximize the likelihood function. If we combine the information from different $(m_k,h_k)$ we can get better estimations.\n",
    "\n",
    "Therefore we define a combined likelihood as:\n",
    "$$L(\\theta,\\mathbf{h}) = \\prod_{k = 0}^M l_k(\\theta,h_k).$$\n",
    "$$\\mathbf{h} = (h_0, h_1,...,h_M)$$\n",
    "\n",
    "Instead of dealing with the maximimization problem, we define the equivalent mimimization problem which substituting the combined likelihood with the cost function $C$:\n",
    "$$C(\\theta) = -\\log\\left(L(\\theta,\\mathbf{h})\\right)$$\n",
    "\n",
    "The idea is the is to find the $\\theta^*$ that minimizes the cost function:\n",
    "$$\\theta^* = \\arg \\min_{\\theta} C(\\theta)$$ "
   ]
  },
  {
   "cell_type": "markdown",
   "id": "0f8f8e3c",
   "metadata": {},
   "source": [
    "This process can simply be done calling the function minimize."
   ]
  },
  {
   "cell_type": "code",
   "execution_count": null,
   "id": "bb08fe74",
   "metadata": {},
   "outputs": [],
   "source": [
    "theta = mlae.optimize()"
   ]
  },
  {
   "cell_type": "markdown",
   "id": "0b45f49a",
   "metadata": {},
   "source": [
    "In general, in the variable *theta* we will have stored the result of a optimization algorithm. In the default case we directly get the optimized angle. For more information about changing the optimizer see the next section. We can compare it with the classical result, recall that:\n",
    "$$\\sin^2(\\theta) = a$$"
   ]
  },
  {
   "cell_type": "code",
   "execution_count": null,
   "id": "06d720c3",
   "metadata": {
    "scrolled": true
   },
   "outputs": [],
   "source": [
    "print(\"Quantum result: \",np.sin(theta)**2)\n",
    "print(\"Classical result: \",probability[1])"
   ]
  },
  {
   "cell_type": "code",
   "execution_count": null,
   "id": "3771a340",
   "metadata": {},
   "outputs": [],
   "source": [
    "print('Test OK: ',abs((np.sin(theta)**2)[0]-probability[1]) < 0.005)"
   ]
  },
  {
   "cell_type": "markdown",
   "id": "f63e0e7e",
   "metadata": {},
   "source": [
    "If you execute the minimize function more times you will see that the results of the quantum estimation change, try it.\n",
    "\n",
    "Now we give a look at the shape of the cost function for different angles:\n",
    "\n",
    "**Note** \n",
    "\n",
    "To avoid problems with angles 0 and $\\frac{\\pi}{2}$. "
   ]
  },
  {
   "cell_type": "code",
   "execution_count": null,
   "id": "5d718666",
   "metadata": {},
   "outputs": [],
   "source": [
    "angles = np.linspace(0+mlae.delta,np.pi/2-mlae.delta,100)\n",
    "cost = np.zeros(len(angles))\n",
    "for i in range(len(angles)):\n",
    "    cost[i] = mlae.cost_function(angles[i])"
   ]
  },
  {
   "cell_type": "code",
   "execution_count": null,
   "id": "0326bd93",
   "metadata": {},
   "outputs": [],
   "source": [
    "plt.plot(angles,cost, '-o')\n",
    "plt.axvline(theta,color = 'r')\n",
    "plt.grid()\n",
    "plt.xlabel(r\"$\\theta$\")\n",
    "plt.ylabel(r\"$C(\\theta)$\")"
   ]
  },
  {
   "cell_type": "markdown",
   "id": "208218b4",
   "metadata": {},
   "source": [
    "## 3. Options of the MLAE class"
   ]
  },
  {
   "cell_type": "markdown",
   "id": "753c8132",
   "metadata": {},
   "source": [
    "So far we have dealt with how the algorithm works. Next we discuss a few extra options available."
   ]
  },
  {
   "cell_type": "markdown",
   "id": "59456931",
   "metadata": {},
   "source": [
    "### The schedule"
   ]
  },
  {
   "cell_type": "markdown",
   "id": "ccd32df1",
   "metadata": {},
   "source": [
    "As we said, we want to combina the information of different experiments. In general each experiment can be characterised by the number of aplications of the grover oracle $m_k$ and the number of shots $n_k$. A list of both is what we call a **schedule**. In the next cell we define a specific schedule and give it to the class:"
   ]
  },
  {
   "cell_type": "code",
   "execution_count": null,
   "id": "5be68136",
   "metadata": {},
   "outputs": [],
   "source": [
    "m_k = [0,1,2,3,4,5]\n",
    "n_k = [50]*len(m_k)\n",
    "schedule = [m_k,n_k]"
   ]
  },
  {
   "cell_type": "code",
   "execution_count": null,
   "id": "81a45c11",
   "metadata": {},
   "outputs": [],
   "source": [
    "target = [0,0,1]\n",
    "index = [0,1,2]\n",
    "mlae_dict = {\n",
    "    'qpu': linalg_qpu,\n",
    "}\n",
    "mlae = MLAE(oracle,target = [0,0,1],index = [0,1,2],schedule = schedule, **mlae_dict)"
   ]
  },
  {
   "cell_type": "code",
   "execution_count": null,
   "id": "123aceea",
   "metadata": {},
   "outputs": [],
   "source": [
    "from libraries.utils.utils import bitfield_to_int"
   ]
  },
  {
   "cell_type": "code",
   "execution_count": null,
   "id": "464bad10",
   "metadata": {
    "scrolled": true
   },
   "outputs": [],
   "source": [
    "angle = mlae.optimize()\n",
    "print(\"Quantum result: \",np.sin(angle)**2)\n",
    "print(\"Classical result: \",probability[bitfield_to_int(target)])"
   ]
  },
  {
   "cell_type": "code",
   "execution_count": null,
   "id": "591f661d",
   "metadata": {},
   "outputs": [],
   "source": [
    "print('Test OK: ',abs((np.sin(angle)**2)[0]-probability[bitfield_to_int(target)]) < 0.005)"
   ]
  },
  {
   "cell_type": "markdown",
   "id": "7c7eb0b1",
   "metadata": {},
   "source": [
    "We don't need to define the schedule at initialization, we can define it after by simply assigning attribute schedule to the schedule we want:"
   ]
  },
  {
   "cell_type": "code",
   "execution_count": null,
   "id": "dca3727d",
   "metadata": {},
   "outputs": [],
   "source": [
    "m_k = [0,1,2,4,8,16]\n",
    "n_k = [10]*len(m_k)\n",
    "schedule = [m_k,n_k]\n",
    "mlae.schedule = schedule"
   ]
  },
  {
   "cell_type": "code",
   "execution_count": null,
   "id": "3e2b990d",
   "metadata": {
    "scrolled": true
   },
   "outputs": [],
   "source": [
    "angle = mlae.optimize()\n",
    "print(\"Quantum result: \",np.sin(angle)**2)\n",
    "print(\"Classical result: \",probability[bitfield_to_int(target)])"
   ]
  },
  {
   "cell_type": "code",
   "execution_count": null,
   "id": "8848eefa",
   "metadata": {},
   "outputs": [],
   "source": [
    "print('Test OK: ',abs((np.sin(angle)**2)[0]-probability[bitfield_to_int(target)]) < 0.005)"
   ]
  },
  {
   "cell_type": "markdown",
   "id": "686eb223",
   "metadata": {},
   "source": [
    "### The optimizer"
   ]
  },
  {
   "cell_type": "markdown",
   "id": "84eacfaa",
   "metadata": {},
   "source": [
    "To find the angle that mimimizes the cost function we need to use a minimization algorithm. The default one is the brute force one, but we can use another one.\n",
    "The optimizer that we have to pass to the class needs to be a function of just one variable: the angle. This is straightforward using lambda functions. In this case, we will do an example with differential-evolution algorithm from the scipy library."
   ]
  },
  {
   "cell_type": "code",
   "execution_count": null,
   "id": "d183f9cc",
   "metadata": {},
   "outputs": [],
   "source": [
    "import scipy.optimize as so"
   ]
  },
  {
   "cell_type": "markdown",
   "id": "20b38bd9",
   "metadata": {},
   "source": [
    "The *differential evolution* algorithm just needs as input the function to be minimized and the bounds where the minimization is done."
   ]
  },
  {
   "cell_type": "code",
   "execution_count": null,
   "id": "6647978b",
   "metadata": {},
   "outputs": [],
   "source": [
    "bounds = [[0.+mlae.delta,np.pi/2-mlae.delta]]\n",
    "differential_evolution = lambda f: so.differential_evolution(f,bounds = bounds)"
   ]
  },
  {
   "cell_type": "markdown",
   "id": "33ab4c21",
   "metadata": {},
   "source": [
    "Now we just need to assign the new optimizer to the attribute *optimizer*. Alternatively we could have provided the optimizer at initialization."
   ]
  },
  {
   "cell_type": "code",
   "execution_count": null,
   "id": "9c9dd60d",
   "metadata": {},
   "outputs": [],
   "source": [
    "mlae.optimizer = differential_evolution"
   ]
  },
  {
   "cell_type": "code",
   "execution_count": null,
   "id": "7dfc3c46",
   "metadata": {},
   "outputs": [],
   "source": [
    "result = mlae.optimize()"
   ]
  },
  {
   "cell_type": "markdown",
   "id": "38e09dc9",
   "metadata": {},
   "source": [
    "Remember that, the result of the function optimize is the result given by the optimizator. In this case, the function differential evolution gives as output an object. The result of the minimization is stored in the attribute *x*."
   ]
  },
  {
   "cell_type": "code",
   "execution_count": null,
   "id": "df85ee75",
   "metadata": {},
   "outputs": [],
   "source": [
    "angle = result.x\n",
    "print(\"Quantum result: \",np.sin(angle)**2)\n",
    "print(\"Classical result: \",probability[bitfield_to_int(target)])"
   ]
  },
  {
   "cell_type": "code",
   "execution_count": null,
   "id": "1d78149b",
   "metadata": {},
   "outputs": [],
   "source": [
    "print('Test OK: ',abs((np.sin(angle)**2)[0]-probability[bitfield_to_int(target)]) < 0.005)"
   ]
  },
  {
   "cell_type": "markdown",
   "id": "77312c8d",
   "metadata": {},
   "source": [
    "Last, we wanted to make a brief comment on the optmizer. As we saw before, the cost function it is not convex, i.e. it has multiple local minima. If we pass a local optimizer such as *Nelder-Mead*, we won't get a good result. Next we give an example."
   ]
  },
  {
   "cell_type": "code",
   "execution_count": null,
   "id": "355f292d",
   "metadata": {},
   "outputs": [],
   "source": [
    "bounds = [[0.+mlae.delta,np.pi/2-mlae.delta]]\n",
    "x0 = [0.8]\n",
    "nelder_mead = lambda f: so.minimize(f,x0 = x0,bounds = bounds,method = \"Nelder-Mead\")"
   ]
  },
  {
   "cell_type": "code",
   "execution_count": null,
   "id": "19c08d8a",
   "metadata": {},
   "outputs": [],
   "source": [
    "mlae.optimizer = nelder_mead\n",
    "result = mlae.optimize()"
   ]
  },
  {
   "cell_type": "code",
   "execution_count": null,
   "id": "17db172e",
   "metadata": {},
   "outputs": [],
   "source": [
    "angles = np.linspace(0++mlae.delta,np.pi/2-mlae.delta,100)\n",
    "cost = np.zeros(len(angles))\n",
    "for i in range(len(angles)):\n",
    "    cost[i] = mlae.cost_function(angles[i])"
   ]
  },
  {
   "cell_type": "code",
   "execution_count": null,
   "id": "34392139",
   "metadata": {},
   "outputs": [],
   "source": [
    "plt.plot(angles,cost,'-o', label = r\"$C(\\theta)$\")\n",
    "plt.axvline(result.x,color = 'r',label = r\"$\\theta^*$\")\n",
    "plt.axvline(x0[0],color = 'g',label = r\"$\\theta_{initial}$\")\n",
    "plt.grid()\n",
    "plt.xlabel(r\"$\\theta$\")\n",
    "plt.ylabel(r\"$C(\\theta)$\")\n",
    "plt.legend()"
   ]
  },
  {
   "cell_type": "code",
   "execution_count": null,
   "id": "cec4e04a",
   "metadata": {},
   "outputs": [],
   "source": []
  },
  {
   "cell_type": "code",
   "execution_count": null,
   "id": "8c396d29",
   "metadata": {},
   "outputs": [],
   "source": []
  },
  {
   "cell_type": "code",
   "execution_count": null,
   "id": "4271c3d2",
   "metadata": {},
   "outputs": [],
   "source": []
  }
 ],
 "metadata": {
  "kernelspec": {
   "display_name": "Python 3 (ipykernel)",
   "language": "python",
   "name": "python3"
  },
  "language_info": {
   "codemirror_mode": {
    "name": "ipython",
    "version": 3
   },
   "file_extension": ".py",
   "mimetype": "text/x-python",
   "name": "python",
   "nbconvert_exporter": "python",
   "pygments_lexer": "ipython3",
   "version": "3.9.9"
  }
 },
 "nbformat": 4,
 "nbformat_minor": 5
}
