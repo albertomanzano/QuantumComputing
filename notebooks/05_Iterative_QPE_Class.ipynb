{
 "cells": [
  {
   "cell_type": "markdown",
   "id": "91740961",
   "metadata": {},
   "source": [
    "# Iterative Quantum Phase Estimation (IQPE)"
   ]
  },
  {
   "cell_type": "markdown",
   "id": "c4f4d8f0",
   "metadata": {},
   "source": [
    "In notebook **03_AmplitudeAmplification_Procedure** the **Amplification Amplitude** procedure for calculating $E_{x\\sim p}(f)$ was reviewed. As showed, in order to take advantage of this procedure, a **Quantum Phase Estimation** (**QPE**) algorithm that relies in the inverse of the **Quantum Fourier Transform** (**QFT**) is needed. Quantum circuit implementation of **QFT** are very complex and very long and deep so its use in actual quantum computers is noisy and not very useful.  \n",
    "\n",
    "Present notebook reviews an **amplitude amplification** algorithm that does not rely in the inverse of the **Quantum Fourier Transform** (**QFT**): the **Iterative Quantum Phase Estimation** algorithm (**IQPE**).\n",
    "\n",
    "In order to use this algorithm the following operators are needed:\n",
    "\n",
    "* $\\mathcal{P}$ for loading probability distribution $p(x)$\n",
    "* $\\mathcal{F}$ for loading a function $f(x)$"
   ]
  },
  {
   "cell_type": "markdown",
   "id": "f57f5478",
   "metadata": {},
   "source": [
    "Present notebook and module are based on the following references:\n",
    "\n",
    "* *Dobšíček, Miroslav and Johansson, Göran and Shumeiko, Vitaly and Wendin, Göran*. Arbitrary accuracy iterative quantum phase estimation algorithm using a single ancillary qubit: A two-qubit benchmark. Physical Review A 3(76), 2007. https://arxiv.org/abs/quant-ph/0610214\n",
    "\n",
    "* *Griffiths, Robert B. and Niu, Chi-Sheng*. Semiclassical Fourier Transform for Quantum Computation. Physical Review Letters, 17 (76), 1996. https://arxiv.org/abs/quant-ph/9511007\n",
    "\n",
    "* *A. Y. Kitaev*. Quantum measurements and the abelian stabilizer problem. Electronic Colloquium on Computational Complexity, 3(3):1–22, 1996. https://arxiv.org/abs/quant-ph/9511026\n",
    "\n",
    "* *Monz, Thomas and Nigg, Daniel and Martinez, Esteban A. and Brandl, Matthias F. and Schindler, Philipp and Rines, Richard and Wang, Shannon X. and Chuang, Isaac L. and Blatt, Rainer*. Realization of a scalable Shor algorithm. Science 6277 (351). 2016. https://arxiv.org/abs/1507.08852"
   ]
  },
  {
   "cell_type": "code",
   "execution_count": null,
   "id": "a943b2ec",
   "metadata": {},
   "outputs": [],
   "source": [
    "from IPython.core.display import display, HTML\n",
    "display(HTML(\"<style>.container { width:100% !important; }</style>\"))"
   ]
  },
  {
   "cell_type": "code",
   "execution_count": null,
   "id": "56c42b50",
   "metadata": {},
   "outputs": [],
   "source": [
    "import numpy as np\n",
    "import pandas as pd\n",
    "import matplotlib.pyplot as plt\n",
    "import sys, os"
   ]
  },
  {
   "cell_type": "code",
   "execution_count": null,
   "id": "67d69543",
   "metadata": {
    "scrolled": true
   },
   "outputs": [],
   "source": [
    "%load_ext qat.core.magic\n",
    "%matplotlib inline"
   ]
  },
  {
   "cell_type": "code",
   "execution_count": null,
   "id": "f7849ebf",
   "metadata": {},
   "outputs": [],
   "source": [
    "#QPU connection\n",
    "QLMASS = True\n",
    "if QLMASS:\n",
    "    try:\n",
    "        from qat.qlmaas import QLMaaSConnection\n",
    "        connection = QLMaaSConnection()\n",
    "        LinAlg = connection.get_qpu(\"qat.qpus:LinAlg\")\n",
    "        lineal_qpu = LinAlg()\n",
    "    except (ImportError, OSError) as e:\n",
    "        print('Problem: usin PyLinalg')\n",
    "        from qat.qpus import PyLinalg\n",
    "        lineal_qpu = PyLinalg()\n",
    "else:\n",
    "    print('User Forces: PyLinalg')\n",
    "    from qat.qpus import PyLinalg\n",
    "    lineal_qpu = PyLinalg() "
   ]
  },
  {
   "cell_type": "code",
   "execution_count": null,
   "id": "7c44b44e",
   "metadata": {},
   "outputs": [],
   "source": [
    "sys.path.append(\"../libraries/\")"
   ]
  },
  {
   "cell_type": "markdown",
   "id": "229e167c",
   "metadata": {},
   "source": [
    "## 1. Creating base gate for Grover-like operator"
   ]
  },
  {
   "cell_type": "markdown",
   "id": "5f5d68cb",
   "metadata": {},
   "source": [
    "First we need to discretized the probability $p(x)$ and the function $f(x)$."
   ]
  },
  {
   "cell_type": "code",
   "execution_count": null,
   "id": "5ab31827",
   "metadata": {},
   "outputs": [],
   "source": [
    "from utils import  get_histogram"
   ]
  },
  {
   "cell_type": "code",
   "execution_count": null,
   "id": "dd59863f",
   "metadata": {},
   "outputs": [],
   "source": [
    "#Functions f and p\n",
    "def p(x):\n",
    "    return x*x\n",
    "def f(x):\n",
    "    return np.sin(x)"
   ]
  },
  {
   "cell_type": "code",
   "execution_count": null,
   "id": "a6cfc846",
   "metadata": {},
   "outputs": [],
   "source": [
    "#number of Qbits for the circuit\n",
    "n_qbits = 6\n",
    "#The number of bins \n",
    "m_bins = 2**n_qbits\n",
    "LowerLimit = 0.0\n",
    "UpperLimit = 1.0 \n",
    "\n",
    "X, p_X = get_histogram(p, LowerLimit, UpperLimit, m_bins)\n",
    "f_X = f(X)"
   ]
  },
  {
   "cell_type": "code",
   "execution_count": null,
   "id": "a1cb1870",
   "metadata": {
    "scrolled": true
   },
   "outputs": [],
   "source": [
    "%matplotlib inline\n",
    "plt.plot(X, p_X, 'o')\n",
    "plt.plot(X, f_X, 'o')\n",
    "plt.legend(['Probability', 'Array'])"
   ]
  },
  {
   "cell_type": "markdown",
   "id": "50d9fe21",
   "metadata": {},
   "source": [
    "Now we create the correspondent operators $\\mathcal{P}$ and $\\mathcal{F}$ and their correspondent composition."
   ]
  },
  {
   "cell_type": "code",
   "execution_count": null,
   "id": "f81c876d",
   "metadata": {},
   "outputs": [],
   "source": [
    "from data_loading import load_probability, load_array, load_pf"
   ]
  },
  {
   "cell_type": "code",
   "execution_count": null,
   "id": "e8ad2d85",
   "metadata": {},
   "outputs": [],
   "source": [
    "p_gate = load_probability(p_X)\n",
    "f_gate = load_array(np.sqrt(f_X))\n",
    "pf_gate = load_pf(p_gate, f_gate)"
   ]
  },
  {
   "cell_type": "code",
   "execution_count": null,
   "id": "31be41a8",
   "metadata": {},
   "outputs": [],
   "source": [
    "#circuit = Qprog.to_circ()\n",
    "%qatdisplay pf_gate"
   ]
  },
  {
   "cell_type": "markdown",
   "id": "34f11062",
   "metadata": {},
   "source": [
    "## 2. Class IQPE: algorithm step by step "
   ]
  },
  {
   "cell_type": "markdown",
   "id": "39e668f5",
   "metadata": {},
   "source": [
    "The main problem is the following: We have an **Groover** like operator, $\\mathcal{Q}$ which is equivalent to a rotation around **y-axis** of a $\\theta$ angle. This angle is unknow (a priori) and we want to compute it. We know that using **QPE** with **QFT** allows us get the angle but we know too that **QFT** is a complex and a prone error operation for a quantum computer. Using **IQPE** this $\\theta$ can be obtained without usign $\\mathcal{QFT}$.\n",
    "\n",
    "We have implemented and python class called **IQPE** (in the script **iterative_quantum_pe.py**) that allows us implement the **IQPE** algorithm. In this section we are going to describe the class step by step and explain the basics of the **IQPE** algorithm\n"
   ]
  },
  {
   "cell_type": "markdown",
   "id": "4ad9589d",
   "metadata": {},
   "source": [
    "### Calling the **IQPE** class"
   ]
  },
  {
   "cell_type": "code",
   "execution_count": null,
   "id": "95543548",
   "metadata": {},
   "outputs": [],
   "source": [
    "#Load Class\n",
    "from iterative_quantum_pe import IterativeQuantumPE"
   ]
  },
  {
   "cell_type": "markdown",
   "id": "0b19f4d6",
   "metadata": {},
   "source": [
    "In order to instantiate the class we need to provide a pyhton dictionary. Most important keys are:\n",
    "\n",
    "* oracle : QLM gate or routine with the oracle needed for creating correspondient Grover-like operator\n",
    "* initial_state : QLM Program with an initial state $|\\Psi\\rangle$ was loaded. \n",
    "* grover :  QLM gate or routine with a Grover-like operator $\\mathcal{Q}$ ready for be applied to initial state $|\\Psi\\rangle$.\n",
    "\n",
    "If the user provide an *oracle* key then keys *initial_state* and *grover* will be not used. If *oracle* is not provide then user should provide *initial_state* and *grover*.\n",
    "\n",
    "Other important keys are:\n",
    "\n",
    "* cbits_number : int with the number of classical bits needed for for phase estimation\n",
    "* qpu : QLM solver\n",
    "* shots : int number of shots for quantum job. If 0 exact probabilities will be computed\n"
   ]
  },
  {
   "cell_type": "markdown",
   "id": "8a7329f2",
   "metadata": {},
   "source": [
    "By instantiate the **IterativeQuantumPE** the class create following properties:\n",
    "\n",
    "* *init_q_prog*: this property stores the QLM program with the initial state $|\\Psi\\rangle$.\n",
    "    * If *oracle* was provided class creates the program using the oracle\n",
    "    * If *oracle* was **NOT** provided this will be the *initial_state* key\n",
    "* *q_gate*: this propety stores the correspondient Grover-like operator $\\mathcal{Q}$.\n",
    "    * If *oracle* was provided class creates the Grover-like operator using the oracle\n",
    "    * If *oracle* was **NOT** provided this will be the *grover* key\n",
    "    "
   ]
  },
  {
   "cell_type": "markdown",
   "id": "c26588fd",
   "metadata": {},
   "source": [
    "### Giving and Oracle"
   ]
  },
  {
   "cell_type": "code",
   "execution_count": null,
   "id": "3b402560",
   "metadata": {},
   "outputs": [],
   "source": [
    "#Giving an Oracle\n",
    "n_cbits = 6\n",
    "#We create a python dictionary for configuration of class\n",
    "iqpe_dict_0 = {\n",
    "    'oracle': pf_gate,\n",
    "    'qpu' : lineal_qpu,\n",
    "    'cbits_number' : n_cbits,\n",
    "    #'easy': True,\n",
    "    #'easy': False    \n",
    "}\n",
    "#Instanciate the class\n",
    "IQPE_0 = IterativeQuantumPE(**iqpe_dict_0)"
   ]
  },
  {
   "cell_type": "code",
   "execution_count": null,
   "id": "7f6dcb58",
   "metadata": {},
   "outputs": [],
   "source": [
    "print('QLM loading program')\n",
    "circuit = IQPE_0.init_q_prog.to_circ()\n",
    "%qatdisplay circuit --depth 1\n",
    "print('Grover-like Operator')\n",
    "q_gate = IQPE_0.q_gate\n",
    "%qatdisplay q_gate --depth 1"
   ]
  },
  {
   "cell_type": "markdown",
   "id": "899536ad",
   "metadata": {},
   "source": [
    "### Giving $|\\Psi\\rangle$ and $\\mathcal{Q}$"
   ]
  },
  {
   "cell_type": "code",
   "execution_count": null,
   "id": "2c7644a1",
   "metadata": {},
   "outputs": [],
   "source": [
    "#Given Initial State and Grover operator\n",
    "from data_extracting import create_qprogram\n",
    "initial_state = create_qprogram(pf_gate)\n",
    "from amplitude_amplification import load_q_gate\n",
    "grover = load_q_gate(pf_gate)\n",
    "\n",
    "n_cbits = 6\n",
    "#We create a python dictionary for configuration of class\n",
    "iqpe_dict_1 = {\n",
    "    'initial_state': initial_state,\n",
    "    'grover': grover,\n",
    "    'qpu' : lineal_qpu,\n",
    "    'cbits_number' : n_cbits,\n",
    "    #'easy': True,\n",
    "    #'easy': False    \n",
    "}\n",
    "IQPE_1 = IterativeQuantumPE(**iqpe_dict_1)"
   ]
  },
  {
   "cell_type": "code",
   "execution_count": null,
   "id": "de289454",
   "metadata": {},
   "outputs": [],
   "source": [
    "print('QLM loading program')\n",
    "circuit = IQPE_1.init_q_prog.to_circ()\n",
    "%qatdisplay circuit --depth 1\n",
    "print('Grover-like Operator')\n",
    "q_gate = IQPE_1.q_gate\n",
    "%qatdisplay q_gate --depth 1"
   ]
  },
  {
   "cell_type": "markdown",
   "id": "3f7bc557",
   "metadata": {},
   "source": [
    "###  BE AWARE!!!"
   ]
  },
  {
   "cell_type": "code",
   "execution_count": null,
   "id": "7c2d449e",
   "metadata": {},
   "outputs": [],
   "source": [
    "#If oracle not provide or is None and initial_state or grover were not provide an Exception is raised\n",
    "n_cbits = 6\n",
    "#We create a python dictionary for configuration of class\n",
    "iqpe_dict_2 = {\n",
    "    #'oracle': None,\n",
    "    #'initial_state': None,\n",
    "    #'grover': grover,\n",
    "    'qpu' : lineal_qpu,\n",
    "    'cbits_number' : n_cbits,\n",
    "    #'easy': True,\n",
    "    #'easy': False    \n",
    "}\n",
    "IQPE_2 = IterativeQuantumPE(**iqpe_dict_2)"
   ]
  },
  {
   "cell_type": "markdown",
   "id": "0199acd5",
   "metadata": {},
   "source": [
    "The order for execute a **IQPE** algorithm is the following."
   ]
  },
  {
   "cell_type": "markdown",
   "id": "07708821",
   "metadata": {},
   "source": [
    "#### 1. Initialize the quantum program.\n",
    "\n",
    "The first thing is created a deep copy of the *init_q_prog* property on the *q_prog* property"
   ]
  },
  {
   "cell_type": "code",
   "execution_count": null,
   "id": "fff5c6f6",
   "metadata": {},
   "outputs": [],
   "source": [
    "#Initialize the quantum program\n",
    "IQPE_0.init_iqpe()\n",
    "IQPE_1.init_iqpe()"
   ]
  },
  {
   "cell_type": "code",
   "execution_count": null,
   "id": "20def8ff",
   "metadata": {},
   "outputs": [],
   "source": [
    "#Now we have the initial quantum program stored in the property q_prog\n",
    "#Additionally a auxiliar qbit bits was allocated\n",
    "circuit = IQPE_0.q_prog.to_circ(submatrices_only=True)\n",
    "\n",
    "%qatdisplay circuit"
   ]
  },
  {
   "cell_type": "code",
   "execution_count": null,
   "id": "283ab4f5",
   "metadata": {},
   "outputs": [],
   "source": [
    "#Now we have the initial quantum program stored in the property q_prog\n",
    "#Additionally a auxiliar qbit bits was allocated\n",
    "circuit = IQPE_1.q_prog.to_circ(submatrices_only=True)\n",
    "\n",
    "%qatdisplay circuit"
   ]
  },
  {
   "cell_type": "markdown",
   "id": "f600cb27",
   "metadata": {},
   "source": [
    "#### 2. Applying IQPE algorithm\n",
    "\n",
    "Second thing is apply the IQPE algorithm to the quantum program stored in the *q_prog* property."
   ]
  },
  {
   "cell_type": "code",
   "execution_count": null,
   "id": "594c7cf5",
   "metadata": {},
   "outputs": [],
   "source": [
    "#Execute IQPE algorithm\n",
    "IQPE_0.apply_iqpe()\n",
    "IQPE_1.apply_iqpe()"
   ]
  },
  {
   "cell_type": "markdown",
   "id": "b1c5c11a",
   "metadata": {},
   "source": [
    "#### 3. Create the QLM circuit\n",
    "\n",
    "We need to create the quantum circuit of the correspondient quantum program with the complete **IQPE** algorithm using the get_circuit() method"
   ]
  },
  {
   "cell_type": "code",
   "execution_count": null,
   "id": "81174f51",
   "metadata": {},
   "outputs": [],
   "source": [
    "#Class have a method to create a quantum circuit from quantum program\n",
    "IQPE_0.get_circuit()\n",
    "circuit = IQPE_0.circuit\n",
    "%qatdisplay circuit"
   ]
  },
  {
   "cell_type": "code",
   "execution_count": null,
   "id": "10f30431",
   "metadata": {},
   "outputs": [],
   "source": [
    "#Class have a method to create a quantum circuit from quantum program\n",
    "IQPE_1.get_circuit()\n",
    "circuit = IQPE_1.circuit\n",
    "%qatdisplay circuit"
   ]
  },
  {
   "cell_type": "markdown",
   "id": "3cfd1ba7",
   "metadata": {},
   "source": [
    "#### 4. Create the QLM job\n",
    "\n",
    "We need to create the QLM job from the QLM circuit using the *get_job()* method"
   ]
  },
  {
   "cell_type": "code",
   "execution_count": null,
   "id": "fb50c1e8",
   "metadata": {},
   "outputs": [],
   "source": [
    "#Class have a method to generate a job from the circuit created in the previous cell\n",
    "IQPE_0.get_job()\n",
    "IQPE_1.get_job()"
   ]
  },
  {
   "cell_type": "markdown",
   "id": "c4138674",
   "metadata": {},
   "source": [
    "#### 5. Submiting job\n",
    "\n",
    "With the method *get_job_result()* the job is submitted and the results of the simulation are obtained"
   ]
  },
  {
   "cell_type": "code",
   "execution_count": null,
   "id": "fdf76a42",
   "metadata": {},
   "outputs": [],
   "source": [
    "#There is a method for executing a job\n",
    "IQPE_0.get_job_result()\n",
    "IQPE_1.get_job_result()"
   ]
  },
  {
   "cell_type": "code",
   "execution_count": null,
   "id": "7bf0c7b0",
   "metadata": {},
   "outputs": [],
   "source": [
    "#Property job_result stores the results of the execution of the job\n",
    "print(IQPE_0.job_result)"
   ]
  },
  {
   "cell_type": "code",
   "execution_count": null,
   "id": "62b1687e",
   "metadata": {},
   "outputs": [],
   "source": [
    "print(IQPE_1.job_result)"
   ]
  },
  {
   "cell_type": "markdown",
   "id": "14b06c28",
   "metadata": {},
   "source": [
    "#### 6. Post-Processing the simulation results\n",
    "\n",
    "Final some postprocesing of the simulated results is needed in order to get the results in a propper way: *get_classicalbits()* method is used. The property **results** store the results in a pandas Dataframe"
   ]
  },
  {
   "cell_type": "code",
   "execution_count": null,
   "id": "b0bf9e33",
   "metadata": {
    "scrolled": true
   },
   "outputs": [],
   "source": [
    "#Finally we want to get the results in a straigtoforward way: we use method get_classicalbits\n",
    "IQPE_0.get_classicalbits()\n",
    "#In property results we store the results as a pandas DataFrame\n",
    "IQPE_0.results"
   ]
  },
  {
   "cell_type": "code",
   "execution_count": null,
   "id": "1d8df2fb",
   "metadata": {
    "scrolled": true
   },
   "outputs": [],
   "source": [
    "#Finally we want to get the results in a straigtoforward way: we use method get_classicalbits\n",
    "IQPE_1.get_classicalbits()\n",
    "#In property results we store the results as a pandas DataFrame\n",
    "IQPE_1.results"
   ]
  },
  {
   "cell_type": "markdown",
   "id": "486d8bab",
   "metadata": {},
   "source": [
    "The **property** results is a pandas DataFrame with the following columns:\n",
    "\n",
    "* **BitString**: is the result of the clasical bits measurement in each step of the algorithm\n",
    "* **BitInt**: integer representation of the **BitString**\n",
    "* **Phi**: is the estimated obtained phase and it is computed as: $\\frac{BitInt}{2^{c_b}}$ where $c_b$ is the number of classical bits \n",
    "\n",
    "In order to obtain the results for classical **amplitude amplification** problem the **proccess_output()** methdo can be used. This method creates a property called **final_results** where final results are stored."
   ]
  },
  {
   "cell_type": "code",
   "execution_count": null,
   "id": "b3afff00",
   "metadata": {},
   "outputs": [],
   "source": [
    "IQPE_0.proccess_output()\n",
    "IQPE_0.final_results"
   ]
  },
  {
   "cell_type": "code",
   "execution_count": null,
   "id": "24d32763",
   "metadata": {},
   "outputs": [],
   "source": [
    "IQPE_1.proccess_output()\n",
    "IQPE_1.final_results"
   ]
  },
  {
   "cell_type": "code",
   "execution_count": null,
   "id": "e8b67592",
   "metadata": {},
   "outputs": [],
   "source": [
    "np.sum(p_X*f_X)"
   ]
  },
  {
   "cell_type": "markdown",
   "id": "698259b6",
   "metadata": {},
   "source": [
    "**final_results** property is the **results** property with some columns with useful calculated values:\n",
    "\n",
    "* **Theta Unitary**: is the phase egienvalue of the Grover-like operator (2*$\\pi$*Phi).\n",
    "* **Theta**: is the rotation angle $\\theta$ applied for the Grover-like operator ($\\pi$*Phi)\n",
    "* **E_p(f)**: ius the desired $E_{x\\sim p}(f)$"
   ]
  },
  {
   "cell_type": "markdown",
   "id": "aeedbf15",
   "metadata": {},
   "source": [
    "## 3. Class IQPE: complete execution"
   ]
  },
  {
   "cell_type": "code",
   "execution_count": null,
   "id": "49cafd3f",
   "metadata": {},
   "outputs": [],
   "source": [
    "#We create a python dictionary for configuration of class\n",
    "n_cbits = 6\n",
    "#We create a python dictionary for configuration of class\n",
    "iqpe_dict = {\n",
    "    'oracle': pf_gate,\n",
    "    'qpu' : lineal_qpu,\n",
    "    'cbits_number' : n_cbits,\n",
    "    #'easy': True,\n",
    "    'easy': False    \n",
    "}"
   ]
  },
  {
   "cell_type": "code",
   "execution_count": null,
   "id": "146ae9d6",
   "metadata": {},
   "outputs": [],
   "source": [
    "#Create the object\n",
    "iqpe_ = IterativeQuantumPE(**iqpe_dict)\n",
    "#Execute complete algorithm\n",
    "iqpe_.iqpe()"
   ]
  },
  {
   "cell_type": "code",
   "execution_count": null,
   "id": "cb652f67",
   "metadata": {},
   "outputs": [],
   "source": [
    "iqpe_.results"
   ]
  },
  {
   "cell_type": "code",
   "execution_count": null,
   "id": "420c6a7e",
   "metadata": {},
   "outputs": [],
   "source": [
    "iqpe_.final_results"
   ]
  },
  {
   "cell_type": "markdown",
   "id": "574e5447",
   "metadata": {},
   "source": [
    "### Multiple executions"
   ]
  },
  {
   "cell_type": "code",
   "execution_count": null,
   "id": "f9ca278f",
   "metadata": {},
   "outputs": [],
   "source": [
    "#We can do several circuit executions configuring input dictionary properly\n",
    "iqpe_dict = {\n",
    "    'oracle': pf_gate,\n",
    "    'qpu' : lineal_qpu,\n",
    "    'cbits_number' : n_cbits,\n",
    "    'easy': False,\n",
    "    'shots': 100\n",
    "}\n",
    "iqpe_ = IterativeQuantumPE(**iqpe_dict)\n",
    "iqpe_.iqpe()"
   ]
  },
  {
   "cell_type": "code",
   "execution_count": null,
   "id": "88f697de",
   "metadata": {},
   "outputs": [],
   "source": [
    "iqpe_.final_results"
   ]
  },
  {
   "cell_type": "code",
   "execution_count": null,
   "id": "f472b321",
   "metadata": {},
   "outputs": [],
   "source": [
    "iqpe_.final_results.sort_values('Theta', inplace=True)\n",
    "plt.plot(iqpe_.final_results['Theta'], iqpe_.final_results['Probability'], 'o')"
   ]
  },
  {
   "cell_type": "code",
   "execution_count": null,
   "id": "fb52a581",
   "metadata": {},
   "outputs": [],
   "source": [
    "iqpe_.final_results.sort_values('theta_90', inplace=True)\n",
    "plt.plot(iqpe_.final_results['theta_90'], iqpe_.final_results['Probability'], 'o')"
   ]
  },
  {
   "cell_type": "code",
   "execution_count": null,
   "id": "827f2b38",
   "metadata": {},
   "outputs": [],
   "source": [
    "plt.hist(iqpe_.final_results['theta_90'])"
   ]
  },
  {
   "cell_type": "code",
   "execution_count": null,
   "id": "fd8cf369",
   "metadata": {},
   "outputs": [],
   "source": [
    "plt.hist(iqpe_.final_results['E_p(f)'])"
   ]
  },
  {
   "cell_type": "code",
   "execution_count": null,
   "id": "cd38534a",
   "metadata": {},
   "outputs": [],
   "source": [
    "iqpe_.final_results['E_p(f)'].describe()"
   ]
  },
  {
   "cell_type": "code",
   "execution_count": null,
   "id": "2f8654c9",
   "metadata": {},
   "outputs": [],
   "source": [
    "sum(p_X*f_X)"
   ]
  },
  {
   "cell_type": "markdown",
   "id": "a1d9cf80",
   "metadata": {},
   "source": [
    "## 4. Qiskit Test"
   ]
  },
  {
   "cell_type": "markdown",
   "id": "ba846a6d",
   "metadata": {},
   "source": [
    "Present section explains how to implement the **IQPE** example from Qiskit textbook using our library class. Following links have the Qiskit examples:\n",
    "\n",
    "https://qiskit.org/textbook/ch-labs/Lab04_IterativePhaseEstimation.html\n",
    "\n",
    "https://github.com/Qiskit/qiskit-tutorials/blob/master/tutorials/algorithms/09_IQPE.ipynb\n"
   ]
  },
  {
   "cell_type": "code",
   "execution_count": null,
   "id": "9a0f3327",
   "metadata": {},
   "outputs": [],
   "source": [
    "#Number Of Qbits\n",
    "n_qbits = 1\n",
    "#Number Of Classical Bits\n",
    "n_cbits = 2"
   ]
  },
  {
   "cell_type": "markdown",
   "id": "d56a9cd8",
   "metadata": {},
   "source": [
    "In the Qiskit example they try to estimate the phase for \n",
    "\n",
    "![title](Qiskit_IQPE.png)"
   ]
  },
  {
   "cell_type": "code",
   "execution_count": null,
   "id": "9f10f1c5",
   "metadata": {},
   "outputs": [],
   "source": [
    "from qat.lang.AQASM import X, PH, QRoutine"
   ]
  },
  {
   "cell_type": "code",
   "execution_count": null,
   "id": "6249cfbe",
   "metadata": {},
   "outputs": [],
   "source": [
    "#Basic Initial circuit and unitary operator whose autovalue we want to compute\n",
    "#Initial_State Program\n",
    "from qat.lang.AQASM import Program, H, X, PH\n",
    "initial_state = Program()\n",
    "q_bits = initial_state.qalloc(n_qbits)\n",
    "for i in range(n_qbits):\n",
    "    initial_state.apply(X, q_bits[i])\n",
    "grover = PH(np.pi/2.0)"
   ]
  },
  {
   "cell_type": "code",
   "execution_count": null,
   "id": "fb6ea460",
   "metadata": {},
   "outputs": [],
   "source": [
    "c = initial_state.to_circ()\n",
    "%qatdisplay c\n",
    "%qatdisplay grover"
   ]
  },
  {
   "cell_type": "code",
   "execution_count": null,
   "id": "d2f179ed",
   "metadata": {},
   "outputs": [],
   "source": [
    "from iterative_quantum_pe import IterativeQuantumPE"
   ]
  },
  {
   "cell_type": "code",
   "execution_count": null,
   "id": "d1d17224",
   "metadata": {},
   "outputs": [],
   "source": [
    "iqpe_dict = {\n",
    "    'initial_state': initial_state,\n",
    "    'grover': grover,    \n",
    "    'qpu' : lineal_qpu,\n",
    "    'cbits_number' : n_cbits,\n",
    "    'shots': 1000,\n",
    "    #'easy': True\n",
    "    'easy': False\n",
    "}\n",
    "IQPE = IterativeQuantumPE(**iqpe_dict)\n",
    "IQPE.iqpe()"
   ]
  },
  {
   "cell_type": "code",
   "execution_count": null,
   "id": "df38faeb",
   "metadata": {},
   "outputs": [],
   "source": [
    "easy_circuit = IQPE.circuit\n",
    "%qatdisplay easy_circuit  --depth 0"
   ]
  },
  {
   "cell_type": "code",
   "execution_count": null,
   "id": "debd33ba",
   "metadata": {},
   "outputs": [],
   "source": [
    "IQPE.results"
   ]
  },
  {
   "cell_type": "code",
   "execution_count": null,
   "id": "60c9a5aa",
   "metadata": {},
   "outputs": [],
   "source": [
    "plt.hist(IQPE.results['Phi'])"
   ]
  },
  {
   "cell_type": "code",
   "execution_count": null,
   "id": "074a89ce",
   "metadata": {},
   "outputs": [],
   "source": [
    "IQPE.results['Phi'].describe()"
   ]
  },
  {
   "cell_type": "markdown",
   "id": "f7934dab",
   "metadata": {},
   "source": [
    "As can be seen in \n",
    "\n",
    "https://github.com/Qiskit/qiskit-tutorials/blob/master/tutorials/algorithms/09_IQPE.ipynb \n",
    "\n",
    "solution in qiskit is just 0.25 for the before configuration"
   ]
  }
 ],
 "metadata": {
  "kernelspec": {
   "display_name": "Python 3 (ipykernel)",
   "language": "python",
   "name": "python3"
  },
  "language_info": {
   "codemirror_mode": {
    "name": "ipython",
    "version": 3
   },
   "file_extension": ".py",
   "mimetype": "text/x-python",
   "name": "python",
   "nbconvert_exporter": "python",
   "pygments_lexer": "ipython3",
   "version": "3.9.9"
  }
 },
 "nbformat": 4,
 "nbformat_minor": 5
}
